{
  "cells": [
    {
      "cell_type": "markdown",
      "metadata": {
        "id": "view-in-github",
        "colab_type": "text"
      },
      "source": [
        "<a href=\"https://colab.research.google.com/github/saikumarreddykorsapati-source/DataScience_Masters_Assignments/blob/main/15_DSM_Assignment.ipynb\" target=\"_parent\"><img src=\"https://colab.research.google.com/assets/colab-badge.svg\" alt=\"Open In Colab\"/></a>"
      ]
    },
    {
      "cell_type": "markdown",
      "id": "488af655",
      "metadata": {
        "id": "488af655"
      },
      "source": [
        "#### 1) How many seconds are in an hour? Use the interactive interpreter as a calculator and multiply the number of seconds in a minute (60) by the number of minutes in an hour (also 60)."
      ]
    },
    {
      "cell_type": "code",
      "execution_count": 3,
      "id": "746ad539",
      "metadata": {
        "colab": {
          "base_uri": "https://localhost:8080/"
        },
        "id": "746ad539",
        "outputId": "b734b96f-69a3-442c-aca7-a009d8eb37f4"
      },
      "outputs": [
        {
          "output_type": "stream",
          "name": "stdout",
          "text": [
            "Number of Seconds in an hour are = 3600\n"
          ]
        }
      ],
      "source": [
        "print(\"Number of Seconds in an hour are = \"+str(60*60))"
      ]
    },
    {
      "cell_type": "markdown",
      "id": "4dc058af",
      "metadata": {
        "id": "4dc058af"
      },
      "source": [
        "#### 2) Assign the result from the previous task (seconds in an hour) to a variable called seconds_per_hour."
      ]
    },
    {
      "cell_type": "code",
      "execution_count": 4,
      "id": "4d81d33b",
      "metadata": {
        "colab": {
          "base_uri": "https://localhost:8080/"
        },
        "id": "4d81d33b",
        "outputId": "886f99f8-6bbe-4baa-c1a2-46e6d9c2eca6"
      },
      "outputs": [
        {
          "output_type": "stream",
          "name": "stdout",
          "text": [
            "3600\n"
          ]
        }
      ],
      "source": [
        "seconds_per_hour = 60*60\n",
        "print(seconds_per_hour)"
      ]
    },
    {
      "cell_type": "markdown",
      "id": "03686497",
      "metadata": {
        "id": "03686497"
      },
      "source": [
        "#### 3) How many seconds do you think there are in a day? Make use of the variables seconds per hour and minutes per hour."
      ]
    },
    {
      "cell_type": "code",
      "execution_count": 8,
      "id": "91da538a",
      "metadata": {
        "colab": {
          "base_uri": "https://localhost:8080/"
        },
        "id": "91da538a",
        "outputId": "b88b79a1-11e3-4521-dc7a-ce1dcd7c369c"
      },
      "outputs": [
        {
          "output_type": "stream",
          "name": "stdout",
          "text": [
            "Number of seconds in a day = 86400\n"
          ]
        }
      ],
      "source": [
        "minutes_per_hour = 60\n",
        "print(\"Number of seconds in a day = {seconds}\".format(seconds = seconds_per_hour*24))"
      ]
    },
    {
      "cell_type": "markdown",
      "id": "6a71cc65",
      "metadata": {
        "id": "6a71cc65"
      },
      "source": [
        "#### 4) Calculate seconds per day again, but this time save the result in a variable called seconds_per_day"
      ]
    },
    {
      "cell_type": "code",
      "execution_count": 9,
      "id": "909641ac",
      "metadata": {
        "colab": {
          "base_uri": "https://localhost:8080/"
        },
        "id": "909641ac",
        "outputId": "7a0eb385-2dff-4571-d3cb-144d5d9883e9"
      },
      "outputs": [
        {
          "output_type": "stream",
          "name": "stdout",
          "text": [
            "86400\n"
          ]
        }
      ],
      "source": [
        "seconds_per_day = 24*60*60\n",
        "print(seconds_per_day)"
      ]
    },
    {
      "cell_type": "markdown",
      "id": "a85c3969",
      "metadata": {
        "id": "a85c3969"
      },
      "source": [
        "#### 5) Divide seconds_per_day by seconds_per_hour. Use floating-point (/) division."
      ]
    },
    {
      "cell_type": "code",
      "execution_count": 10,
      "id": "b4b3aa9f",
      "metadata": {
        "colab": {
          "base_uri": "https://localhost:8080/"
        },
        "id": "b4b3aa9f",
        "outputId": "15132e5a-d543-4552-e153-ce992514240e"
      },
      "outputs": [
        {
          "output_type": "stream",
          "name": "stdout",
          "text": [
            "24.0\n"
          ]
        }
      ],
      "source": [
        "print(seconds_per_day/seconds_per_hour)"
      ]
    },
    {
      "cell_type": "markdown",
      "id": "704f687c",
      "metadata": {
        "id": "704f687c"
      },
      "source": [
        "#### 6) Divide seconds_per_day by seconds_per_hour, using integer (//) division. Did this number agree with the floating-point value from the previous question, aside from the final .0?"
      ]
    },
    {
      "cell_type": "code",
      "execution_count": 15,
      "id": "6adfad23",
      "metadata": {
        "colab": {
          "base_uri": "https://localhost:8080/"
        },
        "id": "6adfad23",
        "outputId": "96f3f3f5-d275-4f8f-e0bb-9255049f60e8"
      },
      "outputs": [
        {
          "output_type": "stream",
          "name": "stdout",
          "text": [
            "24\n",
            "yes this value agree's with the floating point value from the previous question\n"
          ]
        }
      ],
      "source": [
        "print(seconds_per_day//seconds_per_hour)\n",
        "print('yes this value agree\\'s with the floating point value from the previous question')"
      ]
    },
    {
      "cell_type": "markdown",
      "id": "2e59c604",
      "metadata": {
        "id": "2e59c604"
      },
      "source": [
        "#### 7) Write a generator, genPrimes, that returns the sequence of prime numbers on successive calls to its next() method: 2, 3, 5, 7, 11, ..."
      ]
    },
    {
      "cell_type": "code",
      "execution_count": 17,
      "id": "9cfb8a01",
      "metadata": {
        "colab": {
          "base_uri": "https://localhost:8080/"
        },
        "id": "9cfb8a01",
        "outputId": "219dafe7-0731-4956-ea30-49103b95ba6c"
      },
      "outputs": [
        {
          "output_type": "stream",
          "name": "stdout",
          "text": [
            "2\n",
            "3\n",
            "5\n",
            "7\n",
            "11\n"
          ]
        }
      ],
      "source": [
        "def genPrimes():\n",
        "    n = 0\n",
        "    while True:\n",
        "        if n == 2 or n == 3 :\n",
        "            yield n\n",
        "        elif ((n-1)%6 == 0 or (n+1)%6 == 0) and n !=1:\n",
        "            yield n\n",
        "        n = n+1\n",
        "        \n",
        "output = genPrimes()\n",
        "for i in range(5):\n",
        "    print(next(output))"
      ]
    }
  ],
  "metadata": {
    "kernelspec": {
      "display_name": "Python 3 (ipykernel)",
      "language": "python",
      "name": "python3"
    },
    "language_info": {
      "codemirror_mode": {
        "name": "ipython",
        "version": 3
      },
      "file_extension": ".py",
      "mimetype": "text/x-python",
      "name": "python",
      "nbconvert_exporter": "python",
      "pygments_lexer": "ipython3",
      "version": "3.8.8"
    },
    "colab": {
      "name": "15_DSM_Assignment.ipynb",
      "provenance": [],
      "include_colab_link": true
    }
  },
  "nbformat": 4,
  "nbformat_minor": 5
}