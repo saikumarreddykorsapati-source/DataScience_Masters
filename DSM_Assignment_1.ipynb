{
  "nbformat": 4,
  "nbformat_minor": 0,
  "metadata": {
    "colab": {
      "name": "Untitled9.ipynb",
      "provenance": [],
      "authorship_tag": "ABX9TyPFA2OCBU+clUJapmCdo+QP",
      "include_colab_link": true
    },
    "kernelspec": {
      "name": "python3",
      "display_name": "Python 3"
    },
    "language_info": {
      "name": "python"
    }
  },
  "cells": [
    {
      "cell_type": "markdown",
      "metadata": {
        "id": "view-in-github",
        "colab_type": "text"
      },
      "source": [
        "<a href=\"https://colab.research.google.com/github/saikumarreddykorsapati-source/DataScience_Masters_Assignments/blob/main/DSM_Assignment_1.ipynb\" target=\"_parent\"><img src=\"https://colab.research.google.com/assets/colab-badge.svg\" alt=\"Open In Colab\"/></a>"
      ]
    },
    {
      "cell_type": "markdown",
      "source": [
        "1)\n",
        "\n",
        "Values = 'hello', -87.8, 6\n",
        "\n",
        "Expressions = *, -, /, +\n",
        "\n",
        "---"
      ],
      "metadata": {
        "id": "gtp4mxdMsQwc"
      }
    },
    {
      "cell_type": "markdown",
      "source": [
        "2)\n",
        "\n",
        "Difference between string and variable :\n",
        "\n",
        "String : It is a type of variable, sequential collections of characters, usually denoted in single (' ') or double (\" \") quotation marks. A string with no characters often considered as empty string, it is immutable.\n",
        "\n",
        "Variable: It is used to store values, refers to the datavalues located in the memory, it can be of any type either string, int, float.\n",
        "\n",
        "Example : x = \"String_value\" x is variable, \"String_value\" is string type of data\n",
        "\n",
        "Note : Python has ability to understand the type of the variable automatically.\n",
        "\n",
        "\n",
        "\n",
        "---\n",
        "\n"
      ],
      "metadata": {
        "id": "ASsJHP3usabP"
      }
    },
    {
      "cell_type": "markdown",
      "source": [
        "3)\n",
        "\n",
        "Three different data types are : a) String, b) int, c) bool\n",
        "\n",
        "a) String : Anything between single/double quotes becomes string, immutable.\n",
        "    eg: x = \"String_Value\", here String_Value in double quotes is string value and x is string type variable. \n",
        "\n",
        "b) Int : whole numbers are considered as integer values, immutable.\n",
        "    eg: x = 2, here 2 is integer value and x is integer type variable.\n",
        "\n",
        "c) Boolean : represents two values True or False, used to represent truth values (Yes/No) of an expression.\n",
        "    eg: 1==1 True , 2<1 False\n",
        "\n",
        "\n",
        "\n",
        "---\n",
        "\n"
      ],
      "metadata": {
        "id": "NpElRHa0sfei"
      }
    }
  ]
}