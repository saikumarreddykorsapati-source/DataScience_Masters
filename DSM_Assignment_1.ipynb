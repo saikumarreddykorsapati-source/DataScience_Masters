{
  "nbformat": 4,
  "nbformat_minor": 0,
  "metadata": {
    "colab": {
      "name": "DSM_Assignment_1.ipynb",
      "provenance": [],
      "collapsed_sections": [],
      "authorship_tag": "ABX9TyOlmueqh6HShxvRJYfoZEfg",
      "include_colab_link": true
    },
    "kernelspec": {
      "name": "python3",
      "display_name": "Python 3"
    },
    "language_info": {
      "name": "python"
    }
  },
  "cells": [
    {
      "cell_type": "markdown",
      "metadata": {
        "id": "view-in-github",
        "colab_type": "text"
      },
      "source": [
        "<a href=\"https://colab.research.google.com/github/saikumarreddykorsapati-source/DataScience_Masters_Assignments/blob/main/DSM_Assignment_1.ipynb\" target=\"_parent\"><img src=\"https://colab.research.google.com/assets/colab-badge.svg\" alt=\"Open In Colab\"/></a>"
      ]
    },
    {
      "cell_type": "markdown",
      "source": [
        "1)\n",
        "\n",
        "Values = 'hello', -87.8, 6\n",
        "\n",
        "Expressions = *, -, /, +\n",
        "\n",
        "---"
      ],
      "metadata": {
        "id": "gtp4mxdMsQwc"
      }
    },
    {
      "cell_type": "markdown",
      "source": [
        "2)\n",
        "\n",
        "Difference between string and variable :\n",
        "\n",
        "String : It is a type of variable, sequential collections of characters, usually denoted in single (' ') or double (\" \") quotation marks. A string with no characters often considered as empty string, it is immutable.\n",
        "\n",
        "Variable: It is used to store values, refers to the datavalues located in the memory, it can be of any type either string, int, float.\n",
        "\n",
        "Example : x = \"String_value\" x is variable, \"String_value\" is string type of data\n",
        "\n",
        "Note : Python has ability to understand the type of the variable automatically.\n",
        "\n",
        "\n",
        "\n",
        "---\n",
        "\n"
      ],
      "metadata": {
        "id": "ASsJHP3usabP"
      }
    },
    {
      "cell_type": "markdown",
      "source": [
        "3)\n",
        "\n",
        "Three different data types are : a) String, b) int, c) bool\n",
        "\n",
        "a) String : Anything between single/double quotes becomes string, immutable.\n",
        "    eg: x = \"String_Value\", here String_Value in double quotes is string value and x is string type variable. \n",
        "\n",
        "b) Int : whole numbers are considered as integer values, immutable.\n",
        "    eg: x = 2, here 2 is integer value and x is integer type variable.\n",
        "\n",
        "c) Boolean : represents two values True or False, used to represent truth values (Yes/No) of an expression.\n",
        "    eg: 1==1 True , 2<1 False\n",
        "\n",
        "\n",
        "\n",
        "---\n",
        "\n"
      ],
      "metadata": {
        "id": "NpElRHa0sfei"
      }
    },
    {
      "cell_type": "markdown",
      "source": [
        "4)\n",
        "\n",
        "An expression is made up of operators, variables and operands that yeild a result value.\n",
        "An expression is evaluated as per the precedence of its operators. eg: x = 3 + 2\n",
        "\n",
        "---"
      ],
      "metadata": {
        "id": "rkofgjjmtBq3"
      }
    },
    {
      "cell_type": "markdown",
      "source": [
        "5)\n",
        "\n",
        "Major difference between expression and statement is expressions create new values on execution whereas statements returns nothing on execution.\n",
        "\n",
        "\n",
        "---\n",
        "\n"
      ],
      "metadata": {
        "id": "OFvi2OqRujhp"
      }
    },
    {
      "cell_type": "markdown",
      "source": [
        "6) \n",
        "\n",
        "if we execute \n",
        "\n",
        "\n",
        "\n",
        "```\n",
        "bacon = 22\n",
        "\n",
        "bacon + 1\n",
        "```\n",
        "\n",
        "\n",
        "\n",
        "as a result of end of file execution it returns last updated value ie., 23\n",
        "\n",
        "suppose if we print bacon it returns 22.\n",
        "\n",
        "\n",
        "---\n",
        "\n"
      ],
      "metadata": {
        "id": "VznJzR-Hvcqe"
      }
    },
    {
      "cell_type": "markdown",
      "source": [
        "7)\n",
        "\n",
        "\n",
        "\n",
        "```\n",
        "'spam' +  'spamspam'\n",
        "\n",
        "'spam'*3\n",
        "```\n",
        "\n",
        "\n",
        "the output will be same for above two terms ie., 'spamspamspam'.\n",
        "\n",
        "\n",
        "---\n",
        "\n"
      ],
      "metadata": {
        "id": "CuCShiRYwzP4"
      }
    },
    {
      "cell_type": "markdown",
      "source": [
        "8)\n",
        "\n",
        "As per the variable naming rule, variable cannot be started with numbers, but with alphabets and underscore. so eggs is valid where as 100 is invalid.\n",
        "\n",
        "\n",
        "---\n",
        "\n"
      ],
      "metadata": {
        "id": "5YWK2hduxFbN"
      }
    },
    {
      "cell_type": "markdown",
      "source": [
        "9)\n",
        "\n",
        "int() -function to get integer version of values, \n",
        "\n",
        "float()  -function to get floating point number version of values,\n",
        "\n",
        "str()  -function to get string version of values\n",
        "\n",
        "---\n",
        "\n"
      ],
      "metadata": {
        "id": "W67VUTg0xFNj"
      }
    },
    {
      "cell_type": "markdown",
      "source": [
        "10)\n",
        "\n",
        "`'I have eaten' + 99 + 'burritos' `\n",
        "\n",
        "error is here we're tring to concatinate str with integer which is not possible, we can only concatinate string values with string values only.\n",
        "\n",
        "solution to eradicate this error is: \n",
        "\n",
        "`'I have eaten' + str(99) + 'burritos'`\n",
        "\n",
        "using str() we are typecasting integer value to string type, this will fix the error."
      ],
      "metadata": {
        "id": "eB89rLDmxE9b"
      }
    }
  ]
}