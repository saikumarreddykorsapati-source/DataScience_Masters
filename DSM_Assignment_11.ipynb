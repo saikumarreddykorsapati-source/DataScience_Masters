{
  "nbformat": 4,
  "nbformat_minor": 0,
  "metadata": {
    "colab": {
      "name": "DSM_Assignment_11.ipynb",
      "provenance": [],
      "authorship_tag": "ABX9TyMDaG3FjF3XenigFPgeP05p",
      "include_colab_link": true
    },
    "kernelspec": {
      "name": "python3",
      "display_name": "Python 3"
    },
    "language_info": {
      "name": "python"
    }
  },
  "cells": [
    {
      "cell_type": "markdown",
      "metadata": {
        "id": "view-in-github",
        "colab_type": "text"
      },
      "source": [
        "<a href=\"https://colab.research.google.com/github/saikumarreddykorsapati-source/DataScience_Masters_Assignments/blob/main/DSM_Assignment_11.ipynb\" target=\"_parent\"><img src=\"https://colab.research.google.com/assets/colab-badge.svg\" alt=\"Open In Colab\"/></a>"
      ]
    },
    {
      "cell_type": "markdown",
      "source": [
        "1)\n",
        "\n",
        "assert spam < 0 and type(spam) is int,'Only negative integer numbers are allowed'\n",
        "---\n",
        "\n"
      ],
      "metadata": {
        "id": "UMgb28ipUPrD"
      }
    },
    {
      "cell_type": "code",
      "source": [
        "spam = int(input(\"Enter Number\"))\n",
        "assert spam < 0 and type(spam) is int,'Only negative integer numbers are allowed'\n",
        "print(spam)\n"
      ],
      "metadata": {
        "id": "uLcaHHBmofkT"
      },
      "execution_count": null,
      "outputs": []
    },
    {
      "cell_type": "markdown",
      "source": [
        "\n",
        "\n",
        "---\n",
        "\n"
      ],
      "metadata": {
        "id": "dtQ5GOPmpTUq"
      }
    },
    {
      "cell_type": "markdown",
      "source": [
        "2)\n",
        "\n",
        "assert eggs.lower() != bacon.lower(), 'The eggs and bacon variables are the same!' or assert eggs.upper() != bacon.upper(), 'The eggs and bacon variables are the same!'\n",
        "\n",
        "---\n",
        "\n"
      ],
      "metadata": {
        "id": "lgMW1TjXkGne"
      }
    },
    {
      "cell_type": "markdown",
      "source": [
        "3)\n",
        "\n",
        "assert False, 'This assertion always triggers.'\n",
        "\n",
        "---\n",
        "\n"
      ],
      "metadata": {
        "id": "q3S46wm6kHvV"
      }
    },
    {
      "cell_type": "markdown",
      "source": [
        "4)\n",
        "\n",
        "To be able to call logging.debug(), you must have these two lines at the start of your program:\n",
        "\n",
        "\n",
        "```\n",
        "import logging\n",
        "logging.basicConfig(level=logging.DEBUG, format=' %(asctime)s -\n",
        "%(levelname)s - %(message)s')\n",
        "```\n",
        "---\n",
        "\n"
      ],
      "metadata": {
        "id": "wPAPshohkJQ8"
      }
    },
    {
      "cell_type": "markdown",
      "source": [
        "5)\n",
        "\n",
        "To be able to send logging messages to a file named programLog.txt with logging.debug(), you must have these two lines at the start of your program:\n",
        "\n",
        "\n",
        "```\n",
        "import logging\n",
        "\n",
        "logging.basicConfig(filename='programLog.txt', level=logging.DEBUG,\n",
        "\n",
        "format=' %(asctime)s - %(levelname)s - %(message)s')\n",
        "```\n",
        "\n",
        "---\n",
        "\n"
      ],
      "metadata": {
        "id": "WOfyV1CxkKZh"
      }
    },
    {
      "cell_type": "markdown",
      "source": [
        "6)\n",
        "\n",
        "DEBUG, INFO, WARNING, ERROR, and CRITICAL\n",
        "\n",
        "---\n",
        "\n"
      ],
      "metadata": {
        "id": "PUibWWPNkLN_"
      }
    },
    {
      "cell_type": "markdown",
      "source": [
        "7)\n",
        "\n",
        "logging.disable(logging.CRITICAL)\n",
        "\n",
        "---\n",
        "\n"
      ],
      "metadata": {
        "id": "22DZQm5okMM1"
      }
    },
    {
      "cell_type": "markdown",
      "source": [
        "8)\n",
        "\n",
        "You can disable logging messages without removing the logging function calls. You can selectively disable lower-level logging messages. You can create logging messages. Logging messages provides a timestamp.\n",
        "\n",
        "---\n",
        "\n"
      ],
      "metadata": {
        "id": "KJO7Z-D5kNO4"
      }
    },
    {
      "cell_type": "markdown",
      "source": [
        "9)\n",
        "\n",
        "The Step button will move the debugger into a function call. \n",
        "\n",
        "The Over button will quickly execute the function call without stepping into it. \n",
        "\n",
        "The Out button will quickly execute the rest of the code until it steps out of the function it currently is in.\n",
        "\n",
        "step in debugger Executes the current statement and then stops at the next statement. If the current statement is a function or script call, then the debugger steps into that function or script, otherwise it stops at the next statement.\n",
        "\n",
        "---\n",
        "\n"
      ],
      "metadata": {
        "id": "kyUus4j1kOBP"
      }
    },
    {
      "cell_type": "markdown",
      "source": [
        "10)\n",
        "\n",
        "After you click Go, the debugger will stop when it has reached the end of the program or a line with a breakpoint.\n",
        "\n",
        "---\n",
        "\n"
      ],
      "metadata": {
        "id": "1Xn4kg8HkOwX"
      }
    },
    {
      "cell_type": "markdown",
      "source": [
        "11)\n",
        "\n",
        "A breakpoint is a setting on a line of code that causes the debugger to pause when the program execution reaches the line.\n",
        "\n",
        "\n",
        "\n"
      ],
      "metadata": {
        "id": "wfccGMG-kPkd"
      }
    }
  ]
}