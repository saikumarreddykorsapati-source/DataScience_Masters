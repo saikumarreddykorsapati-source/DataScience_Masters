{
  "nbformat": 4,
  "nbformat_minor": 0,
  "metadata": {
    "colab": {
      "name": "DSM_Assignment_12.ipynb",
      "provenance": [],
      "authorship_tag": "ABX9TyNsH7l3Trj/sFbFCw5DvO2M",
      "include_colab_link": true
    },
    "kernelspec": {
      "name": "python3",
      "display_name": "Python 3"
    },
    "language_info": {
      "name": "python"
    }
  },
  "cells": [
    {
      "cell_type": "markdown",
      "metadata": {
        "id": "view-in-github",
        "colab_type": "text"
      },
      "source": [
        "<a href=\"https://colab.research.google.com/github/saikumarreddykorsapati-source/DataScience_Masters_Assignments/blob/main/DSM_Assignment_12.ipynb\" target=\"_parent\"><img src=\"https://colab.research.google.com/assets/colab-badge.svg\" alt=\"Open In Colab\"/></a>"
      ]
    },
    {
      "cell_type": "markdown",
      "source": [
        "1)\n",
        "\n",
        "Read-binary ('rb') for PdfFileReader() and write-binary ('wb') for PdfFileWriter()\n",
        "\n",
        "---\n",
        "\n"
      ],
      "metadata": {
        "id": "UMgb28ipUPrD"
      }
    },
    {
      "cell_type": "markdown",
      "source": [
        "2)\n",
        "\n",
        "Calling getPage(4) will return a Page object for About this Book, since page 0 is the first page.\n",
        "\n",
        "---\n",
        "\n"
      ],
      "metadata": {
        "id": "lgMW1TjXkGne"
      }
    },
    {
      "cell_type": "markdown",
      "source": [
        "3)\n",
        "\n",
        "The numPages variable stores an integer of the number of pages in the PdfFileReader object.\n",
        "\n",
        "---\n",
        "\n"
      ],
      "metadata": {
        "id": "q3S46wm6kHvV"
      }
    },
    {
      "cell_type": "markdown",
      "source": [
        "4)\n",
        "\n",
        "Call decrypt('swordfish')\n",
        "\n",
        "---\n",
        "\n"
      ],
      "metadata": {
        "id": "wPAPshohkJQ8"
      }
    },
    {
      "cell_type": "markdown",
      "source": [
        "5)\n",
        "\n",
        "We are using rotateClockwise(90) method to rotate the page clockwise by 90-degrees. We are adding the rotated pages to the PdfFileWriter instance.\n",
        "\n",
        "\n",
        "---\n",
        "\n"
      ],
      "metadata": {
        "id": "WOfyV1CxkKZh"
      }
    },
    {
      "cell_type": "markdown",
      "source": [
        "6)\n",
        "\n",
        "A document contains multiple paragraphs. A paragraph begins on a new line and contains multiple runs. Runs are contiguous groups of characters within the a paragraph.\n",
        "\n",
        "---\n",
        "\n"
      ],
      "metadata": {
        "id": "PUibWWPNkLN_"
      }
    },
    {
      "cell_type": "markdown",
      "source": [
        "7)\n",
        "\n",
        "Use doc.paragraphs\n",
        "\n",
        "---\n",
        "\n"
      ],
      "metadata": {
        "id": "22DZQm5okMM1"
      }
    },
    {
      "cell_type": "markdown",
      "source": [
        "8)\n",
        "\n",
        "A Run object has these variables (not a paragraph)\n",
        "\n",
        "---\n",
        "\n"
      ],
      "metadata": {
        "id": "KJO7Z-D5kNO4"
      }
    },
    {
      "cell_type": "markdown",
      "source": [
        "9)\n",
        "\n",
        "True always makes the Run object bolded and False makes it always not bolded, no matter what the style's bold setting is. None will make the Run object just use the style's bold setting.\n",
        "\n",
        "---\n",
        "\n"
      ],
      "metadata": {
        "id": "kyUus4j1kOBP"
      }
    },
    {
      "cell_type": "markdown",
      "source": [
        "10)\n",
        "\n",
        "Call the docx.Document() function\n",
        "\n",
        "---\n",
        "\n"
      ],
      "metadata": {
        "id": "1Xn4kg8HkOwX"
      }
    },
    {
      "cell_type": "markdown",
      "source": [
        "11)\n",
        "\n",
        "doc.add_paragraph('Hello there!')\n",
        "\n",
        "---\n",
        "\n"
      ],
      "metadata": {
        "id": "wfccGMG-kPkd"
      }
    },
    {
      "cell_type": "markdown",
      "source": [
        "12)\n",
        "\n",
        "The integers 0,1,2,3, and 4\n",
        "\n",
        "---\n",
        "\n"
      ],
      "metadata": {
        "id": "TH0rTMR6lHFj"
      }
    }
  ]
}