{
  "nbformat": 4,
  "nbformat_minor": 0,
  "metadata": {
    "colab": {
      "name": "DSM_Assignment_13.ipynb",
      "provenance": [],
      "authorship_tag": "ABX9TyO6rHHn4MWIGZio7zve0qND",
      "include_colab_link": true
    },
    "kernelspec": {
      "name": "python3",
      "display_name": "Python 3"
    },
    "language_info": {
      "name": "python"
    }
  },
  "cells": [
    {
      "cell_type": "markdown",
      "metadata": {
        "id": "view-in-github",
        "colab_type": "text"
      },
      "source": [
        "<a href=\"https://colab.research.google.com/github/saikumarreddykorsapati-source/DataScience_Masters_Assignments/blob/main/DSM_Assignment_13.ipynb\" target=\"_parent\"><img src=\"https://colab.research.google.com/assets/colab-badge.svg\" alt=\"Open In Colab\"/></a>"
      ]
    },
    {
      "cell_type": "markdown",
      "source": [
        "1)\n",
        "\n",
        "In Excel, spreadsheets can have values of data types other than strings; cells can have different fonts, sizes, or color settings; cells can have varying widths and heights; adjacent cells can be merged; and you can embed images and charts.\n",
        "\n",
        "---\n",
        "\n"
      ],
      "metadata": {
        "id": "UMgb28ipUPrD"
      }
    },
    {
      "cell_type": "markdown",
      "source": [
        "2)\n",
        "\n",
        "You pass a File object, obtained from a call to open()\n",
        "\n",
        "---\n",
        "\n"
      ],
      "metadata": {
        "id": "lgMW1TjXkGne"
      }
    },
    {
      "cell_type": "markdown",
      "source": [
        "3)\n",
        "\n",
        "File objects need to be opened in read-binary ('rb') for Reader objects and write-binary ('wb') for Writer objects.\n",
        "\n",
        "---\n",
        "\n"
      ],
      "metadata": {
        "id": "q3S46wm6kHvV"
      }
    },
    {
      "cell_type": "markdown",
      "source": [
        "4)\n",
        "\n",
        "The writerow() method\n",
        "\n",
        "---\n",
        "\n"
      ],
      "metadata": {
        "id": "wPAPshohkJQ8"
      }
    },
    {
      "cell_type": "markdown",
      "source": [
        "5)\n",
        "\n",
        "The delimiter argument changes the string used to separate cells in a row. The lineterminator argument changes the string used to separate rows.\n",
        "\n",
        "---\n",
        "\n"
      ],
      "metadata": {
        "id": "WOfyV1CxkKZh"
      }
    },
    {
      "cell_type": "markdown",
      "source": [
        "6)\n",
        "\n",
        "json.loads()\n",
        "\n",
        "---\n",
        "\n"
      ],
      "metadata": {
        "id": "PUibWWPNkLN_"
      }
    },
    {
      "cell_type": "markdown",
      "source": [
        "7)\n",
        "\n",
        "json.dumps()\n",
        "\n",
        "---\n",
        "\n"
      ],
      "metadata": {
        "id": "22DZQm5okMM1"
      }
    }
  ]
}