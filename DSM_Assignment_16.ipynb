{
  "cells": [
    {
      "cell_type": "markdown",
      "metadata": {
        "id": "view-in-github",
        "colab_type": "text"
      },
      "source": [
        "<a href=\"https://colab.research.google.com/github/saikumarreddykorsapati-source/DataScience_Masters_Assignments/blob/main/DSM_Assignment_16.ipynb\" target=\"_parent\"><img src=\"https://colab.research.google.com/assets/colab-badge.svg\" alt=\"Open In Colab\"/></a>"
      ]
    },
    {
      "cell_type": "markdown",
      "id": "8b2e208a",
      "metadata": {
        "id": "8b2e208a"
      },
      "source": [
        "#### 1) Create a list called years_list, starting with the year of your birth, and each year thereafter until the year of your fifth birthday. For example, if you were born in 1980. the list would be years_list = [1980, 1981, 1982, 1983, 1984, 1985]."
      ]
    },
    {
      "cell_type": "code",
      "execution_count": 2,
      "id": "f98f2f79",
      "metadata": {
        "colab": {
          "base_uri": "https://localhost:8080/"
        },
        "id": "f98f2f79",
        "outputId": "83c9d6bf-032f-4d75-b461-c6d64873c6ac"
      },
      "outputs": [
        {
          "output_type": "stream",
          "name": "stdout",
          "text": [
            "[1998, 1999, 2000, 2001, 2002, 2003]\n"
          ]
        }
      ],
      "source": [
        "years_list = [ele for ele in range(1998,1998+6)]\n",
        "print(years_list)"
      ]
    },
    {
      "cell_type": "markdown",
      "id": "53f11d18",
      "metadata": {
        "id": "53f11d18"
      },
      "source": [
        "#### 2) In which year in years_list was your third birthday? Remember, you were 0 years of age for your first year."
      ]
    },
    {
      "cell_type": "code",
      "execution_count": 3,
      "id": "73ed754a",
      "metadata": {
        "colab": {
          "base_uri": "https://localhost:8080/"
        },
        "id": "73ed754a",
        "outputId": "7725990c-5f1d-4447-9e8d-f3fdfb1b05a9"
      },
      "outputs": [
        {
          "output_type": "stream",
          "name": "stdout",
          "text": [
            "2001\n"
          ]
        }
      ],
      "source": [
        "print(years_list[3])"
      ]
    },
    {
      "cell_type": "markdown",
      "id": "75fe5c14",
      "metadata": {
        "id": "75fe5c14"
      },
      "source": [
        "#### 3) In the years list, which year were you the oldest?"
      ]
    },
    {
      "cell_type": "code",
      "execution_count": 4,
      "id": "dbf3bf0e",
      "metadata": {
        "colab": {
          "base_uri": "https://localhost:8080/"
        },
        "id": "dbf3bf0e",
        "outputId": "0a0b5ad0-50a4-46ea-fae4-a37f817bf78c"
      },
      "outputs": [
        {
          "output_type": "stream",
          "name": "stdout",
          "text": [
            "2003\n"
          ]
        }
      ],
      "source": [
        "print(years_list[-1])"
      ]
    },
    {
      "cell_type": "markdown",
      "id": "547d3121",
      "metadata": {
        "id": "547d3121"
      },
      "source": [
        "#### 4) Make a list called things with these three strings as elements: \"mozzarella\", \"cinderella\", \"salmonella\"."
      ]
    },
    {
      "cell_type": "code",
      "execution_count": 6,
      "id": "7d0e9971",
      "metadata": {
        "colab": {
          "base_uri": "https://localhost:8080/"
        },
        "id": "7d0e9971",
        "outputId": "22c67bd4-c402-41cf-f205-daa9fba7f726"
      },
      "outputs": [
        {
          "output_type": "stream",
          "name": "stdout",
          "text": [
            "['mozzarella', 'cinderella', 'salmonella']\n"
          ]
        }
      ],
      "source": [
        "things = [i+'ella' for i in ['mozzar','cinder','salmon']]\n",
        "print(things)"
      ]
    },
    {
      "cell_type": "markdown",
      "id": "343162ff",
      "metadata": {
        "id": "343162ff"
      },
      "source": [
        "#### 5) Capitalize the element in things that refers to a person and then print the list. Did it change the element in the list?"
      ]
    },
    {
      "cell_type": "code",
      "execution_count": 8,
      "id": "2cb97cb0",
      "metadata": {
        "colab": {
          "base_uri": "https://localhost:8080/"
        },
        "id": "2cb97cb0",
        "outputId": "8b39df4f-1f11-4c92-ac14-91d01b8260dd"
      },
      "outputs": [
        {
          "output_type": "stream",
          "name": "stdout",
          "text": [
            "['mozzarella', 'Cinderella', 'salmonella']\n"
          ]
        }
      ],
      "source": [
        "for i in range(len(things)):\n",
        "    if things[i] == 'cinderella':\n",
        "        things[i] = things[i].capitalize()\n",
        "print(things)"
      ]
    },
    {
      "cell_type": "markdown",
      "id": "1a3f12df",
      "metadata": {
        "id": "1a3f12df"
      },
      "source": [
        "#### 6) Make a surprise list with the elements \"Groucho,\" \"Chico,\" and \"Harpo.\""
      ]
    },
    {
      "cell_type": "code",
      "execution_count": 11,
      "id": "2baf9583",
      "metadata": {
        "colab": {
          "base_uri": "https://localhost:8080/"
        },
        "id": "2baf9583",
        "outputId": "20e0d7d1-9107-4e35-dd6d-684a51d53993"
      },
      "outputs": [
        {
          "output_type": "stream",
          "name": "stdout",
          "text": [
            "['Groucho', 'Chico', 'Harpo']\n"
          ]
        }
      ],
      "source": [
        "suprise_list = ['Groucho','Chico','Harpo']\n",
        "print(suprise_list)"
      ]
    },
    {
      "cell_type": "markdown",
      "id": "363d3992",
      "metadata": {
        "id": "363d3992"
      },
      "source": [
        "#### 7) Lowercase the last element of the surprise list, reverse it, and then capitalize it."
      ]
    },
    {
      "cell_type": "code",
      "execution_count": 12,
      "id": "68e92414",
      "metadata": {
        "colab": {
          "base_uri": "https://localhost:8080/"
        },
        "id": "68e92414",
        "outputId": "e2fbb744-77ab-41ef-b505-45cb848c3c98"
      },
      "outputs": [
        {
          "output_type": "stream",
          "name": "stdout",
          "text": [
            "Oprah\n"
          ]
        }
      ],
      "source": [
        "print(suprise_list[-1].lower()[::-1].capitalize())"
      ]
    },
    {
      "cell_type": "markdown",
      "id": "fca0656b",
      "metadata": {
        "id": "fca0656b"
      },
      "source": [
        "#### 8) Make an English-to-French dictionary called e2f and print it. Here are your starter words: dog is chien, cat is chat, and walrus is morse."
      ]
    },
    {
      "cell_type": "code",
      "execution_count": 13,
      "id": "c44ff88e",
      "metadata": {
        "colab": {
          "base_uri": "https://localhost:8080/"
        },
        "id": "c44ff88e",
        "outputId": "7469091e-1835-47c5-e1bd-d15be0082c1d"
      },
      "outputs": [
        {
          "output_type": "stream",
          "name": "stdout",
          "text": [
            "{'dog': 'chien', 'cat': 'chat', 'walrus': 'morse'}\n"
          ]
        }
      ],
      "source": [
        "e2f = {'dog':'chien','cat':'chat','walrus':'morse'}\n",
        "print(e2f)"
      ]
    },
    {
      "cell_type": "markdown",
      "id": "30528203",
      "metadata": {
        "id": "30528203"
      },
      "source": [
        "#### 9) Write the French word for walrus in your three-word dictionary e2f."
      ]
    },
    {
      "cell_type": "code",
      "execution_count": 14,
      "id": "2f33cb74",
      "metadata": {
        "colab": {
          "base_uri": "https://localhost:8080/"
        },
        "id": "2f33cb74",
        "outputId": "11202f78-93e6-4a42-d32e-2bcd2a6c5378"
      },
      "outputs": [
        {
          "output_type": "stream",
          "name": "stdout",
          "text": [
            "morse\n"
          ]
        }
      ],
      "source": [
        "print(e2f.get('walrus'))"
      ]
    },
    {
      "cell_type": "markdown",
      "id": "cd6847c4",
      "metadata": {
        "id": "cd6847c4"
      },
      "source": [
        "#### 10) Make a French-to-English dictionary called f2e from e2f. Use the items method."
      ]
    },
    {
      "cell_type": "code",
      "execution_count": 16,
      "id": "36bc927e",
      "metadata": {
        "colab": {
          "base_uri": "https://localhost:8080/"
        },
        "id": "36bc927e",
        "outputId": "2e30164f-25b1-4604-f338-f116a422459b"
      },
      "outputs": [
        {
          "output_type": "stream",
          "name": "stdout",
          "text": [
            "{'chien': 'dog', 'chat': 'cat', 'morse': 'walrus'}\n"
          ]
        }
      ],
      "source": [
        "f2e = dict([i[::-1] for i in e2f.items()])\n",
        "print(f2e)"
      ]
    },
    {
      "cell_type": "markdown",
      "id": "5b97492b",
      "metadata": {
        "id": "5b97492b"
      },
      "source": [
        "#### 11) Print the English version of the French word chien using f2e."
      ]
    },
    {
      "cell_type": "code",
      "execution_count": 17,
      "id": "491998e7",
      "metadata": {
        "colab": {
          "base_uri": "https://localhost:8080/"
        },
        "id": "491998e7",
        "outputId": "0c4767d4-516e-4a59-fcd5-d3725f252d32"
      },
      "outputs": [
        {
          "output_type": "stream",
          "name": "stdout",
          "text": [
            "dog\n"
          ]
        }
      ],
      "source": [
        "print(f2e.get('chien'))"
      ]
    },
    {
      "cell_type": "markdown",
      "id": "f23702c7",
      "metadata": {
        "id": "f23702c7"
      },
      "source": [
        "#### 12) Make and print a set of English words from the keys in e2f."
      ]
    },
    {
      "cell_type": "code",
      "execution_count": 25,
      "id": "87105261",
      "metadata": {
        "colab": {
          "base_uri": "https://localhost:8080/"
        },
        "id": "87105261",
        "outputId": "30698e46-1b6e-42dc-958f-a8c4da3cf0ca"
      },
      "outputs": [
        {
          "output_type": "stream",
          "name": "stdout",
          "text": [
            "List of English words = ['dog', 'cat', 'walrus']\n",
            "\n",
            "Set of English words = {'cat', 'dog', 'walrus'}\n"
          ]
        }
      ],
      "source": [
        "print(\"List of English words = {List}\".format(List = list(e2f.keys())), end=\"\\n\\n\")\n",
        "\n",
        "print(\"Set of English words = {Set}\".format(Set = set(e2f.keys())))"
      ]
    },
    {
      "cell_type": "markdown",
      "id": "4e256021",
      "metadata": {
        "id": "4e256021"
      },
      "source": [
        "#### 13) Make a multilevel dictionary called life. Use these strings for the topmost keys: 'animals', 'plants', and 'other'. Make the 'animals' key refer to another dictionary with the keys 'cats', 'octopi', and 'emus'. Make the 'cats' key refer to a list of strings with the values 'Henri', 'Grumpy', and 'Lucy'. Make all the other keys refer to empty dictionaries."
      ]
    },
    {
      "cell_type": "code",
      "execution_count": 27,
      "id": "7f38dfaf",
      "metadata": {
        "colab": {
          "base_uri": "https://localhost:8080/"
        },
        "id": "7f38dfaf",
        "outputId": "cfdc5c78-c4db-4928-d9be-5812f32d1eb2"
      },
      "outputs": [
        {
          "output_type": "stream",
          "name": "stdout",
          "text": [
            "{'animals': {'cats': ['Henri', 'Grumpy', 'Lucy'], 'octopi': {}, 'emus': {}}, 'plants': {}, 'other': {}}\n"
          ]
        }
      ],
      "source": [
        "life = {\n",
        "    'animals':{\n",
        "        'cats':['Henri','Grumpy','Lucy'],\n",
        "        'octopi':{},\n",
        "        'emus':{}\n",
        "    },\n",
        "    'plants':{},\n",
        "    'other':{}\n",
        "}\n",
        "print(life)"
      ]
    },
    {
      "cell_type": "markdown",
      "id": "3616f392",
      "metadata": {
        "id": "3616f392"
      },
      "source": [
        "#### 14) Print the top-level keys of life."
      ]
    },
    {
      "cell_type": "code",
      "execution_count": 28,
      "id": "035ef2db",
      "metadata": {
        "colab": {
          "base_uri": "https://localhost:8080/"
        },
        "id": "035ef2db",
        "outputId": "08a216cd-9f83-4aa2-baf2-ab1204680c37"
      },
      "outputs": [
        {
          "output_type": "stream",
          "name": "stdout",
          "text": [
            "['animals', 'plants', 'other']\n"
          ]
        }
      ],
      "source": [
        "print(list(life.keys()))"
      ]
    },
    {
      "cell_type": "markdown",
      "id": "e1d4ef45",
      "metadata": {
        "id": "e1d4ef45"
      },
      "source": [
        "#### 15) Print the keys for life['animals']."
      ]
    },
    {
      "cell_type": "code",
      "execution_count": 29,
      "id": "b05d9f11",
      "metadata": {
        "colab": {
          "base_uri": "https://localhost:8080/"
        },
        "id": "b05d9f11",
        "outputId": "c0dc627b-3859-4307-9185-b3cd244660f9"
      },
      "outputs": [
        {
          "output_type": "stream",
          "name": "stdout",
          "text": [
            "['cats', 'octopi', 'emus']\n"
          ]
        }
      ],
      "source": [
        "print(list(life['animals'].keys()))"
      ]
    },
    {
      "cell_type": "markdown",
      "id": "8dfc03a8",
      "metadata": {
        "id": "8dfc03a8"
      },
      "source": [
        "#### 16) Print the values for life['animals']['cats']"
      ]
    },
    {
      "cell_type": "code",
      "execution_count": 30,
      "id": "8a2b4b95",
      "metadata": {
        "colab": {
          "base_uri": "https://localhost:8080/"
        },
        "id": "8a2b4b95",
        "outputId": "2e5bab15-18a6-434e-8e4a-bf2cafbbc227"
      },
      "outputs": [
        {
          "output_type": "stream",
          "name": "stdout",
          "text": [
            "['Henri', 'Grumpy', 'Lucy']\n"
          ]
        }
      ],
      "source": [
        "print(life['animals']['cats'])"
      ]
    }
  ],
  "metadata": {
    "kernelspec": {
      "display_name": "Python 3 (ipykernel)",
      "language": "python",
      "name": "python3"
    },
    "language_info": {
      "codemirror_mode": {
        "name": "ipython",
        "version": 3
      },
      "file_extension": ".py",
      "mimetype": "text/x-python",
      "name": "python",
      "nbconvert_exporter": "python",
      "pygments_lexer": "ipython3",
      "version": "3.8.8"
    },
    "colab": {
      "name": "DSM_Assignment_16.ipynb",
      "provenance": [],
      "include_colab_link": true
    }
  },
  "nbformat": 4,
  "nbformat_minor": 5
}