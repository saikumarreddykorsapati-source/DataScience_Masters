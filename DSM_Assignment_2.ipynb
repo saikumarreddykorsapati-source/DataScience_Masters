{
  "nbformat": 4,
  "nbformat_minor": 0,
  "metadata": {
    "colab": {
      "name": "DSM_Assignment_2.ipynb",
      "provenance": [],
      "collapsed_sections": [],
      "authorship_tag": "ABX9TyOCJZqC9971WRGUbrg45gEi",
      "include_colab_link": true
    },
    "kernelspec": {
      "name": "python3",
      "display_name": "Python 3"
    },
    "language_info": {
      "name": "python"
    }
  },
  "cells": [
    {
      "cell_type": "markdown",
      "metadata": {
        "id": "view-in-github",
        "colab_type": "text"
      },
      "source": [
        "<a href=\"https://colab.research.google.com/github/saikumarreddykorsapati-source/DataScience_Masters_Assignments/blob/main/DSM_Assignment_2.ipynb\" target=\"_parent\"><img src=\"https://colab.research.google.com/assets/colab-badge.svg\" alt=\"Open In Colab\"/></a>"
      ]
    },
    {
      "cell_type": "markdown",
      "source": [
        "1)  \n",
        "\n",
        "The two values of type bool: True and False. They are used as the values of expressions that have yes-or-no answers. \n",
        "\n",
        "we write them in this fashion :\n",
        "\n",
        "a = True \n",
        "\n",
        "b = False \n",
        "\n",
        "\n",
        "---\n",
        "\n"
      ],
      "metadata": {
        "id": "WZgSiq3uIWYk"
      }
    },
    {
      "cell_type": "markdown",
      "source": [
        "2) \n",
        "\n",
        "Three different types of boolean operator are:\n",
        "\n",
        "a) and b) or c) not\n",
        "\n",
        "eg:\n",
        "\n",
        "print((9 > 7) and (2 < 4)) # Both original expressions are True\n",
        "\n",
        "print((8 == 8) or (6 != 6))\t# One original expression is True\n",
        "\n",
        "print(not(3 <= 1)) # The original expression is False\n",
        "\n",
        "\n",
        "---\n",
        "\n"
      ],
      "metadata": {
        "id": "LlZCF5JNUpj0"
      }
    },
    {
      "cell_type": "markdown",
      "source": [
        "3)\n",
        "\n",
        "**== Truth Table**\n",
        "```\n",
        "  x   ==   y\tReturns\n",
        "True  ==  True   True\n",
        "True  ==  False  False\n",
        "False ==  True   False\n",
        "False ==  False  True\n",
        "```\n",
        "**AND Truth Table**\n",
        "```\n",
        "    x  and  y   Returns\n",
        "True  and  True   True\n",
        "True  and  False  False\n",
        "False and  True   False\n",
        "False and  False  False\n",
        "```\n",
        "\n",
        "**OR Truth Table**\n",
        "```\n",
        "   x  or   y    Returns\n",
        "True  or  True   True\n",
        "True  or  False  True\n",
        "False or  True   True\n",
        "False or  False  False\n",
        "```\n",
        "\n",
        "**NOT Truth Table**\n",
        "```\n",
        "not  x     Returns\n",
        "not  True  False\n",
        "not  False True\n",
        "```\n",
        "\n",
        "\n",
        "\n",
        "---\n",
        "\n",
        "\n",
        "\n",
        "\n"
      ],
      "metadata": {
        "id": "kD32Q0kZVooJ"
      }
    },
    {
      "cell_type": "markdown",
      "source": [
        "4)\n",
        "\n",
        "*(5 &gt; 4) and (3 == 5)* **= False**\n",
        "\n",
        "*not (5 &gt; 4)* **=False**\n",
        "\n",
        "*(5 &gt; 4) or (3 == 5)* **=True**\n",
        "\n",
        "*not ((5 &gt; 4) or (3 == 5))* **=False**\n",
        "\n",
        "*(True and True) and (True == False)* **=False**\n",
        "\n",
        "*(not False) or (not True)* **=True**\n",
        "\n",
        "\n",
        "---\n",
        "\n"
      ],
      "metadata": {
        "id": "DzvmEIUGbV63"
      }
    },
    {
      "cell_type": "markdown",
      "source": [
        "5)\n",
        "\n",
        "**Python has six comparison operators:**\n",
        "\n",
        "less than ( < ),\n",
        "\n",
        "less than or equal to ( <= ),\n",
        "\n",
        "greater than ( > ),\n",
        "\n",
        "greater than or equal to ( >= ),\n",
        "\n",
        "equal to ( == ), and  \n",
        "\n",
        "not equal to ( != ).\n",
        "\n",
        "\n",
        "---\n",
        "\n"
      ],
      "metadata": {
        "id": "rTU8NovobxBS"
      }
    },
    {
      "cell_type": "markdown",
      "source": [
        "6)\n",
        "\n",
        "= (Assignment) and == (Equal to) operators :\n",
        "\n",
        "The “=” is an assignment operator is used to assign the value on the right to the variable on the left.\n",
        "\n",
        "The '==' operator checks whether the two given operands are equal or not. If so, it returns true.\n",
        "\n",
        "\n",
        "---\n",
        "\n"
      ],
      "metadata": {
        "id": "JH7wXUFnhY5S"
      }
    },
    {
      "cell_type": "markdown",
      "source": [
        "7)\n",
        "\n",
        "spam = 0\n",
        "\n",
        "if spam == 10: **# Block-1** \n",
        "\n",
        "> print(&#39;eggs&#39;)\n",
        "\n",
        "if spam &gt; 5: **# Block-2** \n",
        "\n",
        ">  print(&#39;bacon&#39;)\n",
        "\n",
        "else:  **# Block-3** \n",
        "\n",
        ">  print(&#39;ham&#39;)\n",
        "\n",
        ">  print(&#39;spam&#39;)\n",
        "\n",
        "\n",
        "print(&#39;spam&#39;)\n",
        "\n",
        "\n",
        "\n",
        "---\n",
        "\n"
      ],
      "metadata": {
        "id": "63O2PkIiiYZ8"
      }
    },
    {
      "cell_type": "markdown",
      "source": [
        "8)\n"
      ],
      "metadata": {
        "id": "PWbJBvRRkZz1"
      }
    },
    {
      "cell_type": "code",
      "source": [
        "def spam(x):\n",
        "\n",
        "  if x == 1:\n",
        "    print('Hello')\n",
        "  elif x == 2:\n",
        "    print('Howdy')\n",
        "  else:\n",
        "    print('Greetings!')\n",
        "spam(1)\n",
        "spam(2)\n",
        "spam(3)"
      ],
      "metadata": {
        "colab": {
          "base_uri": "https://localhost:8080/"
        },
        "id": "5jb3VtjqlK-W",
        "outputId": "16b1b29d-eb70-429d-a4d8-5cb6081a101b"
      },
      "execution_count": 10,
      "outputs": [
        {
          "output_type": "stream",
          "name": "stdout",
          "text": [
            "Hello\n",
            "Howdy\n",
            "Greetings!\n"
          ]
        }
      ]
    },
    {
      "cell_type": "markdown",
      "source": [
        "\n",
        "\n",
        "---\n",
        "\n"
      ],
      "metadata": {
        "id": "WFXURHEAoqQ5"
      }
    },
    {
      "cell_type": "markdown",
      "source": [
        "9)\n",
        "\n",
        "Ctrl + C is used to break out of a program in an infinite loop.\n",
        "\n",
        "\n",
        "\n",
        "---\n",
        "\n"
      ],
      "metadata": {
        "id": "oPWLpn6Cl7yD"
      }
    },
    {
      "cell_type": "markdown",
      "source": [
        "10)\n",
        "\n",
        "The Python break statement stops the loop in which the statement is placed. \n",
        "\n",
        "A Python continue statement skips a single iteration in a loop. \n",
        "\n",
        "Both break and continue statements can be used in a for or a while loop.\n",
        "\n",
        "\n",
        "\n",
        "---\n",
        "\n"
      ],
      "metadata": {
        "id": "jYv82Fv2mVUb"
      }
    },
    {
      "cell_type": "markdown",
      "source": [
        "11)\n",
        "\n",
        "range(stop) takes one argument. eg: range(10)\n",
        "\n",
        "range(start, stop) takes two arguments.eg: range(0,10)\n",
        "\n",
        "range(start, stop, step) takes three arguments. eg: range(0,10,1)\n",
        "\n",
        "\n",
        "---\n",
        "\n"
      ],
      "metadata": {
        "id": "vJXq2N0sm7Sb"
      }
    },
    {
      "cell_type": "markdown",
      "source": [
        "12)\n"
      ],
      "metadata": {
        "id": "G0BLnSSCn705"
      }
    },
    {
      "cell_type": "code",
      "source": [
        "for i in range(11):\n",
        "  print(i)"
      ],
      "metadata": {
        "colab": {
          "base_uri": "https://localhost:8080/"
        },
        "id": "sAsyXMs_oKkr",
        "outputId": "9ab83dec-c4d4-47c6-8f1b-2aa557fa0f7a"
      },
      "execution_count": 11,
      "outputs": [
        {
          "output_type": "stream",
          "name": "stdout",
          "text": [
            "0\n",
            "1\n",
            "2\n",
            "3\n",
            "4\n",
            "5\n",
            "6\n",
            "7\n",
            "8\n",
            "9\n",
            "10\n"
          ]
        }
      ]
    },
    {
      "cell_type": "code",
      "source": [
        "i=1\n",
        "while i<11 :\n",
        "  print(i)\n",
        "  i=i+1"
      ],
      "metadata": {
        "colab": {
          "base_uri": "https://localhost:8080/"
        },
        "id": "2Id82Bz0oPep",
        "outputId": "4d21b1d5-8ded-4e55-c12d-869664dc1f46"
      },
      "execution_count": 12,
      "outputs": [
        {
          "output_type": "stream",
          "name": "stdout",
          "text": [
            "1\n",
            "2\n",
            "3\n",
            "4\n",
            "5\n",
            "6\n",
            "7\n",
            "8\n",
            "9\n",
            "10\n"
          ]
        }
      ]
    }
  ]
}