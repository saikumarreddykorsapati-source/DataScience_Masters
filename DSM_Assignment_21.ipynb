{
  "cells": [
    {
      "cell_type": "markdown",
      "metadata": {
        "id": "view-in-github",
        "colab_type": "text"
      },
      "source": [
        "<a href=\"https://colab.research.google.com/github/saikumarreddykorsapati-source/DataScience_Masters_Assignments/blob/main/DSM_Assignment_21.ipynb\" target=\"_parent\"><img src=\"https://colab.research.google.com/assets/colab-badge.svg\" alt=\"Open In Colab\"/></a>"
      ]
    },
    {
      "cell_type": "markdown",
      "id": "4fe8b19e",
      "metadata": {
        "id": "4fe8b19e"
      },
      "source": [
        "#### 1) Add the current date to the text file today.txt as a string."
      ]
    },
    {
      "cell_type": "code",
      "execution_count": 11,
      "id": "4c5ad5ac",
      "metadata": {
        "colab": {
          "base_uri": "https://localhost:8080/"
        },
        "id": "4c5ad5ac",
        "outputId": "8fb6b217-7f2f-4abd-cda8-fd682331a7c7"
      },
      "outputs": [
        {
          "output_type": "stream",
          "name": "stdout",
          "text": [
            "03-03-2022\n"
          ]
        }
      ],
      "source": [
        "import datetime\n",
        "file = open('today.txt','w')\n",
        "file.write(datetime.datetime.now().strftime(\"%d-%m-%Y\"))\n",
        "file.close()\n",
        "file = open('today.txt','r')\n",
        "print(file.read())\n",
        "file.close()"
      ]
    },
    {
      "cell_type": "markdown",
      "id": "6cf23762",
      "metadata": {
        "id": "6cf23762"
      },
      "source": [
        "#### 2) Read the text file today.txt into the string today_string"
      ]
    },
    {
      "cell_type": "code",
      "execution_count": 2,
      "id": "107143ea",
      "metadata": {
        "colab": {
          "base_uri": "https://localhost:8080/"
        },
        "id": "107143ea",
        "outputId": "27910d27-962f-4d35-87a1-4434354a74c1"
      },
      "outputs": [
        {
          "output_type": "stream",
          "name": "stdout",
          "text": [
            "03-03-2022\n"
          ]
        }
      ],
      "source": [
        "file = open('today.txt','r')\n",
        "today_string = file.read()\n",
        "print(today_string)"
      ]
    },
    {
      "cell_type": "markdown",
      "id": "165addb6",
      "metadata": {
        "id": "165addb6"
      },
      "source": [
        "#### 3) Parse the date from today_string."
      ]
    },
    {
      "cell_type": "code",
      "execution_count": 3,
      "id": "c622da5b",
      "metadata": {
        "colab": {
          "base_uri": "https://localhost:8080/"
        },
        "id": "c622da5b",
        "outputId": "073e59d2-ed4b-43de-d37f-2e982767fa34"
      },
      "outputs": [
        {
          "output_type": "stream",
          "name": "stdout",
          "text": [
            "2022-03-03 00:00:00\n"
          ]
        }
      ],
      "source": [
        "from datetime import datetime\n",
        "parsed_data = datetime.strptime(today_string, '%d-%m-%Y')\n",
        "print(parsed_data)"
      ]
    },
    {
      "cell_type": "markdown",
      "id": "664d3278",
      "metadata": {
        "id": "664d3278"
      },
      "source": [
        "#### 4) List the files in your current directory"
      ]
    },
    {
      "cell_type": "code",
      "execution_count": 12,
      "id": "cbacd0e4",
      "metadata": {
        "colab": {
          "base_uri": "https://localhost:8080/"
        },
        "id": "cbacd0e4",
        "outputId": "b3914fa8-7e5e-4fb5-ebae-75c2abda5a56"
      },
      "outputs": [
        {
          "output_type": "stream",
          "name": "stdout",
          "text": [
            "today.txt\n",
            ".last_opt_in_prompt.yaml\n",
            ".last_survey_prompt.yaml\n",
            ".last_update_check.json\n",
            "config_sentinel\n",
            ".metricsUUID\n",
            "gce\n",
            "active_config\n",
            ".feature_flags_config.yaml\n",
            "14.33.40.493787.log\n",
            "14.33.21.113721.log\n",
            "14.32.33.591601.log\n",
            "14.33.12.888636.log\n",
            "14.33.41.267515.log\n",
            "14.32.54.268036.log\n",
            "config_default\n",
            "anscombe.json\n",
            "README.md\n",
            "california_housing_train.csv\n",
            "california_housing_test.csv\n",
            "mnist_test.csv\n",
            "mnist_train_small.csv\n"
          ]
        }
      ],
      "source": [
        "import os\n",
        "for folders, subfolders, files in os.walk(os.getcwd()):\n",
        "    for file in files:\n",
        "        print(file)"
      ]
    },
    {
      "cell_type": "markdown",
      "id": "291a203b",
      "metadata": {
        "id": "291a203b"
      },
      "source": [
        "#### 5) Create a list of all of the files in your parent directory (minimum five files should be available)."
      ]
    },
    {
      "cell_type": "code",
      "execution_count": 13,
      "id": "efe9618b",
      "metadata": {
        "colab": {
          "base_uri": "https://localhost:8080/"
        },
        "id": "efe9618b",
        "outputId": "ff209a92-f38d-4c52-a6ce-26ebccb1064a"
      },
      "outputs": [
        {
          "output_type": "execute_result",
          "data": {
            "text/plain": [
              "['.config', 'today.txt', 'sample_data']"
            ]
          },
          "metadata": {},
          "execution_count": 13
        }
      ],
      "source": [
        "import os \n",
        "os.listdir()"
      ]
    },
    {
      "cell_type": "markdown",
      "id": "203dd9fe",
      "metadata": {
        "id": "203dd9fe"
      },
      "source": [
        "#### 6) Use multiprocessing to create three separate processes. Make each one wait a random number of seconds between one and five, print the current time, and then exit."
      ]
    },
    {
      "cell_type": "code",
      "execution_count": 15,
      "id": "bcb2799b",
      "metadata": {
        "colab": {
          "base_uri": "https://localhost:8080/"
        },
        "id": "bcb2799b",
        "outputId": "e3c8ed7e-d91a-4132-fb0e-21919301e5f1"
      },
      "outputs": [
        {
          "output_type": "stream",
          "name": "stdout",
          "text": [
            "Proc_one_Starttime -> 2022-03-03 10:20:39.750506\n",
            "Proc_two_Starttime -> 2022-03-03 10:20:39.763297\n",
            "Proc_two_Starttime -> 2022-03-03 10:20:39.773002\n",
            "Proc_one_Endtime -> 2022-03-03 10:20:41.757657\n",
            "Proc_two_Endtime -> 2022-03-03 10:20:44.772702\n",
            "Proc_two_Endtime -> 2022-03-03 10:20:44.783664\n"
          ]
        }
      ],
      "source": [
        "import multiprocessing\n",
        "import time \n",
        "import random\n",
        "import datetime\n",
        "\n",
        "def procOne():\n",
        "    print(f'Proc_one_Starttime -> {datetime.datetime.now()}')\n",
        "    time.sleep(random.randint(1,5))\n",
        "    print(f'Proc_one_Endtime -> {datetime.datetime.now()}')\n",
        "    \n",
        "def procTwo():\n",
        "    print(f'Proc_two_Starttime -> {datetime.datetime.now()}')\n",
        "    time.sleep(random.randint(1,5))\n",
        "    print(f'Proc_two_Endtime -> {datetime.datetime.now()}')\n",
        "\n",
        "def procThree():\n",
        "    print(f'Proc_two_Starttime -> {datetime.datetime.now()}')\n",
        "    time.sleep(random.randint(1,5))\n",
        "    print(f'Proc_two_Endtime -> {datetime.datetime.now()}')\n",
        "    \n",
        "if __name__ == \"__main__\":    \n",
        "    p1 = multiprocessing.Process(target=procOne)\n",
        "    p2 = multiprocessing.Process(target=procTwo)\n",
        "    p3 = multiprocessing.Process(target=procThree)\n",
        "\n",
        "    p1.start()\n",
        "    p2.start()\n",
        "    p3.start()\n",
        "\n",
        "    p1.join()\n",
        "    p2.join()\n",
        "    p3.join()"
      ]
    },
    {
      "cell_type": "markdown",
      "id": "71d07e78",
      "metadata": {
        "id": "71d07e78"
      },
      "source": [
        "#### 7) Create a date object of your day of birth."
      ]
    },
    {
      "cell_type": "code",
      "execution_count": 17,
      "id": "b3e67c1c",
      "metadata": {
        "colab": {
          "base_uri": "https://localhost:8080/"
        },
        "id": "b3e67c1c",
        "outputId": "da47af49-8d32-423b-e9a8-e5bedc9d6328"
      },
      "outputs": [
        {
          "output_type": "stream",
          "name": "stdout",
          "text": [
            "1998-10-12 00:00:00 <class 'datetime.datetime'>\n"
          ]
        }
      ],
      "source": [
        "from datetime import datetime\n",
        "my_dob = datetime.strptime('12/10/1998','%d/%m/%Y')\n",
        "print(my_dob, type(my_dob))"
      ]
    },
    {
      "cell_type": "markdown",
      "id": "e5775db9",
      "metadata": {
        "id": "e5775db9"
      },
      "source": [
        "#### 8) What day of the week was your day of birth?"
      ]
    },
    {
      "cell_type": "code",
      "execution_count": 18,
      "id": "65b6ae43",
      "metadata": {
        "colab": {
          "base_uri": "https://localhost:8080/",
          "height": 35
        },
        "id": "65b6ae43",
        "outputId": "708e50b0-cc1e-426c-d03d-a1136369dc56"
      },
      "outputs": [
        {
          "output_type": "execute_result",
          "data": {
            "application/vnd.google.colaboratory.intrinsic+json": {
              "type": "string"
            },
            "text/plain": [
              "'Monday'"
            ]
          },
          "metadata": {},
          "execution_count": 18
        }
      ],
      "source": [
        "from datetime import datetime\n",
        "my_dob = datetime(1998,10,12)\n",
        "my_dob.strftime(\"%A\")"
      ]
    },
    {
      "cell_type": "markdown",
      "id": "abe779de",
      "metadata": {
        "id": "abe779de"
      },
      "source": [
        "#### 9) When will you be (or when were you) 10,000 days old?"
      ]
    },
    {
      "cell_type": "code",
      "execution_count": 19,
      "id": "db7e28a0",
      "metadata": {
        "colab": {
          "base_uri": "https://localhost:8080/"
        },
        "id": "db7e28a0",
        "outputId": "43076113-f279-4392-d1aa-e1d5ea7fbedb"
      },
      "outputs": [
        {
          "output_type": "execute_result",
          "data": {
            "text/plain": [
              "datetime.datetime(1971, 5, 27, 0, 0)"
            ]
          },
          "metadata": {},
          "execution_count": 19
        }
      ],
      "source": [
        "from datetime import datetime, timedelta\n",
        "my_dob = datetime.strptime(\"12/10/1998\",'%d/%m/%Y')\n",
        "future_date = my_dob-timedelta(10000)\n",
        "future_date"
      ]
    }
  ],
  "metadata": {
    "kernelspec": {
      "display_name": "Python 3",
      "language": "python",
      "name": "python3"
    },
    "language_info": {
      "codemirror_mode": {
        "name": "ipython",
        "version": 3
      },
      "file_extension": ".py",
      "mimetype": "text/x-python",
      "name": "python",
      "nbconvert_exporter": "python",
      "pygments_lexer": "ipython3",
      "version": "3.8.8"
    },
    "colab": {
      "name": "DSM_Assignment_21.ipynb",
      "provenance": [],
      "include_colab_link": true
    }
  },
  "nbformat": 4,
  "nbformat_minor": 5
}