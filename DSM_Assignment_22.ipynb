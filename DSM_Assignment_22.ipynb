{
  "cells": [
    {
      "cell_type": "markdown",
      "metadata": {
        "id": "view-in-github",
        "colab_type": "text"
      },
      "source": [
        "<a href=\"https://colab.research.google.com/github/saikumarreddykorsapati-source/DataScience_Masters_Assignments/blob/main/DSM_Assignment_22.ipynb\" target=\"_parent\"><img src=\"https://colab.research.google.com/assets/colab-badge.svg\" alt=\"Open In Colab\"/></a>"
      ]
    },
    {
      "cell_type": "markdown",
      "id": "a091ea5b",
      "metadata": {
        "id": "a091ea5b"
      },
      "source": [
        "#### 1) What is the result of the code, and explain?\n",
        "`>>> X = 'iNeuron'`  \n",
        "`>>> def func():`  \n",
        "`    print(X)`  \n",
        "`>>> func()`  \n",
        "**Ans:** The Result of this code is `iNeuron`, it's because the function intially looks for the variable `X` in its local scope,But since there is no local variable `X`, its returns the value of global variable `X` ie `iNeuron`"
      ]
    },
    {
      "cell_type": "code",
      "execution_count": 7,
      "id": "ee98b909",
      "metadata": {
        "colab": {
          "base_uri": "https://localhost:8080/"
        },
        "id": "ee98b909",
        "outputId": "ec688a0e-0911-4239-be93-1edf08763c16"
      },
      "outputs": [
        {
          "output_type": "stream",
          "name": "stdout",
          "text": [
            "iNeuron\n"
          ]
        }
      ],
      "source": [
        "X = 'iNeuron'\n",
        "def func():\n",
        "    print(X)\n",
        "func()"
      ]
    },
    {
      "cell_type": "markdown",
      "id": "ef65e0b3",
      "metadata": {
        "id": "ef65e0b3"
      },
      "source": [
        "#### 2) What is the result of the code, and explain?\n",
        "`>>> X = 'iNeuron'`  \n",
        "`>>> def func():`  \n",
        "`X = 'NI!'`  \n",
        "`>>> func()`  \n",
        "`>>> print(X)`  \n",
        "**Ans:** The Result of this cide is `NI!`, because the function initially looks for the variable `X` in its local scope if `X` is not available then it checks for variable `X` in the global scope, Since here the `X` is present in the local scope. it prints the value `NI!`"
      ]
    },
    {
      "cell_type": "code",
      "execution_count": 8,
      "id": "8f219394",
      "metadata": {
        "colab": {
          "base_uri": "https://localhost:8080/"
        },
        "id": "8f219394",
        "outputId": "37926faf-ee13-4f87-d74e-1bdbf1353fb7"
      },
      "outputs": [
        {
          "output_type": "stream",
          "name": "stdout",
          "text": [
            "NI!\n"
          ]
        }
      ],
      "source": [
        "X = 'iNeuron'\n",
        "def func():\n",
        "    X = 'NI!'\n",
        "    print(X)\n",
        "func()"
      ]
    },
    {
      "cell_type": "markdown",
      "id": "952c9d0e",
      "metadata": {
        "id": "952c9d0e"
      },
      "source": [
        "#### 3) What does this code print, and why?\n",
        "`>>> X = 'iNeuron'`  \n",
        "`>>> def func():`  \n",
        "`X = 'NI'`  \n",
        "`print(X)`  \n",
        "`>>> func()`  \n",
        "`>>> print(X)`   \n",
        "**Ans:** The output of the code is `NI` and `iNeuron`. `X=NI` is in the local scope of the function `func()` hence the function prints the x value as  `NI`.  `X = 'iNeuron'` is in the global scope. hence `print(X)` prints output as `iNeuron`"
      ]
    },
    {
      "cell_type": "code",
      "execution_count": 9,
      "id": "cabebabc",
      "metadata": {
        "colab": {
          "base_uri": "https://localhost:8080/"
        },
        "id": "cabebabc",
        "outputId": "dfce45f1-f294-410a-ac5b-ff98fff3bd57"
      },
      "outputs": [
        {
          "output_type": "stream",
          "name": "stdout",
          "text": [
            "NI\n",
            "iNeuron\n"
          ]
        }
      ],
      "source": [
        "X = 'iNeuron'\n",
        "def func():\n",
        "    X = 'NI'\n",
        "    print(X)\n",
        "func()\n",
        "print(X)"
      ]
    },
    {
      "cell_type": "markdown",
      "id": "905d8b7b",
      "metadata": {
        "id": "905d8b7b"
      },
      "source": [
        "#### 4) What output does this code produce? Why?\n",
        "`>>> X = 'iNeuron'`   \n",
        "`>>> def func():`   \n",
        "`global X`   \n",
        "`X = 'NI'`   \n",
        "`>>> func()`   \n",
        "`>>> print(X)`   \n",
        "**Ans:** The output of the code is `NI`. the `global` keyword allows a variable to be accessible in the current scope. since we are using global keyword inside the function `func` it directly access the variable in `X` in global scope. and changes its value to `NI`. hence the output of the code is `NI`"
      ]
    },
    {
      "cell_type": "code",
      "execution_count": 10,
      "id": "64e260a6",
      "metadata": {
        "colab": {
          "base_uri": "https://localhost:8080/"
        },
        "id": "64e260a6",
        "outputId": "d4b5dd91-9f4c-4e39-eeed-cb9237d43806"
      },
      "outputs": [
        {
          "output_type": "stream",
          "name": "stdout",
          "text": [
            "NI\n"
          ]
        }
      ],
      "source": [
        "X = 'iNeuron'\n",
        "def func():\n",
        "    global X\n",
        "    X = 'NI'\n",
        "func()\n",
        "print(X)"
      ]
    },
    {
      "cell_type": "markdown",
      "id": "1c755c9f",
      "metadata": {
        "id": "1c755c9f"
      },
      "source": [
        "#### 5) What about this code—what’s the output, and why?\n",
        "`>>> X = 'iNeuron'`   \n",
        "`>>> def func():`   \n",
        "`X = 'NI'`   \n",
        "`def nested():`   \n",
        "`print(X)`   \n",
        "`nested()`   \n",
        "`>>> func()`   \n",
        "`>>> X`   \n",
        "**Ans:** The output of the code is `NI`. the reason for this output is if a function wants to access a variable, if its not available in its localscope. it looks for the variable in its global scope. similarly here also function `nested` looks for variable `X` in its global scope. hence the output of the code is `NI`"
      ]
    },
    {
      "cell_type": "code",
      "execution_count": 11,
      "id": "9fd84bb5",
      "metadata": {
        "colab": {
          "base_uri": "https://localhost:8080/",
          "height": 53
        },
        "id": "9fd84bb5",
        "outputId": "9f5a65df-8d7f-46d8-e6c9-b9f86db1dd13"
      },
      "outputs": [
        {
          "output_type": "stream",
          "name": "stdout",
          "text": [
            "NI\n"
          ]
        },
        {
          "output_type": "execute_result",
          "data": {
            "application/vnd.google.colaboratory.intrinsic+json": {
              "type": "string"
            },
            "text/plain": [
              "'iNeuron'"
            ]
          },
          "metadata": {},
          "execution_count": 11
        }
      ],
      "source": [
        "X = 'iNeuron'\n",
        "def func():\n",
        "    X = 'NI'\n",
        "    def nested():\n",
        "        print(X)\n",
        "    nested()\n",
        "func()\n",
        "X"
      ]
    },
    {
      "cell_type": "markdown",
      "id": "f8c745c5",
      "metadata": {
        "id": "f8c745c5"
      },
      "source": [
        "#### 6) How about this code: what is its output in Python 3, and explain?\n",
        "`>>> def func():`  \n",
        "`X = 'NI'`  \n",
        "`def nested():`  \n",
        "`nonlocal X`  \n",
        "`X = 'Spam'`  \n",
        "`nested()`  \n",
        "`print(X)`  \n",
        "`>>> func()`  \n",
        "**Ans:** The output of the code is `Spam`. `nonlocal` keyword in python is used to declare a variable as not local.Hence the statement `X = \"Spam\"` is modified in the global scope. hence the output of `print(X)` statement is `Spam`"
      ]
    },
    {
      "cell_type": "code",
      "execution_count": 12,
      "id": "9fab6b46",
      "metadata": {
        "colab": {
          "base_uri": "https://localhost:8080/"
        },
        "id": "9fab6b46",
        "outputId": "d0efe9bb-7710-4c29-c9f1-610823555096"
      },
      "outputs": [
        {
          "output_type": "stream",
          "name": "stdout",
          "text": [
            "Spam\n"
          ]
        }
      ],
      "source": [
        "def func():\n",
        "    X = 'NI'\n",
        "    def nested():\n",
        "        nonlocal X\n",
        "        X = 'Spam'\n",
        "    nested()\n",
        "    print(X)\n",
        "func()"
      ]
    }
  ],
  "metadata": {
    "kernelspec": {
      "display_name": "Python 3",
      "language": "python",
      "name": "python3"
    },
    "language_info": {
      "codemirror_mode": {
        "name": "ipython",
        "version": 3
      },
      "file_extension": ".py",
      "mimetype": "text/x-python",
      "name": "python",
      "nbconvert_exporter": "python",
      "pygments_lexer": "ipython3",
      "version": "3.8.8"
    },
    "colab": {
      "name": "DSM_Assignment_22.ipynb",
      "provenance": [],
      "include_colab_link": true
    }
  },
  "nbformat": 4,
  "nbformat_minor": 5
}