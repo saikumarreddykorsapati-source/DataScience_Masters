{
  "nbformat": 4,
  "nbformat_minor": 0,
  "metadata": {
    "colab": {
      "name": "DSM_Assignment_3.ipynb",
      "provenance": [],
      "collapsed_sections": [],
      "authorship_tag": "ABX9TyMftS4H9br6E6TCgPBvxw4s",
      "include_colab_link": true
    },
    "kernelspec": {
      "name": "python3",
      "display_name": "Python 3"
    },
    "language_info": {
      "name": "python"
    }
  },
  "cells": [
    {
      "cell_type": "markdown",
      "metadata": {
        "id": "view-in-github",
        "colab_type": "text"
      },
      "source": [
        "<a href=\"https://colab.research.google.com/github/saikumarreddykorsapati-source/DataScience_Masters_Assignments/blob/main/DSM_Assignment_3.ipynb\" target=\"_parent\"><img src=\"https://colab.research.google.com/assets/colab-badge.svg\" alt=\"Open In Colab\"/></a>"
      ]
    },
    {
      "cell_type": "markdown",
      "source": [
        "1)\n",
        "\n",
        "Functions reduce the need for duplicate code (ie., enables code reusability). \n",
        "\n",
        "This makes programs shorter, easier to read, and easier to update. improve maintainability and scalability.\n",
        "\n",
        "\n",
        "---\n",
        "\n"
      ],
      "metadata": {
        "id": "VapJyW4Nr3Bm"
      }
    },
    {
      "cell_type": "markdown",
      "source": [
        "2)\n",
        "\n",
        "A Function in Python is a piece of code which runs when it is referenced. It is used to utilize the code in more than one place in a program.\n",
        "\n",
        "When a function is called the program control jumps to that function definition and executes the statements inside the function body. After executing the body of the function, the program control jumps back to the part of the program which called the function, and resumes execution at that point.\n",
        "\n",
        "\n",
        "---\n",
        "\n"
      ],
      "metadata": {
        "id": "o0y3hrurtFi6"
      }
    },
    {
      "cell_type": "markdown",
      "source": [
        "3)\n",
        "\n",
        "The “def” keyword is a statement for defining a function in Python. You start a function with the def keyword, specify a name followed by a colon (:) sign. The “def” call creates the function object and assigns it to the name given. You can further re-assign the same function object to other names.\n",
        "\n",
        "\n",
        "\n",
        "```\n",
        "eg : def function_name(Parameters):\n",
        "          #function body goes here\n",
        "          return statement #if needed\n",
        "     function_name()```\n"
      ],
      "metadata": {
        "id": "R66Wm831trRG"
      }
    },
    {
      "cell_type": "markdown",
      "source": [
        "\n",
        "\n",
        "---\n",
        "\n"
      ],
      "metadata": {
        "id": "ORNfa93gubV4"
      }
    },
    {
      "cell_type": "markdown",
      "source": [
        "4)\n",
        "\n",
        "A function call means invoking or calling that function. Unless a function is called there is no use of that function.\n",
        "\n",
        "So the difference between the function and function call is:\n",
        "\n",
        "A function is procedure to achieve a particular result while function call is using this function to achive that task.\n",
        "\n",
        "\n",
        "---\n",
        "\n"
      ],
      "metadata": {
        "id": "koW5lIrJudKI"
      }
    },
    {
      "cell_type": "markdown",
      "source": [
        "5) \n",
        "\n",
        "There's only one global Python scope per program execution. This scope remains in existence until the program terminates and all its names are forgotten. Otherwise, the next time you were to run the program, the names would remember their values from the previous run.\n",
        "\n",
        "local scope is based on that function it was defined.\n",
        "\n",
        "\n",
        "---\n",
        "\n"
      ],
      "metadata": {
        "id": "Hg6vlazWu7-V"
      }
    },
    {
      "cell_type": "markdown",
      "source": [
        "6) \n",
        "\n",
        "When the execution of the function terminates (returns), the local variables are destroyed.\n",
        "\n",
        "\n",
        "---\n",
        "\n"
      ],
      "metadata": {
        "id": "DXmux8mEwb5Z"
      }
    },
    {
      "cell_type": "markdown",
      "source": [
        "7)\n",
        "\n",
        "A return statement is used to end the execution of the function call and “returns” the result (value of the expression following the return keyword) to the caller. \n",
        "\n",
        "The statements after the return statements are not executed. If the return statement is without any expression, then the special value None is returned.\n",
        "\n",
        "No, it's not possible to have return statements in expressions, they are only used in functions to return the result.\n",
        "\n",
        "\n",
        "---\n",
        "\n"
      ],
      "metadata": {
        "id": "i2L787I7wuin"
      }
    },
    {
      "cell_type": "markdown",
      "source": [
        "8)\n",
        "\n",
        "If no return statement appears in a function definition, control automatically returns to the calling function after the last statement of the called function is executed. In this case, the return value of the called function is undefined.\n",
        "\n",
        "\n",
        "---\n",
        "\n"
      ],
      "metadata": {
        "id": "skt0B-nwxbuj"
      }
    },
    {
      "cell_type": "markdown",
      "source": [
        "9) \n",
        "\n",
        "If you want to refer to a global variable in a function, you can use the global keyword to declare which variables are global.\n",
        "\n",
        "\n",
        "---\n",
        "\n"
      ],
      "metadata": {
        "id": "oM3sApvkyegf"
      }
    },
    {
      "cell_type": "markdown",
      "source": [
        "10)\n",
        "\n",
        "The None keyword is used to define a null value, or no value at all. None is not the same as 0, False, or an empty string. None is a data type of its own (NoneType) and only None can be None.\n",
        "\n",
        "\n",
        "---\n",
        "\n"
      ],
      "metadata": {
        "id": "lCcjpvabyul2"
      }
    },
    {
      "cell_type": "markdown",
      "source": [
        "11)\n",
        "\n",
        "That import statement imports a module named areallyourpetsnamederic.\n",
        "\n",
        "\n",
        "---\n",
        "\n"
      ],
      "metadata": {
        "id": "ZEye1prizfHF"
      }
    },
    {
      "cell_type": "markdown",
      "source": [
        "12)\n",
        "\n",
        " This function can be called with spam.bacon()\n",
        "\n",
        "\n",
        "---\n",
        "\n"
      ],
      "metadata": {
        "id": "YQWZo61YzwbO"
      }
    },
    {
      "cell_type": "markdown",
      "source": [
        "13)\n",
        "\n",
        "If an error occurs in a program, we don't want the program to unexpectedly crash on the user. Instead, error handling can be used to notify the user of why the error occurred and gracefully exit the process that caused the error.\n",
        "\n",
        "\n",
        "---\n",
        "\n"
      ],
      "metadata": {
        "id": "xFS2tvWY0pAN"
      }
    },
    {
      "cell_type": "markdown",
      "source": [
        "14)\n",
        "\n",
        "In the try clause, all statements are executed until an exception is encountered. \n",
        "\n",
        "except is used to catch and handle the exception(s) that are encountered in the try clause.\n"
      ],
      "metadata": {
        "id": "CHo-7GbQ03GF"
      }
    }
  ]
}