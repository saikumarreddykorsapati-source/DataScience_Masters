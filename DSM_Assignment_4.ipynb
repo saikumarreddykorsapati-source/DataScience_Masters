{
  "nbformat": 4,
  "nbformat_minor": 0,
  "metadata": {
    "colab": {
      "name": "DSM_Assignment_4.ipynb",
      "provenance": [],
      "authorship_tag": "ABX9TyOTfbNfguq0mr0ZUitZsdT/",
      "include_colab_link": true
    },
    "kernelspec": {
      "name": "python3",
      "display_name": "Python 3"
    },
    "language_info": {
      "name": "python"
    }
  },
  "cells": [
    {
      "cell_type": "markdown",
      "metadata": {
        "id": "view-in-github",
        "colab_type": "text"
      },
      "source": [
        "<a href=\"https://colab.research.google.com/github/saikumarreddykorsapati-source/DataScience_Masters_Assignments/blob/main/DSM_Assignment_4.ipynb\" target=\"_parent\"><img src=\"https://colab.research.google.com/assets/colab-badge.svg\" alt=\"Open In Colab\"/></a>"
      ]
    },
    {
      "cell_type": "markdown",
      "source": [
        "1)\n",
        "\n",
        "[ ] is an empty list\n",
        "\n",
        "In Python, a list is created by placing elements inside square brackets [ ] , separated by commas. \n",
        "\n",
        "A list can have any number of items and they may be of different types (integer, float, string, etc.). \n",
        "\n",
        "A list can also have another list as an item. This is called a nested list.\n",
        "\n",
        "\n",
        "---\n",
        "\n",
        "\n"
      ],
      "metadata": {
        "id": "uklgIDBM32mE"
      }
    },
    {
      "cell_type": "markdown",
      "source": [
        "2)\n",
        "\n",
        "spam[2] = 'hello' \n",
        "\n",
        "\n",
        "---\n",
        "\n"
      ],
      "metadata": {
        "id": "Vx0pvFTT4TgP"
      }
    },
    {
      "cell_type": "markdown",
      "source": [
        "3)\n",
        "\n",
        "spam = ['a', 'b', 'c', 'd']\n",
        "\n",
        "spam[int(int('3' * 2) // 11)]\n",
        "\n",
        "'d' (Because '3' * 2 is the string '33', which is passed to int() before being divided by 11. This eventually evaluates to 3. Expressions can be used wherever values are used.)\n",
        "\n",
        "\n",
        "---\n",
        "\n"
      ],
      "metadata": {
        "id": "2v8Cpi2y4qtM"
      }
    },
    {
      "cell_type": "markdown",
      "source": [
        "4)\n",
        "\n",
        "'d' (Negative indexes count from the end.)\n",
        "\n",
        "\n",
        "---\n",
        "\n"
      ],
      "metadata": {
        "id": "Ou3toP3J6qMX"
      }
    },
    {
      "cell_type": "markdown",
      "source": [
        "5)\n",
        "\n",
        "['a','b']\n",
        "\n",
        "\n",
        "---\n",
        "\n"
      ],
      "metadata": {
        "id": "KlHwWNCk7UfM"
      }
    },
    {
      "cell_type": "markdown",
      "source": [
        "6) \n",
        "1\n",
        "\n",
        "\n",
        "---\n",
        "\n"
      ],
      "metadata": {
        "id": "xgxwT3eM74kS"
      }
    },
    {
      "cell_type": "markdown",
      "source": [
        "7) [3.14, 'cat', 11, 'cat', True, 99]\n",
        "\n",
        "\n",
        "---\n",
        "\n"
      ],
      "metadata": {
        "id": "XYAzGgA88Fg4"
      }
    },
    {
      "cell_type": "markdown",
      "source": [
        "8) [3.14, 11, 'cat', True]\n",
        "\n",
        "\n",
        "---\n",
        "\n"
      ],
      "metadata": {
        "id": "AO4fVLLw8Ogk"
      }
    },
    {
      "cell_type": "markdown",
      "source": [
        "9)\n",
        "\n",
        "The operator for list concatenation is +, \n",
        "\n",
        "while the operator for replication is *.\n",
        "\n",
        "\n",
        "---\n",
        "\n"
      ],
      "metadata": {
        "id": "RU0Xrsmo8XWq"
      }
    },
    {
      "cell_type": "markdown",
      "source": [
        "10)\n",
        "\n",
        "The only difference between append() and insert() is that insert function allows us to add a specific element at a specified index of the list unlike append() where we can add the element only at end of the list.\n",
        "\n",
        "\n",
        "---\n",
        "\n"
      ],
      "metadata": {
        "id": "xozvJCWY8kHs"
      }
    },
    {
      "cell_type": "markdown",
      "source": [
        "11)\n",
        "\n",
        "The methods are remove(), pop() and clear(). It helps to remove the very first given element matching from the list. The pop() method removes an element from the list based on the index given. The clear() method will remove all the elements present in the list.\n",
        "\n",
        "\n",
        "---\n",
        "\n"
      ],
      "metadata": {
        "id": "0MBKF6Fv874N"
      }
    },
    {
      "cell_type": "markdown",
      "source": [
        "12)\n",
        "\n",
        "The values that make up a list are called its elements. Lists are similar to strings, which are ordered collections of characters, except that the elements of a list can have any type and for any one list, the items can be of different types.\n",
        "\n",
        "\n",
        "---\n",
        "\n"
      ],
      "metadata": {
        "id": "Q4uH3WSh9PMN"
      }
    },
    {
      "cell_type": "markdown",
      "source": [
        "13)\n",
        "\n",
        "The key difference between the tuples and lists is that while the tuples are immutable objects the lists are mutable.\n",
        "\n",
        "\n",
        "---\n",
        "\n"
      ],
      "metadata": {
        "id": "fIwTAxZZ973G"
      }
    },
    {
      "cell_type": "markdown",
      "source": [
        "14)\n",
        "\n",
        "(42,) (The trailing comma is mandatory.)\n",
        "\n",
        "\n",
        "---\n",
        "\n"
      ],
      "metadata": {
        "id": "ZuHMdLvD-Gs9"
      }
    },
    {
      "cell_type": "markdown",
      "source": [
        "15)\n",
        "\n",
        "List comprehension along with zip() function is used to convert the tuples to list and create a list of tuples.\n",
        "this way we can get a list value's tuple form, a tuple value's list form?\n",
        "list(zip(,)),tuple(zip(,)).\n",
        "\n",
        "\n",
        "---\n",
        "\n"
      ],
      "metadata": {
        "id": "W3j9_fuD-WjQ"
      }
    },
    {
      "cell_type": "markdown",
      "source": [
        "16)\n",
        "\n",
        "Variables will contain references to list values rather than list values themselves. But for strings and integer values, variables simply contain the string or integer value.\n",
        "\n",
        "\n",
        "---\n",
        "\n"
      ],
      "metadata": {
        "id": "UH9zy5wyBBnW"
      }
    },
    {
      "cell_type": "markdown",
      "source": [
        "17) \n",
        "\n",
        "copy — Shallow and deep copy operations\n",
        "\n",
        "A shallow copy constructs a new compound object and then (to the extent possible) inserts references into it to the objects found in the original.\n",
        "\n",
        "A deep copy constructs a new compound object and then, recursively, inserts copies into it of the objects found in the original."
      ],
      "metadata": {
        "id": "sTXr1j2oBV9g"
      }
    }
  ]
}