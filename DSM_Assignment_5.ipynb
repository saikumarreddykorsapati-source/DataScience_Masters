{
  "nbformat": 4,
  "nbformat_minor": 0,
  "metadata": {
    "colab": {
      "name": "DSM_Assignment_5.ipynb",
      "provenance": [],
      "collapsed_sections": [],
      "authorship_tag": "ABX9TyObYVF6I4zq9Ahb7OGdWb7P",
      "include_colab_link": true
    },
    "kernelspec": {
      "name": "python3",
      "display_name": "Python 3"
    },
    "language_info": {
      "name": "python"
    }
  },
  "cells": [
    {
      "cell_type": "markdown",
      "metadata": {
        "id": "view-in-github",
        "colab_type": "text"
      },
      "source": [
        "<a href=\"https://colab.research.google.com/github/saikumarreddykorsapati-source/DataScience_Masters_Assignments/blob/main/DSM_Assignment_5.ipynb\" target=\"_parent\"><img src=\"https://colab.research.google.com/assets/colab-badge.svg\" alt=\"Open In Colab\"/></a>"
      ]
    },
    {
      "cell_type": "markdown",
      "source": [
        "1)\n",
        "\n",
        "Two curly brackets: {}\n",
        "\n",
        "To create an empty dictionary, the dictionary should be set to {}\n",
        "\n",
        "items= {}\n"
      ],
      "metadata": {
        "id": "TGzRtANlQIYF"
      }
    },
    {
      "cell_type": "markdown",
      "source": [
        "2)\n",
        "\n",
        "{'foo': 42}"
      ],
      "metadata": {
        "id": "Dv3_7IhGRQ3M"
      }
    },
    {
      "cell_type": "markdown",
      "source": [
        "3)\n",
        "\n",
        "A list is an ordered sequence of objects, whereas dictionaries are unordered sets. \n",
        "\n",
        "However, the main difference is that items in dictionaries are accessed via keys and not via their position.\n",
        "\n",
        "Any key of the dictionary is associated (or mapped) to a value."
      ],
      "metadata": {
        "id": "XjU7nkK7RRTz"
      }
    },
    {
      "cell_type": "markdown",
      "source": [
        "4)\n",
        "\n",
        "You get a KeyError error."
      ],
      "metadata": {
        "id": "J5DeanI1RRmq"
      }
    },
    {
      "cell_type": "markdown",
      "source": [
        "5)\n",
        "\n",
        "There is no difference. The in operator checks whether a value exists as a key in the dictionary."
      ],
      "metadata": {
        "id": "qUQXJsrjRSN7"
      }
    },
    {
      "cell_type": "markdown",
      "source": [
        "6)\n",
        "\n",
        "'cat' in spam checks whether there is a 'cat' key in the dictionary, while 'cat' in spam.values() checks whether there is a value 'cat' for one of the keys in spam.."
      ],
      "metadata": {
        "id": "KF9fKczERSks"
      }
    },
    {
      "cell_type": "markdown",
      "source": [
        "7)\n",
        "\n",
        "spam.setdefault('color', 'black')"
      ],
      "metadata": {
        "id": "ribBidE7RS9w"
      }
    },
    {
      "cell_type": "markdown",
      "source": [
        "8)\n",
        "\n",
        "Use pprint() to Pretty Print a Dictionary in Python\n",
        "pprint is a Python module that provides the capability to pretty print Python data types to be more readable. This module also supports pretty-printing dictionary."
      ],
      "metadata": {
        "id": "A9FBTaPKRTXj"
      }
    }
  ]
}