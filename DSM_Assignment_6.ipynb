{
  "nbformat": 4,
  "nbformat_minor": 0,
  "metadata": {
    "colab": {
      "name": "DSM_Assignment_6.ipynb",
      "provenance": [],
      "collapsed_sections": [],
      "authorship_tag": "ABX9TyN9/sSJF50kSula88AlwfBg",
      "include_colab_link": true
    },
    "kernelspec": {
      "name": "python3",
      "display_name": "Python 3"
    },
    "language_info": {
      "name": "python"
    }
  },
  "cells": [
    {
      "cell_type": "markdown",
      "metadata": {
        "id": "view-in-github",
        "colab_type": "text"
      },
      "source": [
        "<a href=\"https://colab.research.google.com/github/saikumarreddykorsapati-source/DataScience_Masters_Assignments/blob/main/DSM_Assignment_6.ipynb\" target=\"_parent\"><img src=\"https://colab.research.google.com/assets/colab-badge.svg\" alt=\"Open In Colab\"/></a>"
      ]
    },
    {
      "cell_type": "markdown",
      "source": [
        "1)\n",
        "\n",
        "In Python strings, the backslash \"\\\" is a special character, also called the \"escape\" character. It is used in representing certain whitespace characters: \"\\t\" is a tab, \"\\n\" is a newline, and \"\\r\" is a carriage return. Conversely, prefixing a special character with \"\\\" turns it into an ordinary character.\n",
        "\n",
        "Escape characters are characters that are generally used to perform certain tasks and their usage in code directs the compiler to take a suitable action mapped to that character.\n",
        "\n",
        "some of the escape characters used in Python are:\n",
        "\n",
        "Code\tResult\t\n",
        "\\'\tSingle Quote\t\n",
        "\\\\\tBackslash\t\n",
        "\\n\tNew Line\t\n",
        "\\r\tCarriage Return\t\n",
        "\\t\tTab\t\n",
        "\\b\tBackspace\t\n",
        "\\f\tForm Feed\t\n",
        "\\ooo\tOctal value\t\n",
        "\\xhh\tHex value\t\n",
        "\n",
        "\n",
        "\n",
        "---\n",
        "\n"
      ],
      "metadata": {
        "id": "kU1mWIu1oXb5"
      }
    },
    {
      "cell_type": "markdown",
      "source": [
        "2)\n",
        "\n",
        "\\n stands for New Line\n",
        "\n",
        "\\t stands for Tab Space\n",
        "\n",
        "both used in representing certain whitespace characters\n",
        "\n",
        "\n",
        "---\n",
        "\n"
      ],
      "metadata": {
        "id": "FGzt1xutsAUB"
      }
    },
    {
      "cell_type": "markdown",
      "source": [
        "3)\n",
        "\n",
        "Use the syntax \"\\\\\" within the string literal to represent a single backslash."
      ],
      "metadata": {
        "id": "EZRDLCMos4d9"
      }
    },
    {
      "cell_type": "code",
      "source": [
        "text = \"\\\\\"\n",
        "\n",
        "print(text)"
      ],
      "metadata": {
        "colab": {
          "base_uri": "https://localhost:8080/"
        },
        "id": "D2gkaEWhtH6x",
        "outputId": "78ba265a-6d9b-4cd4-aae2-27367b73be63"
      },
      "execution_count": 1,
      "outputs": [
        {
          "output_type": "stream",
          "name": "stdout",
          "text": [
            "\\\n"
          ]
        }
      ]
    },
    {
      "cell_type": "markdown",
      "source": [
        "\n",
        "\n",
        "---\n",
        "\n"
      ],
      "metadata": {
        "id": "gQzVC27StJzi"
      }
    },
    {
      "cell_type": "markdown",
      "source": [
        "4)\n",
        "\n",
        "The single quote in Howl's is fine because you've used double quotes to mark the beginning and end of the string.\n",
        "\n",
        "\n",
        "---\n",
        "\n"
      ],
      "metadata": {
        "id": "nglPs2zwtKg_"
      }
    },
    {
      "cell_type": "markdown",
      "source": [
        "5)\n",
        "\n",
        "Multiline strings allow you to use newlines in strings without the \\n escape character.\n",
        "\n",
        "\n",
        "---\n",
        "\n"
      ],
      "metadata": {
        "id": "BNo8Mlh3t1WQ"
      }
    },
    {
      "cell_type": "markdown",
      "source": [
        "6)\n",
        "\n",
        "'Hello, world!'[1] **= e**\n",
        "\n",
        "'Hello, world!'[0:5] **= Hello**\n",
        "\n",
        "'Hello, world!'[:5] **= Hello**\n",
        "\n",
        "'Hello, world!'[3:] **= lo, world!**\n",
        "\n",
        "\n",
        "---\n",
        "\n"
      ],
      "metadata": {
        "id": "xwJ6CzbluQHX"
      }
    },
    {
      "cell_type": "markdown",
      "source": [
        "7)\n",
        "\n",
        "'Hello'.upper() **= HELLO**\n",
        "\n",
        "'Hello'.upper().isupper() **= True**\n",
        "\n",
        "'Hello'.upper().lower() **= hello**\n",
        "\n",
        "\n",
        "---\n",
        "\n"
      ],
      "metadata": {
        "id": "NiSGfboCvQJk"
      }
    },
    {
      "cell_type": "markdown",
      "source": [
        "8)\n",
        "\n",
        "'Remember, remember, the fifth of July.'.split() **= ['Remember,', 'remember,', 'the', 'fifth', 'of', 'July.']**\n",
        "\n",
        "'-'.join('There can only one.'.split()) **= There-can-only-one.**\n",
        " \n",
        "\n",
        "---\n",
        "\n"
      ],
      "metadata": {
        "id": "ka7jT9gNvTlT"
      }
    },
    {
      "cell_type": "markdown",
      "source": [
        "9)\n",
        "\n",
        "str.ljust(s, width[, fillchar]) **= This function left aligns the string according to the width specified and fills remaining space of line with blank space if ‘ fillchr ‘ argument is not passed.**\n",
        "\n",
        "\n",
        "```\n",
        "# the working of  ljust()\n",
        "  \n",
        "lstr = \"I love iNeuron\"\n",
        "  \n",
        "# Printing the original string\n",
        "print (\"The original string is : \\n\", lstr, \"\\n\")\n",
        "  \n",
        "# Printing the left aligned \n",
        "# string with \"-\" padding \n",
        "print (\"The left aligned string is : \")\n",
        "print (lstr.ljust(40, '-'))\n",
        "\n",
        "---------\n",
        "Output :\n",
        "\n",
        "The original string is : \n",
        " I love iNeuron \n",
        "\n",
        "The left aligned string is : \n",
        "I love iNeuron--------------------\n",
        "\n",
        "```\n",
        "\n",
        "\n",
        "\n",
        "str.rjust(s, width[, fillchar]) **= This function right aligns the string according to the width specified and fills remaining space of line with blank space if ‘ fillchr ‘ argument is not passed.**\n",
        "\n",
        "\n",
        "```\n",
        "# the working of rjust()\n",
        "  \n",
        "rstr = \"I love iNeuron\"\n",
        "  \n",
        "# Printing the original string\n",
        "print (\"The original string is : \\n\", rstr, \"\\n\")\n",
        "  \n",
        "# Printing the right aligned string\n",
        "# with \"-\" padding \n",
        "print (\"The right aligned string is : \")\n",
        "print (rstr.rjust(40, '-'))\n",
        "--------\n",
        "Output :\n",
        "\n",
        "The original string is : \n",
        " I love iNeuron \n",
        "\n",
        "The right aligned string is : \n",
        "--------------------I love iNeuron \n",
        "```\n",
        "\n",
        "\n",
        "\n",
        "str.center(s, width[, fillchar]) **= This function center aligns the string according to the width specified and fills remaining space of line with blank space if ‘ fillchr ‘ argument is not passed.**\n",
        "\n",
        "\n",
        "```\n",
        "# the working of center()\n",
        "  \n",
        "cstr = \"I love iNeuron\"\n",
        "  \n",
        "# Printing the original string\n",
        "print (\"The original string is : \\n\", cstr, \"\\n\")\n",
        "  \n",
        "# Printing the center aligned string \n",
        "print (\"The center aligned string is : \")\n",
        "print (cstr.center(40), \"\\n\")\n",
        "  \n",
        "# Printing the center aligned \n",
        "# string with fillchr\n",
        "print (\"Center aligned string with fillchr: \")\n",
        "print (cstr.center(40, '#'))\n",
        "--------\n",
        "Output :\n",
        "The original string is : \n",
        " I love iNeuron \n",
        "\n",
        "The center aligned string is : \n",
        "          I love iNeuron           \n",
        "\n",
        "Center aligned string with fillchr: \n",
        "##########I love iNeuron##########\n",
        "```\n",
        "\n",
        "\n",
        "\n",
        "\n",
        "\n",
        "---\n",
        "\n"
      ],
      "metadata": {
        "id": "FXYb7PyFvTMr"
      }
    },
    {
      "cell_type": "markdown",
      "source": [
        "10)\n",
        "\n",
        "The Python String strip() method is part of the built-in function available in python. The function will remove given characters from the start and end of the original string.\n",
        "\n",
        "\n",
        "\n"
      ],
      "metadata": {
        "id": "IGbv6pZhvP80"
      }
    }
  ]
}