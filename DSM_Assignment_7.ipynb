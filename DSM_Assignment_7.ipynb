{
  "nbformat": 4,
  "nbformat_minor": 0,
  "metadata": {
    "colab": {
      "name": "DSM_Assignment_7.ipynb",
      "provenance": [],
      "authorship_tag": "ABX9TyN7qSacD+izEklcpN9+T71x",
      "include_colab_link": true
    },
    "kernelspec": {
      "name": "python3",
      "display_name": "Python 3"
    },
    "language_info": {
      "name": "python"
    }
  },
  "cells": [
    {
      "cell_type": "markdown",
      "metadata": {
        "id": "view-in-github",
        "colab_type": "text"
      },
      "source": [
        "<a href=\"https://colab.research.google.com/github/saikumarreddykorsapati-source/DataScience_Masters_Assignments/blob/main/DSM_Assignment_7.ipynb\" target=\"_parent\"><img src=\"https://colab.research.google.com/assets/colab-badge.svg\" alt=\"Open In Colab\"/></a>"
      ]
    },
    {
      "cell_type": "markdown",
      "source": [
        "1) \n",
        "\n",
        "The re.compile() function returns Regex objects.\n",
        "\n",
        "\n",
        "---\n",
        "\n"
      ],
      "metadata": {
        "id": "l7dGoqWL01OT"
      }
    },
    {
      "cell_type": "markdown",
      "source": [
        "2)\n",
        "\n",
        "Raw strings are used so that backslashes do not have to be escaped.\n",
        "\n",
        "\n",
        "\n",
        "\n",
        "\n",
        "---\n",
        "\n"
      ],
      "metadata": {
        "id": "m9Sb1NXI10xD"
      }
    },
    {
      "cell_type": "markdown",
      "source": [
        "3)\n",
        "\n",
        "The search() method returns Match objects.\n",
        "\n",
        "---\n",
        "\n"
      ],
      "metadata": {
        "id": "qdY3nsiK10tI"
      }
    },
    {
      "cell_type": "markdown",
      "source": [
        "4)\n",
        "\n",
        "The group() method returns strings of the matched text.\n",
        "\n",
        "\n",
        "---\n",
        "\n"
      ],
      "metadata": {
        "id": "O0QqvbwE10pM"
      }
    },
    {
      "cell_type": "markdown",
      "source": [
        "5)\n",
        "\n",
        "Group 0 is the entire match, group 1 covers the first set of parentheses, and group 2 covers the second set of parentheses.\n",
        "\n",
        "---\n",
        "\n"
      ],
      "metadata": {
        "id": "ZkDS1ZXO10is"
      }
    },
    {
      "cell_type": "markdown",
      "source": [
        "6)\n",
        "\n",
        "Periods and parentheses can be escaped with a backslash: \\., \\(, and \\).\n",
        "\n",
        "---\n",
        "\n"
      ],
      "metadata": {
        "id": "fK-6XJ_x10fR"
      }
    },
    {
      "cell_type": "markdown",
      "source": [
        "7)\n",
        "\n",
        "If the regex has no groups, a list of strings is returned. If the regex has groups, a list of tuples of strings is returned.\n",
        "\n",
        "---\n",
        "\n"
      ],
      "metadata": {
        "id": "5mCDVhan10au"
      }
    },
    {
      "cell_type": "markdown",
      "source": [
        "8)\n",
        "\n",
        "Vertical Bar ( | ) :\n",
        "Matches any one element separated by the vertical bar (|) character.\n",
        "\n",
        "The | character signifies matching \"either, or\" between two groups.\n",
        "\n",
        "Example :  th(e|is|at) will match words - the, this and that.\n",
        "\n",
        "---\n",
        "\n"
      ],
      "metadata": {
        "id": "fPn6_Cn410W5"
      }
    },
    {
      "cell_type": "markdown",
      "source": [
        "9)\n",
        "\n",
        "A character class matches any one of a set of characters. It is used to match the most basic element of a language like a letter, a digit, space, a symbol etc\n",
        "\n",
        "---\n",
        "\n"
      ],
      "metadata": {
        "id": "7uyMHDQt10Su"
      }
    },
    {
      "cell_type": "markdown",
      "source": [
        "10)\n",
        "\n",
        "Each of them are quantifiers, the star quantifier( * ) means that the preceding expression can match zero or more times it is like {0,} while the plus quantifier( + ) indicate that the preceding expression MUST match at least one time or multiple times and it is the same as {1,}\n",
        "\n",
        "---\n",
        "\n"
      ],
      "metadata": {
        "id": "52TjKdkI10OW"
      }
    },
    {
      "cell_type": "markdown",
      "source": [
        "11)\n",
        "\n",
        "The curly braces {…}:\n",
        "It tells the computer to repeat the preceding character (or set of characters) for as many times as the value inside this bracket.\n",
        "\n",
        "eg: \n",
        "\n",
        "{4} means that the preceding character is to be repeated 4 \n",
        "times , \n",
        "\n",
        "{4,5} means that the preceding character is repeated at\n",
        "least 4 & at most 5 times.\n",
        "\n",
        "---\n",
        "\n"
      ],
      "metadata": {
        "id": "36SiP6Lr10Iz"
      }
    },
    {
      "cell_type": "markdown",
      "source": [
        "12)\n",
        "\n",
        " The \\d, \\w, and \\s shorthand character classes match a single digit, word, or space character, respectively.\n",
        "\n",
        "\n",
        "---\n",
        "\n"
      ],
      "metadata": {
        "id": "XHzqkT7e1z_k"
      }
    },
    {
      "cell_type": "markdown",
      "source": [
        "13)\n",
        "\n",
        "These negated shorthand classes include:\n",
        "\n",
        "\\W: the \"non-word character\" class represents the regex range [^A-Za-z0-9_], matching any character that is not included in the range represented by \\w\n",
        "\n",
        "\\D: the \"non-digit character\" class represents the regex range [^0-9], matching any character that is not included in the range represented by \\d\n",
        "\n",
        "\\S: the “non-whitespace character” class represents the regex range [^ \\t\\r\\n\\f\\v], matching any character that is not included in the range represented by \\s\n",
        "\n",
        "---\n",
        "\n"
      ],
      "metadata": {
        "id": "1mnRtJOe2SQD"
      }
    },
    {
      "cell_type": "markdown",
      "source": [
        "14)\n",
        "\n",
        "(.*?) matches any character (.) any number of times (*), as few times as possible to make the regex match (?). You'll get a match on any string, but you'll only capture a blank string because of the question mark. \n",
        "\n",
        "(.*)? captures a group zero or one times (?). That group consists of a run of any length (*) of any character (.). This also will match anything, but it will capture the first line, since the dot matches anything except a newline.\n",
        "\n",
        "---\n",
        "\n"
      ],
      "metadata": {
        "id": "ddClkQ1T2T6-"
      }
    },
    {
      "cell_type": "markdown",
      "source": [
        "15)\n",
        "\n",
        "Either [0-9a-z] or [a-z0-9]\n",
        "\n",
        "---\n",
        "\n"
      ],
      "metadata": {
        "id": "NOroFZ8O2VfK"
      }
    },
    {
      "cell_type": "markdown",
      "source": [
        "16)\n",
        "\n",
        "Passing re.I or re.IGNORECASE as the second argument to re.compile() will make the matching case insensitive.\n",
        "\n",
        "---\n",
        "\n"
      ],
      "metadata": {
        "id": "HvibRiTp2XPa"
      }
    },
    {
      "cell_type": "markdown",
      "source": [
        "17)\n",
        "\n",
        "The . character normally matches any character except the newline character. If re.DOTALL is passed as the second argument to re.compile(), then the dot will also match newline characters.\n",
        "\n",
        "---\n",
        "\n"
      ],
      "metadata": {
        "id": "tuMr7OrT2VJi"
      }
    },
    {
      "cell_type": "markdown",
      "source": [
        "18)\n",
        "'X drummers, X pipers, five rings, X hens'\n",
        "\n",
        "\n",
        "---\n",
        "\n"
      ],
      "metadata": {
        "id": "bkHH0BDu2ixC"
      }
    },
    {
      "cell_type": "markdown",
      "source": [
        "19)\n",
        "The re.VERBOSE argument allows you to add whitespace and comments to the string passed to re.compile().\n",
        "\n",
        "\n",
        "---\n",
        "\n"
      ],
      "metadata": {
        "id": "XcPb0yR22kXk"
      }
    },
    {
      "cell_type": "markdown",
      "source": [
        "20)\n",
        "\n",
        "re.compile(r'^\\d{1,3}(,\\d{3})*$') will create this regex, but other regex strings can produce a similar regular expression.\n",
        "\n",
        "\n",
        "---\n",
        "\n"
      ],
      "metadata": {
        "id": "pef73rJo2mf-"
      }
    },
    {
      "cell_type": "markdown",
      "source": [
        "21)\n",
        "\n",
        "re.compile(r'[A-Z][a-z]*\\sWatanabe')\n",
        "\n",
        "---\n",
        "\n"
      ],
      "metadata": {
        "id": "9M_RGjNy2ojB"
      }
    },
    {
      "cell_type": "markdown",
      "source": [
        "22)\n",
        "\n",
        "re.compile(r'(Alice|Bob|Carol)\\s(eats|pets|throws)\\s(apples|cats|baseballs)\\.', re.IGNORECASE)\n"
      ],
      "metadata": {
        "id": "MBVA8uDz2qNF"
      }
    }
  ]
}