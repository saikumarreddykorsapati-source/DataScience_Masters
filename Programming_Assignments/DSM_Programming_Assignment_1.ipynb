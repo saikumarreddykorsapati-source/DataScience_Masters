{
  "cells": [
    {
      "cell_type": "markdown",
      "metadata": {
        "id": "view-in-github",
        "colab_type": "text"
      },
      "source": [
        "<a href=\"https://colab.research.google.com/github/saikumarreddykorsapati-source/DataScience_Masters_Assignments/blob/main/Programming_Assignments/DSM_Programming_Assignment_1.ipynb\" target=\"_parent\"><img src=\"https://colab.research.google.com/assets/colab-badge.svg\" alt=\"Open In Colab\"/></a>"
      ]
    },
    {
      "cell_type": "markdown",
      "metadata": {
        "id": "kjUW1mM3DsTK"
      },
      "source": [
        "#### 1.Write a Python program to print 'Hello Python' ?"
      ]
    },
    {
      "cell_type": "code",
      "execution_count": 1,
      "metadata": {
        "colab": {
          "base_uri": "https://localhost:8080/"
        },
        "id": "3OUPRtT6DsTL",
        "outputId": "65526e73-37a7-4745-dd8a-43cb99ad45e5"
      },
      "outputs": [
        {
          "output_type": "stream",
          "name": "stdout",
          "text": [
            "Hello Python\n"
          ]
        }
      ],
      "source": [
        "print('Hello Python')"
      ]
    },
    {
      "cell_type": "markdown",
      "source": [
        "\n",
        "\n",
        "---\n",
        "\n"
      ],
      "metadata": {
        "id": "2E6xXj4XFm8s"
      }
    },
    {
      "cell_type": "markdown",
      "metadata": {
        "id": "m3yEUUzrDsTO"
      },
      "source": [
        "#### 2.Write a Python program to do arithmetic operations addition and division ?"
      ]
    },
    {
      "cell_type": "code",
      "execution_count": 2,
      "metadata": {
        "colab": {
          "base_uri": "https://localhost:8080/"
        },
        "id": "i48fDr2pDsTP",
        "outputId": "c49c3e80-bb46-40bd-f5a0-c2633d96ad9e"
      },
      "outputs": [
        {
          "output_type": "stream",
          "name": "stdout",
          "text": [
            "Select a Arithmetic Operation:         \n",
            "1.Addition(+)        \n",
            "2.Division(-)        \n",
            "2.Multiplication(*)        \n",
            "4.Division(/)        \n",
            "3.Stop(0)\n",
            "\n",
            "Enter a arithmetic operation -> -\n",
            "\n",
            "Enter 1st Number: 20\n",
            "Enter 2nd Number: 30\n",
            "20-30=-10\n",
            "\n",
            "Enter a arithmetic operation -> +\n",
            "\n",
            "Enter 1st Number: 20\n",
            "Enter 2nd Number: 30\n",
            "20+30=50\n",
            "\n",
            "Enter a arithmetic operation -> *\n",
            "\n",
            "Enter 1st Number: 20\n",
            "Enter 2nd Number: 30\n",
            "20*30=600\n",
            "\n",
            "Enter a arithmetic operation -> /\n",
            "\n",
            "Enter 1st Number: 20\n",
            "Enter 2nd Number: 30\n",
            "20/30=0.6666666666666666\n",
            "\n",
            "Enter a arithmetic operation -> 0\n",
            "Program Stopped successfully\n"
          ]
        }
      ],
      "source": [
        "import operator\n",
        "\n",
        "ops = { \"+\": operator.add, \"-\": operator.sub, \"*\":operator.mul, \"/\":operator.truediv } \n",
        "\n",
        "print('Select a Arithmetic Operation: \\\n",
        "        \\n1.Addition(+)\\\n",
        "        \\n2.Division(-)\\\n",
        "        \\n2.Multiplication(*)\\\n",
        "        \\n4.Division(/)\\\n",
        "        \\n3.Stop(0)\\n')\n",
        "   \n",
        "\n",
        "while True:\n",
        "    operator = input('Enter a arithmetic operation -> ')\n",
        "    if operator == '0':\n",
        "        print(\"Program Stopped successfully\")\n",
        "        break\n",
        "    elif operator not in ['+','-','*','/']:\n",
        "        print(\"Please enter a valid operator\")\n",
        "    else:\n",
        "        num_1 = int(input('\\nEnter 1st Number: '))\n",
        "        num_2 = int(input('Enter 2nd Number: '))\n",
        "        print('{}{}{}={}\\n'.format(num_1, operator, num_2, ops[operator](num_1,num_2)))\n"
      ]
    },
    {
      "cell_type": "markdown",
      "source": [
        "\n",
        "\n",
        "---\n",
        "\n"
      ],
      "metadata": {
        "id": "fCKgxhTGFp9_"
      }
    },
    {
      "cell_type": "markdown",
      "metadata": {
        "id": "Bo9I7zLQDsTQ"
      },
      "source": [
        "#### 3.Write a Python program to find the area of a triangle ?"
      ]
    },
    {
      "cell_type": "code",
      "execution_count": 3,
      "metadata": {
        "colab": {
          "base_uri": "https://localhost:8080/"
        },
        "id": "Ofu1u_5VDsTR",
        "outputId": "672ee9eb-7b6c-489e-e03e-5653781f42c9"
      },
      "outputs": [
        {
          "output_type": "stream",
          "name": "stdout",
          "text": [
            "Enter height of triangle: 200\n",
            "Enter base of triangle: 100\n",
            "\n",
            "Area of triangle -> 10000.0\n"
          ]
        }
      ],
      "source": [
        "height = int(input('Enter height of triangle: '))\n",
        "base = int(input('Enter base of triangle: '))\n",
        "\n",
        "def areaOfTriangle(height, base):\n",
        "    print('\\nArea of triangle ->', 0.5*height*base)\n",
        "\n",
        "areaOfTriangle(height,base)"
      ]
    },
    {
      "cell_type": "markdown",
      "source": [
        "\n",
        "\n",
        "---\n",
        "\n"
      ],
      "metadata": {
        "id": "w6sxgeAUFrzi"
      }
    },
    {
      "cell_type": "markdown",
      "metadata": {
        "id": "UEtF-ljcDsTS"
      },
      "source": [
        "#### 4.Write a Python program to swap two variables ?"
      ]
    },
    {
      "cell_type": "code",
      "execution_count": 4,
      "metadata": {
        "colab": {
          "base_uri": "https://localhost:8080/"
        },
        "id": "lOBTBkoYDsTT",
        "outputId": "acccc772-4501-4500-d8bf-40ffcb3b5346"
      },
      "outputs": [
        {
          "output_type": "stream",
          "name": "stdout",
          "text": [
            "Enter First Number: 2\n",
            "Enter Second Number: 3\n",
            "Before swapping ->  2 3\n",
            "After swapping ->  3 2\n"
          ]
        }
      ],
      "source": [
        "num_1 = int(input(\"Enter First Number: \"))\n",
        "num_2 = int(input(\"Enter Second Number: \"))\n",
        "\n",
        "def swapNumbers(a,b):\n",
        "    temp = a\n",
        "    a = b\n",
        "    b = temp\n",
        "    return a,b\n",
        "\n",
        "print('Before swapping -> ',num_1, num_2)\n",
        "num_1, num_2 = swapNumbers(num_1, num_2)\n",
        "print('After swapping -> ',num_1,num_2)\n",
        "\n",
        "   "
      ]
    },
    {
      "cell_type": "markdown",
      "source": [
        "\n",
        "\n",
        "---\n",
        "\n"
      ],
      "metadata": {
        "id": "EP40JrAFFtRN"
      }
    },
    {
      "cell_type": "markdown",
      "metadata": {
        "id": "-WqyfpLYDsTU"
      },
      "source": [
        "#### 5.Write a Python program to generate a random number ?"
      ]
    },
    {
      "cell_type": "code",
      "execution_count": 5,
      "metadata": {
        "colab": {
          "base_uri": "https://localhost:8080/"
        },
        "id": "TaBIStk7DsTV",
        "outputId": "e90a7c19-56ea-4ee3-dc0b-75b6e5ce5387"
      },
      "outputs": [
        {
          "output_type": "stream",
          "name": "stdout",
          "text": [
            "Random number ->  77010\n",
            "Random number ->  84\n"
          ]
        }
      ],
      "source": [
        "from random import randint\n",
        "\n",
        "def generateRandomNumber(start=0, end=100000):\n",
        "    print('Random number -> ',randint(start,end))\n",
        "\n",
        "# Generating random numbers without arguments    \n",
        "generateRandomNumber()\n",
        "\n",
        "# Generating random numbers with arguments    \n",
        "generateRandomNumber(0,100)"
      ]
    }
  ],
  "metadata": {
    "kernelspec": {
      "display_name": "Python 3",
      "language": "python",
      "name": "python3"
    },
    "language_info": {
      "codemirror_mode": {
        "name": "ipython",
        "version": 3
      },
      "file_extension": ".py",
      "mimetype": "text/x-python",
      "name": "python",
      "nbconvert_exporter": "python",
      "pygments_lexer": "ipython3",
      "version": "3.8.8"
    },
    "colab": {
      "name": "DSM_Programming Assignment_1.ipynb",
      "provenance": [],
      "include_colab_link": true
    }
  },
  "nbformat": 4,
  "nbformat_minor": 0
}