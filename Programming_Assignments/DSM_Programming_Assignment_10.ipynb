{
  "cells": [
    {
      "cell_type": "markdown",
      "metadata": {
        "id": "view-in-github",
        "colab_type": "text"
      },
      "source": [
        "<a href=\"https://colab.research.google.com/github/saikumarreddykorsapati-source/DataScience_Masters_Assignments/blob/main/Programming_Assignments/DSM_Programming_Assignment_10.ipynb\" target=\"_parent\"><img src=\"https://colab.research.google.com/assets/colab-badge.svg\" alt=\"Open In Colab\"/></a>"
      ]
    },
    {
      "cell_type": "markdown",
      "id": "d6f96d38",
      "metadata": {
        "id": "d6f96d38"
      },
      "source": [
        "#### 1.Write a Python Program to find sum of elements in a list ?"
      ]
    },
    {
      "cell_type": "code",
      "execution_count": 1,
      "id": "1fbea5b2",
      "metadata": {
        "colab": {
          "base_uri": "https://localhost:8080/"
        },
        "id": "1fbea5b2",
        "outputId": "f08d0071-244e-488c-8e0e-d225e6f4d917"
      },
      "outputs": [
        {
          "output_type": "stream",
          "name": "stdout",
          "text": [
            "Enter the No of Entries in a List: 4\n",
            "Enter a element: 3\n",
            "Enter a element: 4\n",
            "Enter a element: 2\n",
            "Enter a element: 5\n",
            "Sum of Elements: 14\n"
          ]
        }
      ],
      "source": [
        "def sumofList():\n",
        "    in_ele = int(input('Enter the No of Entries in a List: '))\n",
        "    in_list = []\n",
        "    for itr in range(in_ele):\n",
        "        in_list.append(int(input('Enter a element: ')))\n",
        "    print(f'Sum of Elements: {sum(in_list)}')\n",
        "\n",
        "sumofList()"
      ]
    },
    {
      "cell_type": "markdown",
      "source": [
        "\n",
        "\n",
        "---\n",
        "\n"
      ],
      "metadata": {
        "id": "Uuyux5ArLa8W"
      },
      "id": "Uuyux5ArLa8W"
    },
    {
      "cell_type": "markdown",
      "id": "35ff9c7c",
      "metadata": {
        "id": "35ff9c7c"
      },
      "source": [
        "#### 2.Write a Python Program to multiply all numbers in the list ?"
      ]
    },
    {
      "cell_type": "code",
      "execution_count": 2,
      "id": "d77e77e6",
      "metadata": {
        "colab": {
          "base_uri": "https://localhost:8080/"
        },
        "id": "d77e77e6",
        "outputId": "c88c2ec1-dd9d-440e-cd3c-b0af5d7283ad"
      },
      "outputs": [
        {
          "output_type": "stream",
          "name": "stdout",
          "text": [
            "Enter the No of Entries in a List: 4\n",
            "Enter a element: 2\n",
            "Enter a element: 1\n",
            "Enter a element: 2\n",
            "Enter a element: 3\n",
            "12\n"
          ]
        }
      ],
      "source": [
        "def mulofList():\n",
        "    in_ele = int(input('Enter the No of Entries in a List: '))\n",
        "    in_list = []\n",
        "    mul = 1\n",
        "    for itr in range(in_ele):\n",
        "        in_list.append(int(input('Enter a element: ')))\n",
        "    for ele in in_list:\n",
        "        mul = mul * ele\n",
        "    print(mul)\n",
        "\n",
        "mulofList()"
      ]
    },
    {
      "cell_type": "markdown",
      "source": [
        "\n",
        "\n",
        "---\n",
        "\n"
      ],
      "metadata": {
        "id": "ucc9PrIBLcj3"
      },
      "id": "ucc9PrIBLcj3"
    },
    {
      "cell_type": "markdown",
      "id": "0561967b",
      "metadata": {
        "id": "0561967b"
      },
      "source": [
        "#### 3.Write a Python Program to find smallest number in the list ?"
      ]
    },
    {
      "cell_type": "code",
      "execution_count": 4,
      "id": "3e9863eb",
      "metadata": {
        "colab": {
          "base_uri": "https://localhost:8080/"
        },
        "id": "3e9863eb",
        "outputId": "b23e5543-3f71-4f25-8fd6-c00d35a7a8a6"
      },
      "outputs": [
        {
          "output_type": "stream",
          "name": "stdout",
          "text": [
            "Enter the No of elements in a list: 2\n",
            "Enter a Element: 1\n",
            "Enter a Element: 4\n",
            "The Smallest Element in [1, 4] is 1\n"
          ]
        }
      ],
      "source": [
        "def smallEleInList():\n",
        "    in_ele = int(input('Enter the No of elements in a list: '))\n",
        "    in_list = []\n",
        "    for ele in range(in_ele):\n",
        "        in_list.append(int(input('Enter a Element: ')))\n",
        "    print(f'The Smallest Element in {in_list} is {sorted(in_list)[0]}')\n",
        "smallEleInList()"
      ]
    },
    {
      "cell_type": "markdown",
      "source": [
        "\n",
        "\n",
        "---\n",
        "\n"
      ],
      "metadata": {
        "id": "fi5ogPmYLdxG"
      },
      "id": "fi5ogPmYLdxG"
    },
    {
      "cell_type": "markdown",
      "id": "0684d2e6",
      "metadata": {
        "id": "0684d2e6"
      },
      "source": [
        "#### 4.Write a Python Program to find largest number in the list ?"
      ]
    },
    {
      "cell_type": "code",
      "execution_count": 5,
      "id": "c1984a1c",
      "metadata": {
        "colab": {
          "base_uri": "https://localhost:8080/"
        },
        "id": "c1984a1c",
        "outputId": "94d7fff9-cab0-4e86-fc9a-270977e75df8"
      },
      "outputs": [
        {
          "output_type": "stream",
          "name": "stdout",
          "text": [
            "Enter the No of elements in a list: 5\n",
            "Enter a Element: 3\n",
            "Enter a Element: 2\n",
            "Enter a Element: 1\n",
            "Enter a Element: 4\n",
            "Enter a Element: 1\n",
            "The Largest Element in [3, 2, 1, 4, 1] is 4\n"
          ]
        }
      ],
      "source": [
        "def largestEleInList():\n",
        "    in_ele = int(input('Enter the No of elements in a list: '))\n",
        "    in_list = []\n",
        "    for ele in range(in_ele):\n",
        "        in_list.append(int(input('Enter a Element: ')))\n",
        "    print(f'The Largest Element in {in_list} is {sorted(in_list, reverse=True)[0]}')\n",
        "\n",
        "largestEleInList()"
      ]
    },
    {
      "cell_type": "markdown",
      "source": [
        "\n",
        "\n",
        "---\n",
        "\n"
      ],
      "metadata": {
        "id": "tsy2g7sTLfBk"
      },
      "id": "tsy2g7sTLfBk"
    },
    {
      "cell_type": "markdown",
      "id": "ef882ac4",
      "metadata": {
        "id": "ef882ac4"
      },
      "source": [
        "#### 5.Write a Python Program to find second largest number in the list ?"
      ]
    },
    {
      "cell_type": "code",
      "execution_count": 8,
      "id": "ca2c5e29",
      "metadata": {
        "colab": {
          "base_uri": "https://localhost:8080/"
        },
        "id": "ca2c5e29",
        "outputId": "3742e44c-238d-484b-dbbb-7da99ec76704"
      },
      "outputs": [
        {
          "output_type": "stream",
          "name": "stdout",
          "text": [
            "Enter the No of elements in a list: 5\n",
            "Enter a Element: 2\n",
            "Enter a Element: 3\n",
            "Enter a Element: 4\n",
            "Enter a Element: 5\n",
            "Enter a Element: 1\n",
            "The Second Largest Element in [2, 3, 4, 5, 1] is 4\n"
          ]
        }
      ],
      "source": [
        "def secondLargestEleInList():\n",
        "    in_ele = int(input('Enter the No of elements in a list: '))\n",
        "    in_list = []\n",
        "    for ele in range(in_ele):\n",
        "        in_list.append(int(input('Enter a Element: ')))\n",
        "    print(f'The Second Largest Element in {in_list} is {sorted(in_list, reverse=True)[1]}')\n",
        "\n",
        "secondLargestEleInList()"
      ]
    },
    {
      "cell_type": "markdown",
      "source": [
        "\n",
        "\n",
        "---\n",
        "\n"
      ],
      "metadata": {
        "id": "4Y7HyyOoLg3q"
      },
      "id": "4Y7HyyOoLg3q"
    },
    {
      "cell_type": "markdown",
      "id": "ee185d52",
      "metadata": {
        "id": "ee185d52"
      },
      "source": [
        "#### 6.Write a Python Program to find N largest elements in the list ?"
      ]
    },
    {
      "cell_type": "code",
      "execution_count": 10,
      "id": "e2c518fa",
      "metadata": {
        "colab": {
          "base_uri": "https://localhost:8080/"
        },
        "id": "e2c518fa",
        "outputId": "e3a70a1c-9dd6-4c79-fb60-9cef700210bd"
      },
      "outputs": [
        {
          "output_type": "stream",
          "name": "stdout",
          "text": [
            "Enter the No of elements in a list: 8\n",
            "Enter a Element: 2\n",
            "Enter a Element: 2\n",
            "Enter a Element: 2\n",
            "Enter a Element: 1\n",
            "Enter a Element: 4\n",
            "Enter a Element: 3\n",
            "Enter a Element: 5\n",
            "Enter a Element: 6\n",
            "The 4 Largest Element in [2, 2, 2, 1, 4, 3, 5, 6] is [6, 5, 4, 3]\n"
          ]
        }
      ],
      "source": [
        "def nLargestEleInList(k):\n",
        "    in_ele = int(input('Enter the No of elements in a list: '))\n",
        "    in_list = []\n",
        "    for ele in range(in_ele):\n",
        "        in_list.append(int(input('Enter a Element: ')))\n",
        "    print(f'The {k} Largest Element in {in_list} is {sorted(in_list, reverse=True)[0:k]}')\n",
        "\n",
        "nLargestEleInList(4)"
      ]
    },
    {
      "cell_type": "markdown",
      "source": [
        "\n",
        "\n",
        "---\n",
        "\n"
      ],
      "metadata": {
        "id": "IlKmOatELiUT"
      },
      "id": "IlKmOatELiUT"
    },
    {
      "cell_type": "markdown",
      "id": "7f5a2b91",
      "metadata": {
        "id": "7f5a2b91"
      },
      "source": [
        "#### 7.Write a Python Program to find even numbers in the list ?"
      ]
    },
    {
      "cell_type": "code",
      "execution_count": 11,
      "id": "e9b0d19a",
      "metadata": {
        "colab": {
          "base_uri": "https://localhost:8080/"
        },
        "id": "e9b0d19a",
        "outputId": "283f9382-4571-47af-9b69-77cd9445267f"
      },
      "outputs": [
        {
          "output_type": "stream",
          "name": "stdout",
          "text": [
            "Enter the No of elements in a list: 4\n",
            "Enter a Element: 2\n",
            "Enter a Element: 3\n",
            "Enter a Element: 4\n",
            "Enter a Element: 1\n",
            "The Even Elements in [2, 3, 4, 1] are [2, 4]\n"
          ]
        }
      ],
      "source": [
        "def evenNoInList():\n",
        "    in_ele = int(input('Enter the No of elements in a list: '))\n",
        "    in_list = []\n",
        "    even_list = []\n",
        "    for ele in range(in_ele):\n",
        "        in_list.append(int(input('Enter a Element: ')))\n",
        "    for ele in in_list:\n",
        "        if ele%2 == 0:\n",
        "            even_list.append(ele)\n",
        "    print(f'The Even Elements in {in_list} are {even_list}')\n",
        "\n",
        "evenNoInList()"
      ]
    },
    {
      "cell_type": "markdown",
      "source": [
        "\n",
        "\n",
        "---\n",
        "\n"
      ],
      "metadata": {
        "id": "n6sXEdB_Lj4I"
      },
      "id": "n6sXEdB_Lj4I"
    },
    {
      "cell_type": "markdown",
      "id": "a5d3f862",
      "metadata": {
        "id": "a5d3f862"
      },
      "source": [
        "#### 8.Write a Python Program to find odd numbers in the list ?"
      ]
    },
    {
      "cell_type": "code",
      "execution_count": 16,
      "id": "101d0718",
      "metadata": {
        "colab": {
          "base_uri": "https://localhost:8080/"
        },
        "id": "101d0718",
        "outputId": "c850a6ff-ed5c-4c00-88c2-6d3b8cd102c3"
      },
      "outputs": [
        {
          "output_type": "stream",
          "name": "stdout",
          "text": [
            "Enter the No of elements in a list: 5\n",
            "Enter a Element: 3\n",
            "Enter a Element: 2\n",
            "Enter a Element: 1\n",
            "Enter a Element: 1\n",
            "Enter a Element: 4\n",
            "The Even Elements in [3, 2, 1, 1, 4] are [3, 1, 1]\n"
          ]
        }
      ],
      "source": [
        "def oddNoInList():\n",
        "    in_ele = int(input('Enter the No of elements in a list: '))\n",
        "    in_list = []\n",
        "    odd_list = []\n",
        "    for ele in range(in_ele):\n",
        "        in_list.append(int(input('Enter a Element: ')))\n",
        "    for ele in in_list:\n",
        "        if ele%2 != 0:\n",
        "            odd_list.append(ele)\n",
        "    print(f'The Even Elements in {in_list} are {odd_list}')\n",
        "\n",
        "oddNoInList()"
      ]
    },
    {
      "cell_type": "markdown",
      "source": [
        "\n",
        "\n",
        "---\n",
        "\n"
      ],
      "metadata": {
        "id": "iIKIx86kLlHa"
      },
      "id": "iIKIx86kLlHa"
    },
    {
      "cell_type": "markdown",
      "id": "f97fa7ea",
      "metadata": {
        "id": "f97fa7ea"
      },
      "source": [
        "#### 9.Write a Python Program to remove empty list from list ?"
      ]
    },
    {
      "cell_type": "code",
      "execution_count": 21,
      "id": "193a2ef1",
      "metadata": {
        "colab": {
          "base_uri": "https://localhost:8080/"
        },
        "id": "193a2ef1",
        "outputId": "f363a08a-1d8a-46dd-8840-1cde824089da"
      },
      "outputs": [
        {
          "output_type": "stream",
          "name": "stdout",
          "text": [
            "Enter all elements of the list: [1,2,3,4,5,[],6,7,8,9,0]\n",
            "There is an Empty list in [1, 2, 3, 4, 5, [], 6, 7, 8, 9, 0] at Position 5\n",
            "The List after removing [] is [1, 2, 3, 4, 5, 6, 7, 8, 9, 0]\n"
          ]
        }
      ],
      "source": [
        "def checkEmptyList():\n",
        "    in_list = eval(input('Enter all elements of the list: '))\n",
        "    if [] in in_list:\n",
        "        print(f'There is an Empty list in {in_list} at Position {in_list.index([])}')\n",
        "        in_list.remove([])\n",
        "        print(f'The List after removing [] is {in_list}')\n",
        "    else:\n",
        "        print(f'There is no [] List in the list {in_list}')\n",
        "        \n",
        "checkEmptyList()"
      ]
    },
    {
      "cell_type": "markdown",
      "source": [
        "\n",
        "\n",
        "---\n",
        "\n"
      ],
      "metadata": {
        "id": "1evqeH4dLmjm"
      },
      "id": "1evqeH4dLmjm"
    },
    {
      "cell_type": "markdown",
      "id": "1a5b1f91",
      "metadata": {
        "id": "1a5b1f91"
      },
      "source": [
        "#### 10.Write a Python Program to Cloning or Copying a list ?"
      ]
    },
    {
      "cell_type": "code",
      "execution_count": 22,
      "id": "55882ca5",
      "metadata": {
        "colab": {
          "base_uri": "https://localhost:8080/"
        },
        "id": "55882ca5",
        "outputId": "681bf28c-4ae6-4416-928e-19daa3a8e409"
      },
      "outputs": [
        {
          "output_type": "stream",
          "name": "stdout",
          "text": [
            "Enter a list[1,23,4,5,2,3,4,5,2]\n",
            "[1, 23, 4, 5, 2, 3, 4, 5, 2] 140515108951136\n",
            "[1, 23, 4, 5, 2, 3, 4, 5, 2] 140515108978848\n"
          ]
        }
      ],
      "source": [
        "import copy\n",
        "\n",
        "def cloneList():\n",
        "    in_list = eval(input('Enter a list'))\n",
        "    print(in_list, id(in_list))\n",
        "    cloned_list = in_list.copy()\n",
        "    print(cloned_list, id(cloned_list))\n",
        "\n",
        "cloneList()"
      ]
    },
    {
      "cell_type": "markdown",
      "source": [
        "\n",
        "\n",
        "---\n",
        "\n"
      ],
      "metadata": {
        "id": "iHtJ5On4LoHM"
      },
      "id": "iHtJ5On4LoHM"
    },
    {
      "cell_type": "markdown",
      "id": "37e5e6bd",
      "metadata": {
        "id": "37e5e6bd"
      },
      "source": [
        "#### 11.Write a Python Program to count occurences of an element in a list ?"
      ]
    },
    {
      "cell_type": "code",
      "execution_count": 23,
      "id": "8a5e7b52",
      "metadata": {
        "colab": {
          "base_uri": "https://localhost:8080/"
        },
        "id": "8a5e7b52",
        "outputId": "14552d4b-c70a-42f2-fa1c-ec7c8755d1e0"
      },
      "outputs": [
        {
          "output_type": "stream",
          "name": "stdout",
          "text": [
            "Enter the elements of the list: [1,2,3,1,2,3,1,2,3,4,5,6,4,5,6]\n",
            "Enter the element to find: 3\n",
            "There are 3 occurences of 3 in [1, 2, 3, 1, 2, 3, 1, 2, 3, 4, 5, 6, 4, 5, 6]\n"
          ]
        }
      ],
      "source": [
        "def checkOccurence():\n",
        "    in_list = eval(input('Enter the elements of the list: '))\n",
        "    in_num = eval(input('Enter the element to find: '))\n",
        "    count = 0\n",
        "    if in_num in in_list:\n",
        "        for ele in in_list:\n",
        "            if ele == in_num:\n",
        "                count = count+1\n",
        "    print(f'There are {count} occurences of {in_num} in {in_list}')\n",
        "    \n",
        "checkOccurence()"
      ]
    }
  ],
  "metadata": {
    "kernelspec": {
      "display_name": "Python 3",
      "language": "python",
      "name": "python3"
    },
    "language_info": {
      "codemirror_mode": {
        "name": "ipython",
        "version": 3
      },
      "file_extension": ".py",
      "mimetype": "text/x-python",
      "name": "python",
      "nbconvert_exporter": "python",
      "pygments_lexer": "ipython3",
      "version": "3.8.8"
    },
    "colab": {
      "name": "DSM_Programming Assignment_10.ipynb",
      "provenance": [],
      "include_colab_link": true
    }
  },
  "nbformat": 4,
  "nbformat_minor": 5
}