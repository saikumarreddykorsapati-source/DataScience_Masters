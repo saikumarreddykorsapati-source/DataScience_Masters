{
  "cells": [
    {
      "cell_type": "markdown",
      "metadata": {
        "id": "view-in-github",
        "colab_type": "text"
      },
      "source": [
        "<a href=\"https://colab.research.google.com/github/saikumarreddykorsapati-source/DataScience_Masters_Assignments/blob/main/Programming_Assignments/DSM_Programming_Assignment_11.ipynb\" target=\"_parent\"><img src=\"https://colab.research.google.com/assets/colab-badge.svg\" alt=\"Open In Colab\"/></a>"
      ]
    },
    {
      "cell_type": "markdown",
      "id": "267b6b8f",
      "metadata": {
        "id": "267b6b8f"
      },
      "source": [
        "#### 1. Write a Python program to find words which are greater than given length k ?"
      ]
    },
    {
      "cell_type": "code",
      "execution_count": 1,
      "id": "d3ec10f6",
      "metadata": {
        "colab": {
          "base_uri": "https://localhost:8080/"
        },
        "id": "d3ec10f6",
        "outputId": "88026050-b538-4711-f6b4-b5c088248a54"
      },
      "outputs": [
        {
          "output_type": "stream",
          "name": "stdout",
          "text": [
            "Enter the string: Write a Python program to find words which are greater than given length k ?\n",
            "Enter the length of the string: 4\n",
            "Write,Python,program,words,which,greater,given,length\n"
          ]
        }
      ],
      "source": [
        "def checkLengthOfString():\n",
        "    in_string = input(\"Enter the string: \")\n",
        "    in_length = int(input('Enter the length of the string: '))\n",
        "    out_string = []\n",
        "    for string in in_string.split(\" \"):\n",
        "        if len(string) > in_length:\n",
        "            out_string.append(string)\n",
        "    print(','.join(out_string))\n",
        "\n",
        "checkLengthOfString()"
      ]
    },
    {
      "cell_type": "markdown",
      "source": [
        "\n",
        "\n",
        "---\n",
        "\n"
      ],
      "metadata": {
        "id": "aF3_KfxlLNrW"
      },
      "id": "aF3_KfxlLNrW"
    },
    {
      "cell_type": "markdown",
      "id": "3711485d",
      "metadata": {
        "id": "3711485d"
      },
      "source": [
        "#### 2. Write a Python program for removing i-th character from a string ?"
      ]
    },
    {
      "cell_type": "code",
      "execution_count": 2,
      "id": "f7fccd01",
      "metadata": {
        "colab": {
          "base_uri": "https://localhost:8080/"
        },
        "id": "f7fccd01",
        "outputId": "2b0ead30-11b9-4a57-b3d3-78d84ee7fc95"
      },
      "outputs": [
        {
          "output_type": "stream",
          "name": "stdout",
          "text": [
            "Enter the String: We Need Good Config MacBooks \n",
            "Enter the ith Character: 3\n",
            "We eed Good Config MacBooks \n"
          ]
        }
      ],
      "source": [
        "def removeCharacter():\n",
        "    in_string = input(\"Enter the String: \")\n",
        "    in_char_num = int(input(\"Enter the ith Character: \"))\n",
        "    out_string = ''\n",
        "    for ele in range(len(in_string)):\n",
        "        if ele != in_char_num:\n",
        "            out_string = out_string + in_string[ele]\n",
        "    print(out_string)\n",
        "    \n",
        "removeCharacter()"
      ]
    },
    {
      "cell_type": "markdown",
      "source": [
        "\n",
        "\n",
        "---\n",
        "\n"
      ],
      "metadata": {
        "id": "oth6yBZZLPJt"
      },
      "id": "oth6yBZZLPJt"
    },
    {
      "cell_type": "markdown",
      "id": "845ba790",
      "metadata": {
        "id": "845ba790"
      },
      "source": [
        "#### 3. Write a Python program to split and join a string ?"
      ]
    },
    {
      "cell_type": "code",
      "execution_count": 3,
      "id": "fd82df54",
      "metadata": {
        "colab": {
          "base_uri": "https://localhost:8080/"
        },
        "id": "fd82df54",
        "outputId": "f0f9d048-4294-4ae0-ac42-db2252e2b7ec"
      },
      "outputs": [
        {
          "output_type": "stream",
          "name": "stdout",
          "text": [
            "Enter the string: Data Science challenges\n",
            "Split String: ['Data', 'Science', 'challenges']\n",
            "Join String: Data Science challenges\n"
          ]
        }
      ],
      "source": [
        "def splitJoinString():\n",
        "    in_string = input('Enter the string: ')\n",
        "    print(f\"Split String: {in_string.split(' ')}\")\n",
        "    print(f\"Join String: {' '.join(in_string.split(' '))}\")\n",
        "\n",
        "splitJoinString()"
      ]
    },
    {
      "cell_type": "markdown",
      "source": [
        "\n",
        "\n",
        "---\n",
        "\n"
      ],
      "metadata": {
        "id": "5GYSPNCdLQjm"
      },
      "id": "5GYSPNCdLQjm"
    },
    {
      "cell_type": "markdown",
      "id": "ee642cdf",
      "metadata": {
        "id": "ee642cdf"
      },
      "source": [
        "#### 4. Write a Python to check if a given string is binary string or not ?"
      ]
    },
    {
      "cell_type": "code",
      "execution_count": 4,
      "id": "6d04b29e",
      "metadata": {
        "colab": {
          "base_uri": "https://localhost:8080/"
        },
        "id": "6d04b29e",
        "outputId": "2b68029e-38ee-4e4b-bc2f-aba58e6a8f69"
      },
      "outputs": [
        {
          "output_type": "stream",
          "name": "stdout",
          "text": [
            "Enter the string: 90909\n",
            "90909 is not a binart string\n",
            "Enter the string: 1000101\n",
            "1000101 is a binary string\n"
          ]
        }
      ],
      "source": [
        "def checkBinary():\n",
        "    in_string = input('Enter the string: ')\n",
        "    stun = 0\n",
        "    for ele in in_string:\n",
        "        if ele in ['0','1']:\n",
        "            stun = 1\n",
        "            continue\n",
        "        else:\n",
        "            stun = 0\n",
        "            break\n",
        "    statement = 'is a binary string' if stun == 1 else 'is not a binart string' \n",
        "    print(f'{in_string} {statement}')\n",
        "\n",
        "checkBinary()\n",
        "checkBinary()"
      ]
    },
    {
      "cell_type": "markdown",
      "source": [
        "\n",
        "\n",
        "---\n",
        "\n"
      ],
      "metadata": {
        "id": "9TvKjPf5LR9T"
      },
      "id": "9TvKjPf5LR9T"
    },
    {
      "cell_type": "markdown",
      "id": "d22e2622",
      "metadata": {
        "id": "d22e2622"
      },
      "source": [
        "#### 5. Write a Python program to find uncommon words from two Strings ?"
      ]
    },
    {
      "cell_type": "code",
      "execution_count": 5,
      "id": "be223e06",
      "metadata": {
        "colab": {
          "base_uri": "https://localhost:8080/"
        },
        "id": "be223e06",
        "outputId": "fcec4df9-d021-4a80-c60c-15be1f74d22b"
      },
      "outputs": [
        {
          "output_type": "stream",
          "name": "stdout",
          "text": [
            "Enter the String 1: Data Science\n",
            "Enter the String 2: Data engineering\n",
            "{'Science', 'engineering'}\n"
          ]
        }
      ],
      "source": [
        "def unCommonWords():\n",
        "    in_string_1 = set(input(\"Enter the String 1: \").split(' '))\n",
        "    in_string_2 = set(input(\"Enter the String 2: \").split(' '))\n",
        "    out_string = (in_string_1.union(in_string_2)).difference(in_string_1.intersection(in_string_2))\n",
        "    print(out_string)\n",
        "\n",
        "unCommonWords()"
      ]
    },
    {
      "cell_type": "markdown",
      "source": [
        "\n",
        "\n",
        "---\n",
        "\n"
      ],
      "metadata": {
        "id": "2fKCZwlYLTXY"
      },
      "id": "2fKCZwlYLTXY"
    },
    {
      "cell_type": "markdown",
      "id": "a077bda5",
      "metadata": {
        "id": "a077bda5"
      },
      "source": [
        "#### 6. Write a Python to find all duplicate characters in string ?"
      ]
    },
    {
      "cell_type": "code",
      "execution_count": 6,
      "id": "6116a494",
      "metadata": {
        "colab": {
          "base_uri": "https://localhost:8080/"
        },
        "id": "6116a494",
        "outputId": "254cde72-4c33-457a-d218-1970c3aa9812"
      },
      "outputs": [
        {
          "output_type": "stream",
          "name": "stdout",
          "text": [
            "Enter the string: Data Engineer Vs Data Science\n",
            "Duplicate characters are: ['t', 'a', 'i', 'e', ' ', 'n', 'c', 'D']\n"
          ]
        }
      ],
      "source": [
        "def duplicateChars():\n",
        "    in_string = input('Enter the string: ')\n",
        "    non_duplicate_list = []\n",
        "    duplicate_list = []\n",
        "    for ele in in_string:\n",
        "        if ele not in non_duplicate_list:\n",
        "            non_duplicate_list.append(ele)\n",
        "        else:\n",
        "            duplicate_list.append(ele)\n",
        "    print(f'Duplicate characters are: {list(set(duplicate_list))}')\n",
        "        \n",
        "duplicateChars()"
      ]
    },
    {
      "cell_type": "markdown",
      "source": [
        "\n",
        "\n",
        "---\n",
        "\n"
      ],
      "metadata": {
        "id": "4vYCnCS9LUtC"
      },
      "id": "4vYCnCS9LUtC"
    },
    {
      "cell_type": "markdown",
      "id": "e14912b1",
      "metadata": {
        "id": "e14912b1"
      },
      "source": [
        "#### 7. Write a Python Program to check if a string contains any special character?"
      ]
    },
    {
      "cell_type": "code",
      "execution_count": 7,
      "id": "b51b221d",
      "metadata": {
        "colab": {
          "base_uri": "https://localhost:8080/"
        },
        "id": "b51b221d",
        "outputId": "5aace095-19ae-49fd-8bb5-931d00e0e16a"
      },
      "outputs": [
        {
          "output_type": "stream",
          "name": "stdout",
          "text": [
            "Enter the string: hi hello namasthe adhabd @bigboss\n",
            "There are 1 Speical Characters in hi hello namasthe adhabd @bigboss which are ['@']\n",
            "Enter the string: 332@322#*sai kumar\n",
            "There are 3 Speical Characters in 332@322#*sai kumar which are ['@', '#', '*']\n"
          ]
        }
      ],
      "source": [
        "def checkSpecialChar():\n",
        "    spl_chars = '[@_!#$%^&*()<>?/\\|}{~:]'\n",
        "    in_num = input('Enter the string: ')\n",
        "    count = 0\n",
        "    char_list = []\n",
        "    for ele in in_num:\n",
        "        if ele in spl_chars:\n",
        "            char_list.append(ele)\n",
        "            count = count+1\n",
        "    print(f'There are {count} Speical Characters in {in_num} which are {char_list}')\n",
        "            \n",
        "        \n",
        "checkSpecialChar()\n",
        "checkSpecialChar()"
      ]
    }
  ],
  "metadata": {
    "kernelspec": {
      "display_name": "Python 3",
      "language": "python",
      "name": "python3"
    },
    "language_info": {
      "codemirror_mode": {
        "name": "ipython",
        "version": 3
      },
      "file_extension": ".py",
      "mimetype": "text/x-python",
      "name": "python",
      "nbconvert_exporter": "python",
      "pygments_lexer": "ipython3",
      "version": "3.8.8"
    },
    "colab": {
      "name": "DSM_Programming Assignment_11.ipynb",
      "provenance": [],
      "include_colab_link": true
    }
  },
  "nbformat": 4,
  "nbformat_minor": 5
}