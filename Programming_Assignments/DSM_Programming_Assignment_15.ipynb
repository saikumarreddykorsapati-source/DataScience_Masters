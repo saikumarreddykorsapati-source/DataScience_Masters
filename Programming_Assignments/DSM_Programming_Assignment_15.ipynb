{
  "cells": [
    {
      "cell_type": "markdown",
      "metadata": {
        "id": "view-in-github",
        "colab_type": "text"
      },
      "source": [
        "<a href=\"https://colab.research.google.com/github/saikumarreddykorsapati-source/DataScience_Masters_Assignments/blob/main/Programming_Assignments/DSM_Programming_Assignment_15.ipynb\" target=\"_parent\"><img src=\"https://colab.research.google.com/assets/colab-badge.svg\" alt=\"Open In Colab\"/></a>"
      ]
    },
    {
      "cell_type": "markdown",
      "id": "3ea2824c",
      "metadata": {
        "id": "3ea2824c"
      },
      "source": [
        "#### 1. Please write a program using generator to print the numbers which can be divisible by 5 and 7 between 0 and n in comma separated form while n is input by console ?  \n",
        "**Example:**  \n",
        "If the following n is given as input to the program: `100`  \n",
        "Then, the output of the program should be: `0,35,70`  "
      ]
    },
    {
      "cell_type": "code",
      "execution_count": 1,
      "id": "1fb66583",
      "metadata": {
        "colab": {
          "base_uri": "https://localhost:8080/"
        },
        "id": "1fb66583",
        "outputId": "631566fe-c8c4-42ed-e640-d6b946a9de1f"
      },
      "outputs": [
        {
          "output_type": "stream",
          "name": "stdout",
          "text": [
            "0 35 70 "
          ]
        }
      ],
      "source": [
        "def showDivisible(in_num):\n",
        "    for ele in range(0,in_num):\n",
        "        if (ele%5 == 0) and (ele%7 == 0):\n",
        "            yield ele\n",
        "for ele in showDivisible(100):\n",
        "    print(ele,end=' ')"
      ]
    },
    {
      "cell_type": "markdown",
      "source": [
        "\n",
        "\n",
        "---\n",
        "\n"
      ],
      "metadata": {
        "id": "hQ78kw4MTVZS"
      },
      "id": "hQ78kw4MTVZS"
    },
    {
      "cell_type": "markdown",
      "id": "22fd82eb",
      "metadata": {
        "id": "22fd82eb"
      },
      "source": [
        "#### 2.Please write a program using generator to print the even numbers between 0 and n in comma separated form while n is input by console ?\n",
        "**Example:**  \n",
        "If the following n is given as input to the program: `10`  \n",
        "Then, the output of the program should be: `0,2,4,6,8,10`"
      ]
    },
    {
      "cell_type": "code",
      "execution_count": 2,
      "id": "3e415e4c",
      "metadata": {
        "colab": {
          "base_uri": "https://localhost:8080/"
        },
        "id": "3e415e4c",
        "outputId": "43d089ca-7f7f-4f14-a34e-1ebe4a965619"
      },
      "outputs": [
        {
          "output_type": "stream",
          "name": "stdout",
          "text": [
            "0 2 4 6 8 10 "
          ]
        }
      ],
      "source": [
        "def genEvenNumbers(in_num):\n",
        "    for ele in range(in_num+1):\n",
        "        if ele%2 == 0:\n",
        "            yield ele\n",
        "\n",
        "for ele in genEvenNumbers(10):\n",
        "    print(ele,end=' ')"
      ]
    },
    {
      "cell_type": "markdown",
      "source": [
        "\n",
        "\n",
        "---\n",
        "\n"
      ],
      "metadata": {
        "id": "eKMj9t6rTXkH"
      },
      "id": "eKMj9t6rTXkH"
    },
    {
      "cell_type": "markdown",
      "id": "549ded1e",
      "metadata": {
        "id": "549ded1e"
      },
      "source": [
        "#### 3.The Fibonacci Sequence is computed based on the following formula below, Please write a program using list comprehension to print the Fibonacci Sequence in comma separated form with a given n input by console ?\n",
        "`f(n)=0 if n=0\n",
        "f(n)=1 if n=1\n",
        "f(n)=f(n-1)+f(n-2) if n>1` "
      ]
    },
    {
      "cell_type": "code",
      "execution_count": 3,
      "id": "90585ee0",
      "metadata": {
        "colab": {
          "base_uri": "https://localhost:8080/"
        },
        "id": "90585ee0",
        "outputId": "55bbdd21-39c4-45af-b99f-2f4f1ec230d4"
      },
      "outputs": [
        {
          "output_type": "stream",
          "name": "stdout",
          "text": [
            "[0, 1, 1, 2, 3, 5, 8, 13, 21, 34, 55, 89, 144, 233, 377, 610, 987, 1597, 2584, 4181]\n"
          ]
        }
      ],
      "source": [
        "def genFibonaci(in_num):\n",
        "    if in_num == 0:\n",
        "        return 0\n",
        "    elif in_num == 1:\n",
        "        return 1\n",
        "    else:\n",
        "        return genFibonaci(in_num-1)+genFibonaci(in_num-2)\n",
        "    \n",
        "print([genFibonaci(x) for x in range(20)])"
      ]
    },
    {
      "cell_type": "markdown",
      "source": [
        "\n",
        "\n",
        "---\n",
        "\n"
      ],
      "metadata": {
        "id": "QJ2T0z9xTZ8-"
      },
      "id": "QJ2T0z9xTZ8-"
    },
    {
      "cell_type": "markdown",
      "id": "03d71fc6",
      "metadata": {
        "id": "03d71fc6"
      },
      "source": [
        "#### 4.Assuming that we have some email addresses in the \"username@companyname.com\" format, please write program to print the user name of a given email address. Both user names and company names are composed of letters only ?\n",
        "**Example:**   \n",
        "If the following email address is given as input to the program: `john@google.com`   \n",
        "Then, the output of the program should be: `john`"
      ]
    },
    {
      "cell_type": "code",
      "execution_count": 4,
      "id": "63af57a3",
      "metadata": {
        "colab": {
          "base_uri": "https://localhost:8080/"
        },
        "id": "63af57a3",
        "outputId": "0e4dad76-5fd1-4467-ac9b-d42d3f4c0735"
      },
      "outputs": [
        {
          "output_type": "stream",
          "name": "stdout",
          "text": [
            "Enter Email Address(es): mailtosai2k19@gmail.com\n",
            "Username of mailtosai2k19@gmail.com is mailtosai2k19\n",
            "Enter Email Address(es): ineuron@ai\n",
            "Username of ineuron@ai is ineuron\n",
            "Enter Email Address(es): john@google.com\n",
            "Username of john@google.com is john\n"
          ]
        }
      ],
      "source": [
        "def getUsernames():\n",
        "    in_string = input('Enter Email Address(es): ')\n",
        "    out_string = in_string.split('@')\n",
        "    print(f'Username of {in_string} is {out_string[0]}')\n",
        "\n",
        "for i in range(3):\n",
        "    getUsernames()"
      ]
    },
    {
      "cell_type": "markdown",
      "source": [
        "\n",
        "\n",
        "---\n",
        "\n"
      ],
      "metadata": {
        "id": "tLw8gB54Tbc5"
      },
      "id": "tLw8gB54Tbc5"
    },
    {
      "cell_type": "markdown",
      "id": "8fbb0d51",
      "metadata": {
        "id": "8fbb0d51"
      },
      "source": [
        "#### 5.Define a class named Shape and its subclass Square. The Square class has an init function which takes a length as argument. Both classes have a area function which can print the area of the shape where Shape's area is 0 by default."
      ]
    },
    {
      "cell_type": "code",
      "execution_count": 5,
      "id": "edcee9a6",
      "metadata": {
        "colab": {
          "base_uri": "https://localhost:8080/"
        },
        "id": "edcee9a6",
        "outputId": "4338c2cd-a848-4f0c-ff60-0dc3b2958b3f"
      },
      "outputs": [
        {
          "output_type": "stream",
          "name": "stdout",
          "text": [
            "2500\n"
          ]
        }
      ],
      "source": [
        "class Shape:\n",
        "    def area(self):\n",
        "        return 0\n",
        "\n",
        "class Square(Shape):\n",
        "    def __init__(self, length):\n",
        "        self.length = length\n",
        "    def area(self):\n",
        "        return self.length*self.length\n",
        "\n",
        "square = Square(50)\n",
        "print(square.area())"
      ]
    }
  ],
  "metadata": {
    "kernelspec": {
      "display_name": "Python 3 (ipykernel)",
      "language": "python",
      "name": "python3"
    },
    "language_info": {
      "codemirror_mode": {
        "name": "ipython",
        "version": 3
      },
      "file_extension": ".py",
      "mimetype": "text/x-python",
      "name": "python",
      "nbconvert_exporter": "python",
      "pygments_lexer": "ipython3",
      "version": "3.8.8"
    },
    "colab": {
      "name": "DSM_Programming Assignment_15.ipynb",
      "provenance": [],
      "include_colab_link": true
    }
  },
  "nbformat": 4,
  "nbformat_minor": 5
}