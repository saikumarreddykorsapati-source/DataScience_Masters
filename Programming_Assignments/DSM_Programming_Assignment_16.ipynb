{
  "cells": [
    {
      "cell_type": "markdown",
      "metadata": {
        "id": "view-in-github",
        "colab_type": "text"
      },
      "source": [
        "<a href=\"https://colab.research.google.com/github/saikumarreddykorsapati-source/DataScience_Masters_Assignments/blob/main/Programming_Assignments/DSM_Programming_Assignment_16.ipynb\" target=\"_parent\"><img src=\"https://colab.research.google.com/assets/colab-badge.svg\" alt=\"Open In Colab\"/></a>"
      ]
    },
    {
      "cell_type": "markdown",
      "id": "c8648b63",
      "metadata": {
        "id": "c8648b63"
      },
      "source": [
        "#### 1.Write a function that stutters a word as if someone is struggling to read it. The first two letters are repeated twice with an ellipsis ... and space after each, and then the word is pronounced with a question mark ?\n",
        "**Examples:**\n",
        "`stutter(\"incredible\") ➞ \"in... in... incredible?\"`  \n",
        "`stutter(\"enthusiastic\") ➞ \"en... en... enthusiastic?\"`  \n",
        "`stutter(\"outstanding\") ➞ \"ou... ou... outstanding?\"`  \n",
        "\n",
        "Hint :- Assume all input is in lower case and at least two characters long."
      ]
    },
    {
      "cell_type": "code",
      "execution_count": 2,
      "id": "954d6265",
      "metadata": {
        "colab": {
          "base_uri": "https://localhost:8080/"
        },
        "id": "954d6265",
        "outputId": "e2219a7c-be05-4be9-cebe-8fe757fbbeaf"
      },
      "outputs": [
        {
          "output_type": "stream",
          "name": "stdout",
          "text": [
            "Enter the Word :incredible\n",
            "incredible ➞ in... in... incredible?\n",
            "Enter the Word :enthusiastic\n",
            "enthusiastic ➞ en... en... enthusiastic?\n",
            "Enter the Word :outstanding\n",
            "outstanding ➞ ou... ou... outstanding?\n"
          ]
        }
      ],
      "source": [
        "def stutterWord():\n",
        "    in_string = input('Enter the Word :')\n",
        "    out_string = in_string.replace(in_string[0:2],((in_string[0:2]+'... ')*2)+ in_string[0:2])  +'?'\n",
        "    print(f'{in_string} ➞ {out_string}')\n",
        "\n",
        "for i in range(3):\n",
        "    stutterWord()"
      ]
    },
    {
      "cell_type": "markdown",
      "source": [
        "\n",
        "\n",
        "---\n",
        "\n"
      ],
      "metadata": {
        "id": "MVvOFwloVYA4"
      },
      "id": "MVvOFwloVYA4"
    },
    {
      "cell_type": "markdown",
      "id": "527426e7",
      "metadata": {
        "id": "527426e7"
      },
      "source": [
        "#### 2..Create a function that takes an angle in radians and returns the corresponding angle in degrees rounded to one decimal place ?\n",
        "**Examples:**\n",
        "`radians_to_degrees(1) ➞ 57.3`  \n",
        "`radians_to_degrees(20) ➞ 1145.9`  \n",
        "`radians_to_degrees(50) ➞ 2864.8`  "
      ]
    },
    {
      "cell_type": "code",
      "execution_count": 3,
      "id": "a4573fe0",
      "metadata": {
        "colab": {
          "base_uri": "https://localhost:8080/"
        },
        "id": "a4573fe0",
        "outputId": "0e1d9a51-f96b-4a79-862b-169354c30d2b"
      },
      "outputs": [
        {
          "output_type": "stream",
          "name": "stdout",
          "text": [
            "Enter the angle in Radians: 1\n",
            "1 radian(s) ➞ 57.3 degrees\n",
            "Enter the angle in Radians: 20\n",
            "20 radian(s) ➞ 1145.9 degrees\n",
            "Enter the angle in Radians: 59\n",
            "59 radian(s) ➞ 3380.5 degrees\n"
          ]
        }
      ],
      "source": [
        "import math\n",
        "def radianToDegree():\n",
        "    in_num = int(input('Enter the angle in Radians: '))\n",
        "    out_num = (180/math.pi)*in_num\n",
        "    print(f'{in_num} radian(s) ➞ {out_num:.1f} degrees')\n",
        "\n",
        "for x in range(3):\n",
        "    radianToDegree()"
      ]
    },
    {
      "cell_type": "markdown",
      "source": [
        "\n",
        "\n",
        "---\n",
        "\n"
      ],
      "metadata": {
        "id": "EtBakCBNVZO7"
      },
      "id": "EtBakCBNVZO7"
    },
    {
      "cell_type": "markdown",
      "id": "9c75ed69",
      "metadata": {
        "id": "9c75ed69"
      },
      "source": [
        "#### 3.In this challenge, establish if a given integer num is a Curzon number. If 1 plus 2 elevated to num is exactly divisible by 1 plus 2 multiplied by num, then num is a Curzon number. Given a non-negative integer num, implement a function that returns True if num is a Curzon number, or False otherwise. \n",
        "**Examples**: \n",
        "`is_curzon(5) ➞ True\n",
        "    # 2 ** 5 + 1 = 33\n",
        "    # 2 * 5 + 1 = 11\n",
        "    # 33 is a multiple of 11\n",
        "is_curzon(10) ➞ False\n",
        "    # 2 ** 10 + 1 = 1025\n",
        "    # 2 * 10 + 1 = 21\n",
        "    # 1025 is not a multiple of 21\n",
        "is_curzon(14) ➞ True\n",
        "    # 2 ** 14 + 1 = 16385\n",
        "    # 2 * 14 + 1 = 29\n",
        "    # 16385 is a multiple of 29`"
      ]
    },
    {
      "cell_type": "code",
      "execution_count": 4,
      "id": "3b057011",
      "metadata": {
        "colab": {
          "base_uri": "https://localhost:8080/"
        },
        "id": "3b057011",
        "outputId": "bd109ef6-f5e6-4f43-d448-1f9f1d229bf1"
      },
      "outputs": [
        {
          "output_type": "stream",
          "name": "stdout",
          "text": [
            "Enter a number: 5\n",
            "5 is a Curzon Number\n",
            "Enter a number: 10\n",
            "10 is Not a Curzon Number\n",
            "Enter a number: 14\n",
            "14 is a Curzon Number\n",
            "Enter a number: 12\n",
            "12 is Not a Curzon Number\n"
          ]
        }
      ],
      "source": [
        "def checkCurzon():\n",
        "    in_num = int(input(\"Enter a number: \"))\n",
        "    if (pow(2,in_num)+1)%((2*in_num)+1) == 0:\n",
        "        print(f'{in_num} is a Curzon Number')\n",
        "    else:\n",
        "        print(f'{in_num} is Not a Curzon Number')\n",
        "\n",
        "for x in range(4):\n",
        "    checkCurzon()"
      ]
    },
    {
      "cell_type": "markdown",
      "source": [
        "\n",
        "\n",
        "---\n",
        "\n"
      ],
      "metadata": {
        "id": "mX7o0cMHVaj8"
      },
      "id": "mX7o0cMHVaj8"
    },
    {
      "cell_type": "markdown",
      "id": "1102933a",
      "metadata": {
        "id": "1102933a"
      },
      "source": [
        "#### 4.Given the side length x find the area of a hexagon ?\n",
        "**Examples:**\n",
        "`area_of_hexagon(1) ➞ 2.6`  \n",
        "`area_of_hexagon(2) ➞ 10.4`  \n",
        "`area_of_hexagon(3) ➞ 23.4`  "
      ]
    },
    {
      "cell_type": "code",
      "execution_count": 5,
      "id": "2120ccc3",
      "metadata": {
        "colab": {
          "base_uri": "https://localhost:8080/"
        },
        "id": "2120ccc3",
        "outputId": "55d38a18-c589-4175-d4bf-d00ac53ddced"
      },
      "outputs": [
        {
          "output_type": "stream",
          "name": "stdout",
          "text": [
            "Enter the side length of a Hexagon: 1\n",
            "Area for Hexagon of sidelength 1 ➞ 2.6\n",
            "Enter the side length of a Hexagon: 2\n",
            "Area for Hexagon of sidelength 2 ➞ 10.4\n",
            "Enter the side length of a Hexagon: 3\n",
            "Area for Hexagon of sidelength 3 ➞ 23.4\n"
          ]
        }
      ],
      "source": [
        "import math\n",
        "def areaOfHexagon():\n",
        "    in_num = int(input('Enter the side length of a Hexagon: '))\n",
        "    out_num = ((3*math.sqrt(3))/2)*(pow(in_num,2))\n",
        "    print(f'Area for Hexagon of sidelength {in_num} ➞ {out_num:.1f}')\n",
        "    \n",
        "for x in range(3):\n",
        "    areaOfHexagon()"
      ]
    },
    {
      "cell_type": "markdown",
      "source": [
        "\n",
        "\n",
        "---\n",
        "\n"
      ],
      "metadata": {
        "id": "8Vns-9NoVbwf"
      },
      "id": "8Vns-9NoVbwf"
    },
    {
      "cell_type": "markdown",
      "id": "730f48dc",
      "metadata": {
        "id": "730f48dc"
      },
      "source": [
        "#### 5.Create a function that returns a base-2 (binary) representation of a base-10 (decimal) string number. To convert is simple:\n",
        "((2) means base-2 and (10) means base-10)  \n",
        "`010101001(2) = 1 + 8 + 32 + 128.`    \n",
        "Going from right to left, the value of the most right bit is 1, now from that every bit to the left will be x2 the value, value of an 8 bit binary numbers are (256, 128, 64, 32, 16, 8, 4, 2, 1).  \n",
        "**Examples:**  \n",
        "`binary(1) ➞ \"1\"\n",
        "    # 1* 1 = 1\n",
        "binary(5) ➞ \"101\"\n",
        "    # 1 1 + 1 4 = 5\n",
        "binary(10) ➞ \"1010\"\n",
        "    # 1 2 + 1 8 = 10`"
      ]
    },
    {
      "cell_type": "code",
      "execution_count": 6,
      "id": "afcdb703",
      "metadata": {
        "colab": {
          "base_uri": "https://localhost:8080/"
        },
        "id": "afcdb703",
        "outputId": "75f99462-1a14-4407-abf9-38d7434546d4"
      },
      "outputs": [
        {
          "output_type": "stream",
          "name": "stdout",
          "text": [
            "Enter a Number: 1\n",
            "Binary of 1 ➞ 1\n",
            "Enter a Number: 5\n",
            "Binary of 5 ➞ 101\n",
            "Enter a Number: 10\n",
            "Binary of 10 ➞ 1010\n"
          ]
        }
      ],
      "source": [
        "def getBinary():\n",
        "    in_num = int(input(\"Enter a Number: \"))\n",
        "    out_num = bin(in_num).replace('0b','') \n",
        "    print(f'Binary of {in_num} ➞ {out_num}')\n",
        "\n",
        "for x in range(3):\n",
        "    getBinary()"
      ]
    }
  ],
  "metadata": {
    "kernelspec": {
      "display_name": "Python 3",
      "language": "python",
      "name": "python3"
    },
    "language_info": {
      "codemirror_mode": {
        "name": "ipython",
        "version": 3
      },
      "file_extension": ".py",
      "mimetype": "text/x-python",
      "name": "python",
      "nbconvert_exporter": "python",
      "pygments_lexer": "ipython3",
      "version": "3.8.8"
    },
    "colab": {
      "name": "DSM_Programming Assignment_16.ipynb",
      "provenance": [],
      "include_colab_link": true
    }
  },
  "nbformat": 4,
  "nbformat_minor": 5
}