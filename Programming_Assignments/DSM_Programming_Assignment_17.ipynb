{
  "cells": [
    {
      "cell_type": "markdown",
      "metadata": {
        "id": "view-in-github",
        "colab_type": "text"
      },
      "source": [
        "<a href=\"https://colab.research.google.com/github/saikumarreddykorsapati-source/DataScience_Masters_Assignments/blob/main/Programming_Assignments/DSM_Programming_Assignment_17.ipynb\" target=\"_parent\"><img src=\"https://colab.research.google.com/assets/colab-badge.svg\" alt=\"Open In Colab\"/></a>"
      ]
    },
    {
      "cell_type": "markdown",
      "id": "86c4e861",
      "metadata": {
        "id": "86c4e861"
      },
      "source": [
        "#### 1.Create a function that takes three arguments a, b, c and returns the sum of the numbers that are evenly divided by c from the range a, b inclusive ?\n",
        "**Examples:**  \n",
        "`evenly_divisible(1, 10, 20) ➞ 0\n",
        "    # No number between 1 and 10 can be evenly divided by 20.\n",
        "evenly_divisible(1, 10, 2) ➞ 30\n",
        "    # 2 + 4 + 6 + 8 + 10 = 30\n",
        "evenly_divisible(1, 10, 3) ➞ 18\n",
        "    # 3 + 6 + 9 = 18`"
      ]
    },
    {
      "cell_type": "code",
      "execution_count": 1,
      "id": "b9f60e1c",
      "metadata": {
        "colab": {
          "base_uri": "https://localhost:8080/"
        },
        "id": "b9f60e1c",
        "outputId": "02529e2b-cd40-4d4e-e895-d44e035c7db5"
      },
      "outputs": [
        {
          "output_type": "stream",
          "name": "stdout",
          "text": [
            "(1, 10, 20) ➞ 0\n",
            "(1, 10, 2) ➞ 30\n",
            "(1, 10, 3) ➞ 18\n"
          ]
        }
      ],
      "source": [
        "def evenDivisible(a,b,c):\n",
        "    divList = []\n",
        "    for num in range(a,b+1):\n",
        "        if num%c == 0:\n",
        "            divList.append(num)\n",
        "    print(f'{a,b,c} ➞ {sum(divList)}')\n",
        "\n",
        "evenDivisible(1,10,20)\n",
        "evenDivisible(1,10,2)\n",
        "evenDivisible(1,10,3)"
      ]
    },
    {
      "cell_type": "markdown",
      "source": [
        "\n",
        "\n",
        "---\n",
        "\n"
      ],
      "metadata": {
        "id": "S3saefCGXcg3"
      },
      "id": "S3saefCGXcg3"
    },
    {
      "cell_type": "markdown",
      "id": "8589ab33",
      "metadata": {
        "id": "8589ab33"
      },
      "source": [
        "#### 2.Create a function that returns True if a given inequality expression is correct and False otherwise ?\n",
        "**Examples:**  \n",
        "`correct_signs(\"3 < 7 < 11\") ➞ True`  \n",
        "`correct_signs(\"13 > 44 > 33 > 1\") ➞ False`  \n",
        "`correct_signs(\"1 < 2 < 6 < 9 > 3\") ➞ True`"
      ]
    },
    {
      "cell_type": "code",
      "execution_count": 2,
      "id": "0021eeb2",
      "metadata": {
        "colab": {
          "base_uri": "https://localhost:8080/"
        },
        "id": "0021eeb2",
        "outputId": "965ce975-d84e-400f-ecdb-7c8baabb00bf"
      },
      "outputs": [
        {
          "output_type": "stream",
          "name": "stdout",
          "text": [
            "Enter the inequality: 3 < 7 < 11\n",
            "3 < 7 < 11 ➞ True\n",
            "Enter the inequality: 13 > 44 > 33 > 1\n",
            "13 > 44 > 33 > 1 ➞ False\n",
            "Enter the inequality: 1 < 2 < 6 < 9 > 3\n",
            "1 < 2 < 6 < 9 > 3 ➞ True\n"
          ]
        }
      ],
      "source": [
        "def checkEquality():\n",
        "    in_string = input('Enter the inequality: ')\n",
        "    out_bool = eval(in_string)\n",
        "    print(f'{in_string} ➞ {out_bool}')\n",
        "\n",
        "for x in range(3):\n",
        "    checkEquality()"
      ]
    },
    {
      "cell_type": "markdown",
      "source": [
        "\n",
        "\n",
        "---\n",
        "\n"
      ],
      "metadata": {
        "id": "1zicFi_2Xd3E"
      },
      "id": "1zicFi_2Xd3E"
    },
    {
      "cell_type": "markdown",
      "id": "d7200223",
      "metadata": {
        "id": "d7200223"
      },
      "source": [
        "#### 3.Create a function that replaces all the vowels in a string with a specified character ?\n",
        "**Examples:**  \n",
        "`replace_vowels(\"the aardvark\", \"#\") ➞ \"th# ##rdv#rk\"`  \n",
        "`replace_vowels(\"minnie mouse\", \"?\") ➞ \"m?nn?? m??s?\"`  \n",
        "`replace_vowels(\"shakespeare\", \"*\") ➞ \"shksp**r\"`"
      ]
    },
    {
      "cell_type": "code",
      "execution_count": 4,
      "id": "e83aad2e",
      "metadata": {
        "colab": {
          "base_uri": "https://localhost:8080/"
        },
        "id": "e83aad2e",
        "outputId": "409c43c7-07c5-4b2b-bf9b-1aa28327753d"
      },
      "outputs": [
        {
          "output_type": "stream",
          "name": "stdout",
          "text": [
            "String: the aardvark\n",
            "Replacement character: #\n",
            "the aardvark # ➞ th# ##rdv#rk\n",
            "String: minnie mouse\n",
            "Replacement character: ?\n",
            "minnie mouse ? ➞ m?nn?? m??s?\n",
            "String: shakespeare\n",
            "Replacement character: *\n",
            "shakespeare * ➞ sh*k*sp**r*\n"
          ]
        }
      ],
      "source": [
        "def replaceVowels():\n",
        "    vowels = ['a','e','i','o','u','A','E','I','O','U']\n",
        "    in_string = input(\"String: \")\n",
        "    in_string_copy = in_string\n",
        "    in_char = input('Replacement character: ')\n",
        "    for ele in in_string:\n",
        "        if ele in vowels:\n",
        "            in_string = in_string.replace(ele,in_char)\n",
        "    print(f'{in_string_copy} {in_char} ➞ {in_string}')\n",
        "            \n",
        "for x in range(3):\n",
        "    replaceVowels()"
      ]
    },
    {
      "cell_type": "markdown",
      "source": [
        "\n",
        "\n",
        "---\n",
        "\n"
      ],
      "metadata": {
        "id": "9BG7AO44XfR4"
      },
      "id": "9BG7AO44XfR4"
    },
    {
      "cell_type": "markdown",
      "id": "4c343c6e",
      "metadata": {
        "id": "4c343c6e"
      },
      "source": [
        "#### 4.Write a function that calculates the factorial of a number recursively ?\n",
        "**Examples:**  \n",
        "`factorial(5) ➞ 120`  \n",
        "`factorial(3) ➞ 6`  \n",
        "`factorial(1) ➞ 1`  \n",
        "`factorial(0) ➞ 1`  "
      ]
    },
    {
      "cell_type": "code",
      "execution_count": 5,
      "id": "4d026831",
      "metadata": {
        "colab": {
          "base_uri": "https://localhost:8080/"
        },
        "id": "4d026831",
        "outputId": "780647bb-292c-4edf-d9f5-8b6ad1023cf2"
      },
      "outputs": [
        {
          "output_type": "stream",
          "name": "stdout",
          "text": [
            "factorial(5) ➞ 120\n",
            "factorial(3) ➞ 6\n",
            "factorial(1) ➞ 1\n",
            "factorial(0) ➞ 1\n"
          ]
        }
      ],
      "source": [
        "def factorial(n):\n",
        "    if n==0:\n",
        "        return 1\n",
        "    return n * factorial(n-1)\n",
        "\n",
        "print(f'factorial(5) ➞ {factorial(5)}')\n",
        "print(f'factorial(3) ➞ {factorial(3)}')\n",
        "print(f'factorial(1) ➞ {factorial(1)}')\n",
        "print(f'factorial(0) ➞ {factorial(0)}')"
      ]
    },
    {
      "cell_type": "markdown",
      "source": [
        "\n",
        "\n",
        "---\n",
        "\n"
      ],
      "metadata": {
        "id": "zO2LIO7jXimG"
      },
      "id": "zO2LIO7jXimG"
    },
    {
      "cell_type": "markdown",
      "id": "a0d0b57f",
      "metadata": {
        "id": "a0d0b57f"
      },
      "source": [
        "#### 5.Hamming distance is the number of characters that differ between two strings ?\n",
        "To illustrate:  \n",
        "    `String1: \"abcbba\"`  \n",
        "    `String2: \"abcbda\"`  \n",
        "Hamming Distance: 1 - \"b\" vs. \"d\" is the only difference.  \n",
        "Create a function that computes the hamming distance between two strings.  \n",
        "**Examples:**  \n",
        "`hamming_distance(\"abcde\", \"bcdef\") ➞ 5`  \n",
        "`hamming_distance(\"abcde\", \"abcde\") ➞ 0`  \n",
        "`hamming_distance(\"strong\", \"strung\") ➞ 1`  "
      ]
    },
    {
      "cell_type": "code",
      "execution_count": 6,
      "id": "d72b29ae",
      "metadata": {
        "colab": {
          "base_uri": "https://localhost:8080/"
        },
        "id": "d72b29ae",
        "outputId": "2b529510-3b26-4c7a-fc8d-1e36176fa20c"
      },
      "outputs": [
        {
          "output_type": "stream",
          "name": "stdout",
          "text": [
            "Enter the String_1: abcde\n",
            "Enter the String_2: bcdef\n",
            "Hamning Distance b/w abcde and bcdef ➞ 5\n",
            "Enter the String_1: abcde\n",
            "Enter the String_2: abcde\n",
            "Hamning Distance b/w abcde and abcde ➞ 0\n",
            "Enter the String_1: strong\n",
            "Enter the String_2: strung\n",
            "Hamning Distance b/w strong and strung ➞ 1\n"
          ]
        }
      ],
      "source": [
        "def genHamDistance():\n",
        "    in_string_1 = input('Enter the String_1: ')\n",
        "    in_string_2 = input('Enter the String_2: ')\n",
        "    if len(in_string_1) == len(in_string_2):\n",
        "        count = 0\n",
        "        for i in range(len(in_string_1)):\n",
        "            if in_string_1[i] != in_string_2[i]:\n",
        "                count = count+1\n",
        "        print(f'Hamning Distance b/w {in_string_1} and {in_string_2} ➞ {count}')\n",
        "    else:\n",
        "        print('Both Strings Must be of Same Length')\n",
        "\n",
        "for x in range(3):\n",
        "    genHamDistance()"
      ]
    }
  ],
  "metadata": {
    "kernelspec": {
      "display_name": "Python 3",
      "language": "python",
      "name": "python3"
    },
    "language_info": {
      "codemirror_mode": {
        "name": "ipython",
        "version": 3
      },
      "file_extension": ".py",
      "mimetype": "text/x-python",
      "name": "python",
      "nbconvert_exporter": "python",
      "pygments_lexer": "ipython3",
      "version": "3.8.8"
    },
    "colab": {
      "name": "DSM_Programming Assignment_17.ipynb",
      "provenance": [],
      "include_colab_link": true
    }
  },
  "nbformat": 4,
  "nbformat_minor": 5
}