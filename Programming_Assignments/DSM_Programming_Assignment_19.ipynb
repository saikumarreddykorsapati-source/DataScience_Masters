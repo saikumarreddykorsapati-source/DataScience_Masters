{
  "cells": [
    {
      "cell_type": "markdown",
      "metadata": {
        "id": "view-in-github",
        "colab_type": "text"
      },
      "source": [
        "<a href=\"https://colab.research.google.com/github/saikumarreddykorsapati-source/DataScience_Masters_Assignments/blob/main/Programming_Assignments/DSM_Programming_Assignment_19.ipynb\" target=\"_parent\"><img src=\"https://colab.research.google.com/assets/colab-badge.svg\" alt=\"Open In Colab\"/></a>"
      ]
    },
    {
      "cell_type": "markdown",
      "id": "a80b431a",
      "metadata": {
        "id": "a80b431a"
      },
      "source": [
        "#### 1.Create a function that takes a string and returns a string in which each character is repeated once.\n",
        "**Examples:**  \n",
        "`double_char(\"String\") ➞ \"SSttrriinngg\"`  \n",
        "`double_char(\"Hello World!\") ➞ \"HHeelllloo WWoorrlldd!!\"`  \n",
        "`doublechar(\"1234!_\") ➞ \"11223344!!__\"`  "
      ]
    },
    {
      "cell_type": "code",
      "execution_count": 1,
      "id": "7c34f85c",
      "metadata": {
        "colab": {
          "base_uri": "https://localhost:8080/"
        },
        "id": "7c34f85c",
        "outputId": "dcb80504-5a7a-4fba-e31c-dea42bfd5521"
      },
      "outputs": [
        {
          "output_type": "stream",
          "name": "stdout",
          "text": [
            "➞ SSttrriinngg\n",
            "➞ HHeelllloo  WWoorrlldd!!\n",
            "➞ 11223344!!__\n"
          ]
        }
      ],
      "source": [
        "def double_char(in_string):\n",
        "    out_string = ''\n",
        "    for ele in in_string:\n",
        "        out_string += ele*2\n",
        "    return out_string\n",
        "\n",
        "print(f'➞ {double_char(\"String\")}')\n",
        "print(f'➞ {double_char(\"Hello World!\")}')\n",
        "print(f'➞ {double_char(\"1234!_\")}')"
      ]
    },
    {
      "cell_type": "markdown",
      "source": [
        "\n",
        "\n",
        "---\n",
        "\n"
      ],
      "metadata": {
        "id": "PZwNFSCTZcPT"
      },
      "id": "PZwNFSCTZcPT"
    },
    {
      "cell_type": "markdown",
      "id": "36c73da9",
      "metadata": {
        "id": "36c73da9"
      },
      "source": [
        "#### 2.Create a function that reverses a boolean value and returns the string \"boolean expected\" if another variable type is given.\n",
        "**Examples:**  \n",
        "`reverse(True) ➞ False`  \n",
        "`reverse(False) ➞ True`  \n",
        "`reverse(0) ➞ \"boolean expected\"`  \n",
        "`reverse(None) ➞ \"boolean expected\"`  "
      ]
    },
    {
      "cell_type": "code",
      "execution_count": 2,
      "id": "9cb5a79b",
      "metadata": {
        "colab": {
          "base_uri": "https://localhost:8080/"
        },
        "id": "9cb5a79b",
        "outputId": "bd96e6aa-a5f0-4753-87e7-51374663bf78"
      },
      "outputs": [
        {
          "output_type": "stream",
          "name": "stdout",
          "text": [
            "reverse(True) ➞ False\n",
            "reverse(False) ➞ True\n",
            "reverse(0) ➞ Boolean Expected\n",
            "reverse(None) ➞ Boolean Expected\n"
          ]
        }
      ],
      "source": [
        "def reverse(in_bool):\n",
        "    if type(in_bool) == bool:\n",
        "        return not in_bool\n",
        "    else:\n",
        "        return \"Boolean Expected\"\n",
        "\n",
        "print(f'reverse(True) ➞ {reverse(True)}')\n",
        "print(f'reverse(False) ➞ {reverse(False)}')\n",
        "print(f'reverse(0) ➞ {reverse(0)}')\n",
        "print(f'reverse(None) ➞ {reverse(None)}')"
      ]
    },
    {
      "cell_type": "markdown",
      "source": [
        "\n",
        "\n",
        "---\n",
        "\n"
      ],
      "metadata": {
        "id": "Bm6BKIyPZduw"
      },
      "id": "Bm6BKIyPZduw"
    },
    {
      "cell_type": "markdown",
      "id": "e6161ea2",
      "metadata": {
        "id": "e6161ea2"
      },
      "source": [
        "#### 3. Create a function that returns the thickness (in meters) of a piece of paper after folding it n number of times. The paper starts off with a thickness of 0.5mm.\n",
        "**Examples:**  \n",
        "`num_layers(1) ➞ \"0.001m\"\n",
        "    # Paper folded once is 1mm (equal to 0.001m)\n",
        "num_layers(4) ➞ \"0.008m\"\n",
        "    # Paper folded 4 times is 8mm (equal to 0.008m)\n",
        "num_layers(21) ➞ \"1048.576m\"\n",
        "    # Paper folded 21 times is 1048576mm (equal to 1048.576m)`"
      ]
    },
    {
      "cell_type": "code",
      "execution_count": 3,
      "id": "3abb23af",
      "metadata": {
        "colab": {
          "base_uri": "https://localhost:8080/"
        },
        "id": "3abb23af",
        "outputId": "e7a65736-a72d-4fa5-910f-67327d5fc613"
      },
      "outputs": [
        {
          "output_type": "stream",
          "name": "stdout",
          "text": [
            "Output ➞ 0.001m\n",
            "Output ➞ 0.008m\n",
            "Output ➞ 1048.576m\n"
          ]
        }
      ],
      "source": [
        "def num_layers(in_num):\n",
        "    out_num = 0.5\n",
        "    for ele in range(in_num):\n",
        "        out_num *= 2\n",
        "    print(f'Output ➞ {out_num/1000}m')\n",
        "    \n",
        "num_layers(1)\n",
        "num_layers(4)\n",
        "num_layers(21)"
      ]
    },
    {
      "cell_type": "markdown",
      "source": [
        "\n",
        "\n",
        "---\n",
        "\n"
      ],
      "metadata": {
        "id": "imVbFrVlZe22"
      },
      "id": "imVbFrVlZe22"
    },
    {
      "cell_type": "markdown",
      "id": "c71bac5c",
      "metadata": {
        "id": "c71bac5c"
      },
      "source": [
        "#### 4.Create a function that takes a single string as argument and returns an ordered list containing the indices of all capital letters in the string.\n",
        "**Examples:**  \n",
        "`index_of_caps(\"eDaBiT\") ➞ [1, 3, 5]`  \n",
        "`index_of_caps(\"eQuINoX\") ➞ [1, 3, 4, 6]`  \n",
        "`index_of_caps(\"determine\") ➞ []`  \n",
        "`index_of_caps(\"STRIKE\") ➞ [0, 1, 2, 3, 4, 5]`  \n",
        "`index_of_caps(\"sUn\") ➞ [1]`  "
      ]
    },
    {
      "cell_type": "code",
      "execution_count": 4,
      "id": "e6ce83db",
      "metadata": {
        "colab": {
          "base_uri": "https://localhost:8080/"
        },
        "id": "e6ce83db",
        "outputId": "f533d087-de1c-41a8-e64b-588f506dafdf"
      },
      "outputs": [
        {
          "output_type": "stream",
          "name": "stdout",
          "text": [
            "eDaBiT ➞ [1, 3, 5]\n",
            "eQuINoX ➞ [1, 3, 4, 6]\n",
            "determine ➞ []\n",
            "STRIKE ➞ [0, 1, 2, 3, 4, 5]\n",
            "sUn ➞ [1]\n"
          ]
        }
      ],
      "source": [
        "def index_of_caps(in_string):\n",
        "    out_string = []\n",
        "    for ele in in_string:\n",
        "        if ele.isupper():\n",
        "            out_string.append(in_string.index(ele))\n",
        "    print(f'{in_string} ➞ {out_string}')\n",
        "\n",
        "index_of_caps(\"eDaBiT\")\n",
        "index_of_caps(\"eQuINoX\")\n",
        "index_of_caps(\"determine\")\n",
        "index_of_caps(\"STRIKE\")\n",
        "index_of_caps(\"sUn\")"
      ]
    },
    {
      "cell_type": "markdown",
      "source": [
        "\n",
        "\n",
        "---\n",
        "\n"
      ],
      "metadata": {
        "id": "ieWCJb-TZfyo"
      },
      "id": "ieWCJb-TZfyo"
    },
    {
      "cell_type": "markdown",
      "id": "11770ca9",
      "metadata": {
        "id": "11770ca9"
      },
      "source": [
        "#### 5.Using list comprehensions, create a function that finds all even numbers from 1 to the given number.\n",
        "**Examples:**  \n",
        "`find_even_nums(8) ➞ [2, 4, 6, 8]`  \n",
        "`find_even_nums(4) ➞ [2, 4]`   \n",
        "`find_even_nums(2) ➞ [2]`  "
      ]
    },
    {
      "cell_type": "code",
      "execution_count": 5,
      "id": "3609695d",
      "metadata": {
        "colab": {
          "base_uri": "https://localhost:8080/"
        },
        "id": "3609695d",
        "outputId": "ee6097f9-c814-46d9-af24-59d60f50c10c"
      },
      "outputs": [
        {
          "output_type": "stream",
          "name": "stdout",
          "text": [
            "Output ➞ [2, 4, 6, 8]\n",
            "Output ➞ [2, 4]\n",
            "Output ➞ [2]\n"
          ]
        }
      ],
      "source": [
        "def find_even_nums(in_num):\n",
        "    out_list = [i for i in range(1,in_num+1) if i%2 == 0]\n",
        "    print(f'Output ➞ {out_list}')\n",
        "    \n",
        "find_even_nums(8)\n",
        "find_even_nums(4)\n",
        "find_even_nums(2)"
      ]
    }
  ],
  "metadata": {
    "kernelspec": {
      "display_name": "Python 3",
      "language": "python",
      "name": "python3"
    },
    "language_info": {
      "codemirror_mode": {
        "name": "ipython",
        "version": 3
      },
      "file_extension": ".py",
      "mimetype": "text/x-python",
      "name": "python",
      "nbconvert_exporter": "python",
      "pygments_lexer": "ipython3",
      "version": "3.8.8"
    },
    "colab": {
      "name": "DSM_Programming Assignment_19.ipynb",
      "provenance": [],
      "include_colab_link": true
    }
  },
  "nbformat": 4,
  "nbformat_minor": 5
}