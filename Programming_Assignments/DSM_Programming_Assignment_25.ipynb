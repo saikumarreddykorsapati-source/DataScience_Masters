{
  "cells": [
    {
      "cell_type": "markdown",
      "metadata": {
        "id": "view-in-github",
        "colab_type": "text"
      },
      "source": [
        "<a href=\"https://colab.research.google.com/github/saikumarreddykorsapati-source/DataScience_Masters_Assignments/blob/main/Programming_Assignments/DSM_Programming_Assignment_25.ipynb\" target=\"_parent\"><img src=\"https://colab.research.google.com/assets/colab-badge.svg\" alt=\"Open In Colab\"/></a>"
      ]
    },
    {
      "cell_type": "markdown",
      "id": "84af1303",
      "metadata": {
        "id": "84af1303"
      },
      "source": [
        "#### 1.Create a function that takes three integer arguments (a, b, c) and returns the amount of integers which are of equal value.\n",
        "**Examples:**  \n",
        "`equal(3, 4, 3) ➞ 2`  \n",
        "`equal(1, 1, 1) ➞ 3`  \n",
        "`equal(3, 4, 1) ➞ 0`  \n",
        "\n",
        "**Notes:**  \n",
        "Your function must return 0, 2 or 3."
      ]
    },
    {
      "cell_type": "code",
      "execution_count": 1,
      "id": "e1853788",
      "metadata": {
        "colab": {
          "base_uri": "https://localhost:8080/"
        },
        "id": "e1853788",
        "outputId": "8430a6fe-1063-4245-810e-5a85f55fe350"
      },
      "outputs": [
        {
          "output_type": "stream",
          "name": "stdout",
          "text": [
            "(3, 4, 3) ➞ 0\n",
            "(1, 1, 1) ➞ 3\n",
            "(3, 4, 1) ➞ 0\n"
          ]
        }
      ],
      "source": [
        "def equal(a,b,c):\n",
        "    if a==b==c:\n",
        "        print(f'{a,b,c} ➞ {3}')\n",
        "    elif a==b or b==c:\n",
        "        print(f'{a,b,c} ➞ {2}')\n",
        "    else:\n",
        "        print(f'{a,b,c} ➞ {0}')\n",
        "\n",
        "equal(3, 4, 3)\n",
        "equal(1, 1, 1)\n",
        "equal(3, 4, 1)"
      ]
    },
    {
      "cell_type": "markdown",
      "source": [
        "\n",
        "\n",
        "---\n",
        "\n"
      ],
      "metadata": {
        "id": "VR2OSPfxfvVd"
      },
      "id": "VR2OSPfxfvVd"
    },
    {
      "cell_type": "markdown",
      "id": "3a880d02",
      "metadata": {
        "id": "3a880d02"
      },
      "source": [
        "#### 2.Write a function that converts a dictionary into a list of keys-values tuples.\n",
        "**Examples:**  \n",
        "`dict_to_list({\n",
        "    \"D\": 1,\n",
        "    \"B\": 2,\n",
        "    \"C\": 3\n",
        "    }) ➞ [(\"B\", 2), (\"C\", 3), (\"D\", 1)]  \n",
        "dict_to_list({\n",
        "    \"likes\": 2,\n",
        "    \"dislikes\": 3,\n",
        "    \"followers\": 10\n",
        "    }) ➞ [(\"dislikes\", 3), (\"followers\", 10), (\"likes\", 2)]`\n",
        "\n",
        "**Notes:**  \n",
        "Return the elements in the list in alphabetical order."
      ]
    },
    {
      "cell_type": "code",
      "execution_count": 2,
      "id": "2470a4da",
      "metadata": {
        "colab": {
          "base_uri": "https://localhost:8080/"
        },
        "id": "2470a4da",
        "outputId": "a8b47561-adf1-42a1-da42-97703b29530c"
      },
      "outputs": [
        {
          "output_type": "stream",
          "name": "stdout",
          "text": [
            "{'D': 1, 'B': 2, 'C': 3} ➞ [('D', 1), ('B', 2), ('C', 3)]\n",
            "{'likes': 2, 'dislikes': 3, 'followers': 10} ➞ [('likes', 2), ('dislikes', 3), ('followers', 10)]\n"
          ]
        }
      ],
      "source": [
        "def dict_to_list(in_dict):\n",
        "    out_list = []\n",
        "    for keys,values in in_dict.items():\n",
        "        out_list.append((keys,values))\n",
        "    print(f'{in_dict} ➞ {out_list}')\n",
        "                   \n",
        "dict_to_list({\"D\": 1,\"B\": 2,\"C\": 3})\n",
        "dict_to_list({\"likes\": 2,\"dislikes\": 3,\"followers\": 10})"
      ]
    },
    {
      "cell_type": "markdown",
      "source": [
        "\n",
        "\n",
        "---\n",
        "\n"
      ],
      "metadata": {
        "id": "GpKhurh7fw7A"
      },
      "id": "GpKhurh7fw7A"
    },
    {
      "cell_type": "markdown",
      "id": "440aa907",
      "metadata": {
        "id": "440aa907"
      },
      "source": [
        "#### 3.Write a function that creates a dictionary with each (key, value) pair being the (lower case, upper case) versions of a letter, respectively.\n",
        "**Examples:**  \n",
        "`mapping([\"p\", \"s\"]) ➞ { \"p\": \"P\", \"s\": \"S\" }`  \n",
        "`mapping([\"a\", \"b\", \"c\"]) ➞ { \"a\": \"A\", \"b\": \"B\", \"c\": \"C\" }`  \n",
        "`mapping([\"a\", \"v\", \"y\", \"z\"]) ➞ { \"a\": \"A\", \"v\": \"V\", \"y\": \"Y\", \"z\": \"Z\" }`  \n",
        "\n",
        "**Notes:**  \n",
        "All of the letters in the input list will always be lowercase."
      ]
    },
    {
      "cell_type": "code",
      "execution_count": 3,
      "id": "0150a479",
      "metadata": {
        "colab": {
          "base_uri": "https://localhost:8080/"
        },
        "id": "0150a479",
        "outputId": "d796260a-b453-4943-edfc-ec69f0b0f74c"
      },
      "outputs": [
        {
          "output_type": "stream",
          "name": "stdout",
          "text": [
            "['p', 's'] ➞ {'p': 'P', 's': 'S'}\n",
            "['a', 'b', 'c'] ➞ {'a': 'A', 'b': 'B', 'c': 'C'}\n",
            "['a', 'v', 'y', 'z'] ➞ {'a': 'A', 'v': 'V', 'y': 'Y', 'z': 'Z'}\n"
          ]
        }
      ],
      "source": [
        "def mapping(in_list):\n",
        "    out_dict = {}\n",
        "    for ele in in_list:\n",
        "        out_dict[ele] = ele.upper()\n",
        "    print(f'{in_list} ➞ {out_dict}')\n",
        "    \n",
        "mapping([\"p\", \"s\"])\n",
        "mapping([\"a\", \"b\", \"c\"])\n",
        "mapping([\"a\", \"v\", \"y\", \"z\"])"
      ]
    },
    {
      "cell_type": "markdown",
      "source": [
        "\n",
        "\n",
        "---\n",
        "\n"
      ],
      "metadata": {
        "id": "JNhJ-PrSfyR8"
      },
      "id": "JNhJ-PrSfyR8"
    },
    {
      "cell_type": "markdown",
      "id": "e35b45e5",
      "metadata": {
        "id": "e35b45e5"
      },
      "source": [
        "#### 4.Write a function, that replaces all vowels in a string with a specified vowel.\n",
        "**Examples:**  \n",
        "`vow_replace(\"apples and bananas\", \"u\") ➞ \"upplus und bununus\"`  \n",
        "`vow_replace(\"cheese casserole\", \"o\") ➞ \"chooso cossorolo\"`  \n",
        "`vow_replace(\"stuffed jalapeno poppers\", \"e\") ➞ \"steffed jelepene peppers\"`  \n",
        "\n",
        "**Notes:**   \n",
        "All words will be lowercase. Y is not considered a vowel."
      ]
    },
    {
      "cell_type": "code",
      "execution_count": 4,
      "id": "f29523dc",
      "metadata": {
        "colab": {
          "base_uri": "https://localhost:8080/"
        },
        "id": "f29523dc",
        "outputId": "40d2d180-4b64-42b7-849d-34274c7a2616"
      },
      "outputs": [
        {
          "output_type": "stream",
          "name": "stdout",
          "text": [
            "apples and bananas ➞ upplus und bununus\n",
            "cheese casserole ➞ chooso cossorolo\n",
            "stuffed jalapeno poppers ➞ steffed jelepene peppers\n"
          ]
        }
      ],
      "source": [
        "def vow_replace(in_string,vow_char):\n",
        "    vowels = ['a','e','i','o','u']\n",
        "    out_string = ''\n",
        "    for ele in in_string:\n",
        "        if ele in vowels:\n",
        "            out_string += vow_char\n",
        "        else:\n",
        "            out_string += ele\n",
        "    print(f'{in_string} ➞ {out_string}')\n",
        "        \n",
        "vow_replace(\"apples and bananas\", \"u\")\n",
        "vow_replace(\"cheese casserole\", \"o\")\n",
        "vow_replace(\"stuffed jalapeno poppers\", \"e\")"
      ]
    },
    {
      "cell_type": "markdown",
      "source": [
        "\n",
        "\n",
        "---\n",
        "\n"
      ],
      "metadata": {
        "id": "8CsF4nnBfzxW"
      },
      "id": "8CsF4nnBfzxW"
    },
    {
      "cell_type": "markdown",
      "id": "71a67c59",
      "metadata": {
        "id": "71a67c59"
      },
      "source": [
        "#### 5.Create a function that takes a string as input and capitalizes a letter if its ASCII code is even and returns its lower case version if its ASCII code is odd.\n",
        "**Examples:**  \n",
        "`ascii_capitalize(\"to be or not to be!\") ➞ \"To Be oR NoT To Be!\"`  \n",
        "`ascii_capitalize(\"THE LITTLE MERMAID\") ➞ \"THe LiTTLe meRmaiD\"`  \n",
        "`ascii_capitalize(\"Oh what a beautiful morning.\") ➞ \"oH wHaT a BeauTiFuL moRNiNg.\"`  "
      ]
    },
    {
      "cell_type": "code",
      "execution_count": 5,
      "id": "6afe0c64",
      "metadata": {
        "colab": {
          "base_uri": "https://localhost:8080/"
        },
        "id": "6afe0c64",
        "outputId": "f0111202-4452-456c-cf78-f3faac0d89e2"
      },
      "outputs": [
        {
          "output_type": "stream",
          "name": "stdout",
          "text": [
            "to be or not to be! ➞ To Be oR NoT To Be!\n",
            "THE LITTLE MERMAID ➞ THe LiTTLe meRmaiD\n",
            "Oh what a beautiful morning. ➞ oH wHaT a BeauTiFuL moRNiNg.\n"
          ]
        }
      ],
      "source": [
        "def ascii_capitalize(in_string):\n",
        "    out_string = ''\n",
        "    for ele in in_string.lower():\n",
        "        if (ord(ele)%2 == 0):\n",
        "            out_string += ele.upper()\n",
        "        else:\n",
        "            out_string += ele\n",
        "    print(f'{in_string} ➞ {out_string}')\n",
        "        \n",
        "ascii_capitalize(\"to be or not to be!\")\n",
        "ascii_capitalize(\"THE LITTLE MERMAID\")\n",
        "ascii_capitalize(\"Oh what a beautiful morning.\")"
      ]
    }
  ],
  "metadata": {
    "kernelspec": {
      "display_name": "Python 3",
      "language": "python",
      "name": "python3"
    },
    "language_info": {
      "codemirror_mode": {
        "name": "ipython",
        "version": 3
      },
      "file_extension": ".py",
      "mimetype": "text/x-python",
      "name": "python",
      "nbconvert_exporter": "python",
      "pygments_lexer": "ipython3",
      "version": "3.8.8"
    },
    "colab": {
      "name": "DSM_Programming Assignment_25.ipynb",
      "provenance": [],
      "include_colab_link": true
    }
  },
  "nbformat": 4,
  "nbformat_minor": 5
}