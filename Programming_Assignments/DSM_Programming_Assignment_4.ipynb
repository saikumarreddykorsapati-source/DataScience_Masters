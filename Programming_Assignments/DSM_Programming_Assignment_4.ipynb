{
  "cells": [
    {
      "cell_type": "markdown",
      "metadata": {
        "id": "view-in-github",
        "colab_type": "text"
      },
      "source": [
        "<a href=\"https://colab.research.google.com/github/saikumarreddykorsapati-source/DataScience_Masters_Assignments/blob/main/Programming_Assignments/DSM_Programming_Assignment_4.ipynb\" target=\"_parent\"><img src=\"https://colab.research.google.com/assets/colab-badge.svg\" alt=\"Open In Colab\"/></a>"
      ]
    },
    {
      "cell_type": "markdown",
      "metadata": {
        "id": "1DyzSQ3jIstw"
      },
      "source": [
        "#### 1.Write a Python Program to find the factorial of a number ?"
      ]
    },
    {
      "cell_type": "code",
      "execution_count": 1,
      "metadata": {
        "colab": {
          "base_uri": "https://localhost:8080/"
        },
        "id": "h9h9eGIuIstx",
        "outputId": "4839bbfd-ebf2-4ce5-aae7-3a85fcc7fe22"
      },
      "outputs": [
        {
          "output_type": "stream",
          "name": "stdout",
          "text": [
            "Enter a number: 3\n",
            "The Factorial of 3 is 6\n"
          ]
        }
      ],
      "source": [
        "def factorial(num):\n",
        "    if (num < 1):\n",
        "        return 1\n",
        "    else:\n",
        "        return num*factorial(num-1)\n",
        "num = int(input('Enter a number: '))\n",
        "value = factorial(num)\n",
        "print(f'The Factorial of {num} is {value}')"
      ]
    },
    {
      "cell_type": "markdown",
      "source": [
        "\n",
        "\n",
        "---\n",
        "\n"
      ],
      "metadata": {
        "id": "g2cf3Xh8Iuqz"
      }
    },
    {
      "cell_type": "markdown",
      "metadata": {
        "id": "wzD2uovEIst0"
      },
      "source": [
        "#### 2.Write a Python Program to display the multiplication table ?"
      ]
    },
    {
      "cell_type": "code",
      "execution_count": 7,
      "metadata": {
        "colab": {
          "base_uri": "https://localhost:8080/"
        },
        "id": "95bGFCeaIst2",
        "outputId": "bb3f2747-ee9d-44a4-f0b2-5898171d7c9c"
      },
      "outputs": [
        {
          "output_type": "stream",
          "name": "stdout",
          "text": [
            "Enter a number: 5\n",
            "Enter no of entries: 10\n",
            "5 X 1 = 5\n",
            "5 X 2 = 10\n",
            "5 X 3 = 15\n",
            "5 X 4 = 20\n",
            "5 X 5 = 25\n",
            "5 X 6 = 30\n",
            "5 X 7 = 35\n",
            "5 X 8 = 40\n",
            "5 X 9 = 45\n",
            "5 X 10 = 50\n"
          ]
        }
      ],
      "source": [
        "def generateTable(base,entries):\n",
        "    for x in range(1,entries+1):\n",
        "        print(f'{base} X {x} = {base*x}')\n",
        "\n",
        "num = int(input('Enter a number: '))\n",
        "values = int(input('Enter no of entries: '))\n",
        "generateTable(num,values)"
      ]
    },
    {
      "cell_type": "markdown",
      "source": [
        "\n",
        "\n",
        "---\n",
        "\n"
      ],
      "metadata": {
        "id": "xz29q1kRIzwa"
      }
    },
    {
      "cell_type": "markdown",
      "metadata": {
        "id": "AbmMVMPSIst3"
      },
      "source": [
        "#### 3.Write a Python Program to print the fibonacci sequence ?"
      ]
    },
    {
      "cell_type": "code",
      "execution_count": 3,
      "metadata": {
        "colab": {
          "base_uri": "https://localhost:8080/"
        },
        "id": "ViTj3IMXIst5",
        "outputId": "7fcf98ff-5e58-4add-83f2-e082dd491d2c"
      },
      "outputs": [
        {
          "output_type": "stream",
          "name": "stdout",
          "text": [
            "Enter the no of fibonacci sequences you want? 33\n",
            "The First 33 fibonacci series are:  [0, 1, 1, 2, 3, 5, 8, 13, 21, 34, 55, 89, 144, 233, 377, 610, 987, 1597, 2584, 4181, 6765, 10946, 17711, 28657, 46368, 75025, 121393, 196418, 317811, 514229, 832040, 1346269, 2178309]\n"
          ]
        }
      ],
      "source": [
        "s_count = int(input('Enter the no of fibonacci sequences you want? '))\n",
        "initial_list = [0,1]\n",
        "if s_count < 0:\n",
        "    print('Fibonacci Numbers are not available for Negative Numbers')\n",
        "elif s_count <= 2 and s_count >= 0:\n",
        "    print(initial_list)\n",
        "else:\n",
        "    for ins in range(s_count):\n",
        "        if ins >= 2:\n",
        "            initial_list.append(initial_list[ins-1]+initial_list[ins-2])\n",
        "    print(f'The First {s_count} fibonacci series are: ',initial_list)"
      ]
    },
    {
      "cell_type": "markdown",
      "source": [
        "\n",
        "\n",
        "---\n",
        "\n"
      ],
      "metadata": {
        "id": "wTD3B0tOI08d"
      }
    },
    {
      "cell_type": "markdown",
      "metadata": {
        "id": "tKDiD1K2Ist6"
      },
      "source": [
        "#### 4.Write a Python Program to check Armstrong number ?"
      ]
    },
    {
      "cell_type": "code",
      "execution_count": 4,
      "metadata": {
        "colab": {
          "base_uri": "https://localhost:8080/"
        },
        "id": "DAMLnBOqIst8",
        "outputId": "0df95581-863f-4808-c18f-e8d4b84fde6e"
      },
      "outputs": [
        {
          "output_type": "stream",
          "name": "stdout",
          "text": [
            "Enter a number: 20\n",
            "20 is a Not Armstrong Number\n",
            "Enter a number: 123\n",
            "123 is a Not Armstrong Number\n"
          ]
        }
      ],
      "source": [
        "def checkArmstrongNumber():\n",
        "    in_num = input('Enter a number: ')\n",
        "    sum = 0\n",
        "    for char in range(len(in_num)):\n",
        "        sum = sum + pow(int(in_num[char]),3)\n",
        "    if sum == int(in_num):\n",
        "        print(f'{in_num} is a Armstrong Number')\n",
        "    else:\n",
        "        print(f'{in_num} is a Not Armstrong Number')\n",
        "\n",
        "for x in range(2):\n",
        "    checkArmstrongNumber()"
      ]
    },
    {
      "cell_type": "markdown",
      "source": [
        "\n",
        "\n",
        "---\n",
        "\n"
      ],
      "metadata": {
        "id": "Vx_71HOiI2NY"
      }
    },
    {
      "cell_type": "markdown",
      "metadata": {
        "id": "jw7cMbL8Ist-"
      },
      "source": [
        "#### 5.Write a Python Program to Find Armstrong number in an interval ?"
      ]
    },
    {
      "cell_type": "code",
      "execution_count": 5,
      "metadata": {
        "colab": {
          "base_uri": "https://localhost:8080/"
        },
        "id": "VjauwV1bIst_",
        "outputId": "6ac73534-c9e3-4317-ad5c-d6f50360b3fa"
      },
      "outputs": [
        {
          "output_type": "stream",
          "name": "stdout",
          "text": [
            "Enter the Start of the Interval: 1\n",
            "Enter the End of the Interval: 500\n",
            "The Armstrong numbers between 1 and 500 are [1, 153, 370, 371, 407]\n"
          ]
        }
      ],
      "source": [
        "def checkArmstrongNumber(in_num, storage):\n",
        "    sum = 0\n",
        "    for char in range(len(in_num)):\n",
        "        sum = sum + pow(int(in_num[char]),3)\n",
        "    if sum == int(in_num):\n",
        "        storage.append(int(in_num))\n",
        "\n",
        "start_interval = int(input('Enter the Start of the Interval: '))\n",
        "end_interval = int(input('Enter the End of the Interval: '))\n",
        "list_of_armstrong = []\n",
        "\n",
        "if start_interval > end_interval:\n",
        "    print(\"Start Interval Cannot be Greater than End Interval\")\n",
        "else:\n",
        "    for number in range(start_interval,end_interval+1):\n",
        "        checkArmstrongNumber(str(number),list_of_armstrong)\n",
        "    print(f'The Armstrong numbers between {start_interval} and {end_interval} are {list_of_armstrong}')\n"
      ]
    },
    {
      "cell_type": "markdown",
      "source": [
        "\n",
        "\n",
        "---\n",
        "\n"
      ],
      "metadata": {
        "id": "TvefEHl1I3nY"
      }
    },
    {
      "cell_type": "markdown",
      "metadata": {
        "id": "tuq6mWtfIsuB"
      },
      "source": [
        "#### 6.Write a Python Program to sum of natural numbers ?"
      ]
    },
    {
      "cell_type": "code",
      "execution_count": 6,
      "metadata": {
        "colab": {
          "base_uri": "https://localhost:8080/"
        },
        "id": "pyQpbftBIsuC",
        "outputId": "e6f2b1e8-45ad-49ff-9527-a4a83a09d6a5"
      },
      "outputs": [
        {
          "output_type": "stream",
          "name": "stdout",
          "text": [
            "Enter a number: 50\n",
            "Sum of 50 natural numbers is 1275.0\n"
          ]
        }
      ],
      "source": [
        "def sumOfNaturalNumbers(num):\n",
        "    sum = num*((num+1)/2)\n",
        "    print(f'Sum of {num} natural numbers is {sum}')\n",
        "    \n",
        "num = int(input('Enter a number: '))\n",
        "sumOfNaturalNumbers(num)"
      ]
    }
  ],
  "metadata": {
    "kernelspec": {
      "display_name": "Python 3",
      "language": "python",
      "name": "python3"
    },
    "language_info": {
      "codemirror_mode": {
        "name": "ipython",
        "version": 3
      },
      "file_extension": ".py",
      "mimetype": "text/x-python",
      "name": "python",
      "nbconvert_exporter": "python",
      "pygments_lexer": "ipython3",
      "version": "3.8.8"
    },
    "colab": {
      "name": "DSM_Programming Assignment_4.ipynb",
      "provenance": [],
      "include_colab_link": true
    }
  },
  "nbformat": 4,
  "nbformat_minor": 0
}