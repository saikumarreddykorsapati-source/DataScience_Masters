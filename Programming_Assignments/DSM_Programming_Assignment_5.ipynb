{
  "cells": [
    {
      "cell_type": "markdown",
      "metadata": {
        "id": "view-in-github",
        "colab_type": "text"
      },
      "source": [
        "<a href=\"https://colab.research.google.com/github/saikumarreddykorsapati-source/DataScience_Masters_Assignments/blob/main/Programming_Assignments/DSM_Programming_Assignment_5.ipynb\" target=\"_parent\"><img src=\"https://colab.research.google.com/assets/colab-badge.svg\" alt=\"Open In Colab\"/></a>"
      ]
    },
    {
      "cell_type": "markdown",
      "id": "901748b2",
      "metadata": {
        "id": "901748b2"
      },
      "source": [
        "#### 1. Write a Python Program to find LCM ?"
      ]
    },
    {
      "cell_type": "code",
      "execution_count": 1,
      "id": "91140999",
      "metadata": {
        "colab": {
          "base_uri": "https://localhost:8080/"
        },
        "id": "91140999",
        "outputId": "e69becea-4dee-49e4-c71d-2f567a8ab524"
      },
      "outputs": [
        {
          "output_type": "stream",
          "name": "stdout",
          "text": [
            "The LCM of 3,6 is 6\n",
            "The LCM of 5,2 is 10\n",
            "The LCM of 5,100 is 100\n"
          ]
        }
      ],
      "source": [
        "def findTheLcm(x_term,y_term):\n",
        "    if x_term > y_term:\n",
        "        greater = x_term\n",
        "    else:\n",
        "        greater = x_term\n",
        "    while True:\n",
        "        if((greater%x_term == 0) and (greater%y_term == 0)):\n",
        "            lcm = greater\n",
        "            break\n",
        "        else:\n",
        "            greater +=1\n",
        "    print(f'The LCM of {x_term},{y_term} is {lcm}')\n",
        "\n",
        "findTheLcm(3,6)\n",
        "findTheLcm(5,2)\n",
        "findTheLcm(5,100)"
      ]
    },
    {
      "cell_type": "markdown",
      "source": [
        "\n",
        "\n",
        "---\n",
        "\n"
      ],
      "metadata": {
        "id": "e1lR_4doJ8Bp"
      },
      "id": "e1lR_4doJ8Bp"
    },
    {
      "cell_type": "markdown",
      "id": "5998fa74",
      "metadata": {
        "id": "5998fa74"
      },
      "source": [
        "#### 2. Write a Python Program to find HCF ?"
      ]
    },
    {
      "cell_type": "code",
      "execution_count": 2,
      "id": "352d08d9",
      "metadata": {
        "colab": {
          "base_uri": "https://localhost:8080/"
        },
        "id": "352d08d9",
        "outputId": "0cf3914e-cd08-4b4a-9daf-5394d99cc14b"
      },
      "outputs": [
        {
          "output_type": "stream",
          "name": "stdout",
          "text": [
            "The HCF of 6,12 is 6\n",
            "The HCF of 2,3 is 1\n",
            "The HCF of 10,23 is 1\n"
          ]
        }
      ],
      "source": [
        "def findTheHcf(x_term,y_term):\n",
        "    if x_term>y_term:\n",
        "        smaller = y_term\n",
        "    else:\n",
        "        smaller = x_term\n",
        "    for ele in range(1,smaller+1):\n",
        "        if((x_term%ele == 0) and (y_term%ele == 0)):\n",
        "            hcf = ele\n",
        "    print(f'The HCF of {x_term},{y_term} is {hcf}')\n",
        "\n",
        "findTheHcf(6,12)\n",
        "findTheHcf(2,3)\n",
        "findTheHcf(10,23)"
      ]
    },
    {
      "cell_type": "markdown",
      "source": [
        "\n",
        "\n",
        "---\n",
        "\n"
      ],
      "metadata": {
        "id": "7jPbxur2J9NC"
      },
      "id": "7jPbxur2J9NC"
    },
    {
      "cell_type": "markdown",
      "id": "f29f8214",
      "metadata": {
        "id": "f29f8214"
      },
      "source": [
        "#### 3. Write a Python Program to Convert Decimal to Binary, Octal and Hexadecimal ?"
      ]
    },
    {
      "cell_type": "code",
      "execution_count": 3,
      "id": "53212645",
      "metadata": {
        "colab": {
          "base_uri": "https://localhost:8080/"
        },
        "id": "53212645",
        "outputId": "74b7df55-f56d-428b-c75a-44b26c14f58e"
      },
      "outputs": [
        {
          "output_type": "stream",
          "name": "stdout",
          "text": [
            "Enter a Number: 525\n",
            "Binary Number -> 0b1000001101\n",
            "Octal Number -> 0o1015\n",
            "Hexadecimal Number -> 0x20d\n"
          ]
        }
      ],
      "source": [
        "def DecimalToOther():\n",
        "    num = int(input('Enter a Number: '))\n",
        "    print(f'Binary Number -> {bin(num)}')\n",
        "    print(f'Octal Number -> {oct(num)}')    \n",
        "    print(f'Hexadecimal Number -> {hex(num)}')    \n",
        "\n",
        "DecimalToOther()"
      ]
    },
    {
      "cell_type": "markdown",
      "source": [
        "\n",
        "\n",
        "---\n",
        "\n"
      ],
      "metadata": {
        "id": "pmXXIb1ZJ-Rb"
      },
      "id": "pmXXIb1ZJ-Rb"
    },
    {
      "cell_type": "markdown",
      "id": "1a4ed424",
      "metadata": {
        "id": "1a4ed424"
      },
      "source": [
        "#### 4. Write a Python Program to Find the ASCII value of  a Character ?"
      ]
    },
    {
      "cell_type": "code",
      "execution_count": 4,
      "id": "8173265f",
      "metadata": {
        "colab": {
          "base_uri": "https://localhost:8080/"
        },
        "id": "8173265f",
        "outputId": "f5351464-f7dd-44c5-918e-c9c6b6dff1be"
      },
      "outputs": [
        {
          "output_type": "stream",
          "name": "stdout",
          "text": [
            "Enter a Character: *\n",
            "Ascii Character of * is 42\n"
          ]
        }
      ],
      "source": [
        "def charToAscii():\n",
        "    char = input('Enter a Character: ')\n",
        "    if len(char) > 1:\n",
        "        print('Please Enter a Single Character')\n",
        "    else:\n",
        "        print(f'Ascii Character of {char} is {ord(char)}')\n",
        "\n",
        "charToAscii()"
      ]
    },
    {
      "cell_type": "markdown",
      "source": [
        "\n",
        "\n",
        "---\n",
        "\n"
      ],
      "metadata": {
        "id": "ouvYZDcRJ_IV"
      },
      "id": "ouvYZDcRJ_IV"
    },
    {
      "cell_type": "markdown",
      "id": "e9f467f1",
      "metadata": {
        "id": "e9f467f1"
      },
      "source": [
        "#### 5. Write a Python Program to Make a Simple Calculator with 4 Basic Mathematical operations ?"
      ]
    },
    {
      "cell_type": "code",
      "execution_count": 5,
      "id": "846d7a21",
      "metadata": {
        "colab": {
          "base_uri": "https://localhost:8080/"
        },
        "id": "846d7a21",
        "outputId": "aa5fa1e7-a0c6-4039-dbd7-5c62dbe94a28"
      },
      "outputs": [
        {
          "output_type": "stream",
          "name": "stdout",
          "text": [
            "Select a Arithmetic Operation:         \n",
            "1.Addition(+)        \n",
            "2.Division(-)        \n",
            "2.Multiplication(*)        \n",
            "4.Division(/)        \n",
            "3.Stop(0)\n",
            "\n",
            "Enter a arithmetic operation -> +\n",
            "\n",
            "Enter 1st Number: 23\n",
            "Enter 2nd Number: 32\n",
            "23+32=55\n",
            "\n",
            "Enter a arithmetic operation -> -\n",
            "\n",
            "Enter 1st Number: 23\n",
            "Enter 2nd Number: 32\n",
            "23-32=-9\n",
            "\n",
            "Enter a arithmetic operation -> /\n",
            "\n",
            "Enter 1st Number: 33\n",
            "Enter 2nd Number: 33\n",
            "33/33=1.0\n",
            "\n",
            "Enter a arithmetic operation -> 23\n",
            "Please enter a valid operator\n",
            "Enter a arithmetic operation -> *\n",
            "\n",
            "Enter 1st Number: 22\n",
            "Enter 2nd Number: 4\n",
            "22*4=88\n",
            "\n",
            "Enter a arithmetic operation -> 0\n",
            "Program Stopped successfully\n"
          ]
        }
      ],
      "source": [
        "import operator\n",
        "\n",
        "ops = { \"+\": operator.add, \"-\": operator.sub, \"*\":operator.mul, \"/\":operator.truediv } \n",
        "\n",
        "print('Select a Arithmetic Operation: \\\n",
        "        \\n1.Addition(+)\\\n",
        "        \\n2.Division(-)\\\n",
        "        \\n2.Multiplication(*)\\\n",
        "        \\n4.Division(/)\\\n",
        "        \\n3.Stop(0)\\n')\n",
        "   \n",
        "\n",
        "while True:\n",
        "    operator = input('Enter a arithmetic operation -> ')\n",
        "    if operator == '0':\n",
        "        print(\"Program Stopped successfully\")\n",
        "        break\n",
        "    elif operator not in ['+','-','*','/']:\n",
        "        print(\"Please enter a valid operator\")\n",
        "    else:\n",
        "        num_1 = int(input('\\nEnter 1st Number: '))\n",
        "        num_2 = int(input('Enter 2nd Number: '))\n",
        "        print(f'{num_1}{operator}{num_2}={ops[operator](num_1,num_2)}\\n')"
      ]
    }
  ],
  "metadata": {
    "kernelspec": {
      "display_name": "Python 3",
      "language": "python",
      "name": "python3"
    },
    "language_info": {
      "codemirror_mode": {
        "name": "ipython",
        "version": 3
      },
      "file_extension": ".py",
      "mimetype": "text/x-python",
      "name": "python",
      "nbconvert_exporter": "python",
      "pygments_lexer": "ipython3",
      "version": "3.8.8"
    },
    "colab": {
      "name": "DSM_Programming Assignment_5.ipynb",
      "provenance": [],
      "include_colab_link": true
    }
  },
  "nbformat": 4,
  "nbformat_minor": 5
}