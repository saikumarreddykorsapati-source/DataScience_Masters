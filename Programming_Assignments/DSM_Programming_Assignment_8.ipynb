{
  "cells": [
    {
      "cell_type": "markdown",
      "metadata": {
        "id": "view-in-github",
        "colab_type": "text"
      },
      "source": [
        "<a href=\"https://colab.research.google.com/github/saikumarreddykorsapati-source/DataScience_Masters_Assignments/blob/main/Programming_Assignments/DSM_Programming_Assignment_8.ipynb\" target=\"_parent\"><img src=\"https://colab.research.google.com/assets/colab-badge.svg\" alt=\"Open In Colab\"/></a>"
      ]
    },
    {
      "cell_type": "markdown",
      "id": "823845d3",
      "metadata": {
        "id": "823845d3"
      },
      "source": [
        "#### 1. Write a Python Program to Add two Matrices ?"
      ]
    },
    {
      "cell_type": "code",
      "execution_count": 1,
      "id": "6dd2fd5c",
      "metadata": {
        "colab": {
          "base_uri": "https://localhost:8080/"
        },
        "id": "6dd2fd5c",
        "outputId": "ee74710d-56b0-47db-ea12-0097c930f1c9"
      },
      "outputs": [
        {
          "output_type": "stream",
          "name": "stdout",
          "text": [
            "Inputs: [[1, 2, 3], [4, 5, 6], [7, 8, 9]],[[9, 8, 7], [6, 5, 4], [3, 2, 1]]\n",
            "Output: [[10, 10, 10], [10, 10, 10], [10, 10, 10]]\n",
            "Inputs: [[2, 3, 5], [1, 1, 1], [2, 2, 2]],[[4, 3, 5], [1, 2, 3], [3, 2, 1]]\n",
            "Output: [[6, 6, 10], [2, 3, 4], [5, 4, 3]]\n"
          ]
        }
      ],
      "source": [
        "def addMatrices(a,b):\n",
        "    print(f'Inputs: {a},{b}')\n",
        "    if len(a) == len(b):\n",
        "        out_matrix = []\n",
        "        for ele in range(len(a)):\n",
        "            if len(a[ele]) == len(b[ele]):\n",
        "                out_matrix.append([])\n",
        "                for sub_ele in range(len(a[ele])):\n",
        "                    out_matrix[ele].append(a[ele][sub_ele]+b[ele][sub_ele])\n",
        "            else:\n",
        "                print('Both Matrices must contains same no of rows and columns') \n",
        "    else:\n",
        "        print('Both Matrices must contains same no of rows and columns')\n",
        "    print(f'Output: {out_matrix}')\n",
        "\n",
        "addMatrices([[1,2,3],[4,5,6],[7,8,9]],[[9,8,7],[6,5,4],[3,2,1]])\n",
        "addMatrices([[2,3,5],[1,1,1],[2,2,2]],[[4,3,5],[1,2,3],[3,2,1]])"
      ]
    },
    {
      "cell_type": "markdown",
      "source": [
        "\n",
        "\n",
        "---\n",
        "\n"
      ],
      "metadata": {
        "id": "JSDFeBh1L1ZH"
      },
      "id": "JSDFeBh1L1ZH"
    },
    {
      "cell_type": "markdown",
      "id": "9e6c1983",
      "metadata": {
        "id": "9e6c1983"
      },
      "source": [
        "#### 2. Write a Python Program to Multiply two Matrices ?"
      ]
    },
    {
      "cell_type": "code",
      "execution_count": 2,
      "id": "e5c57cb3",
      "metadata": {
        "colab": {
          "base_uri": "https://localhost:8080/"
        },
        "id": "e5c57cb3",
        "outputId": "e1dc3af6-1ff5-4e74-9500-670d210ecc65"
      },
      "outputs": [
        {
          "output_type": "stream",
          "name": "stdout",
          "text": [
            "[[14, 32, 50], [32, 77, 122], [50, 122, 194]]\n"
          ]
        }
      ],
      "source": [
        "a = [[1,2,3],[4,5,6],[7,8,9]]\n",
        "b = [[1,4,7],[2,5,8],[3,6,9]]\n",
        "\n",
        "def multiply_matrice(a,b):\n",
        "    output = []\n",
        "    if len(a[0]) == len(b):\n",
        "        for ele in range(len(a[0])):\n",
        "            output.append([0 for ele in range(len(b[0]))])\n",
        "        for i in range(len(a)):\n",
        "            for j in range(len(b[0])):\n",
        "                for k in range(len(b)):\n",
        "                    output[i][j] += a[i][k]*b[k][j]\n",
        "        print(output)     \n",
        "    else:\n",
        "        print('Matrix Multiplication is Not Possible')\n",
        "        \n",
        "multiply_matrice(a,b)"
      ]
    },
    {
      "cell_type": "markdown",
      "source": [
        "\n",
        "\n",
        "---\n",
        "\n"
      ],
      "metadata": {
        "id": "7mGhYmZTL2zB"
      },
      "id": "7mGhYmZTL2zB"
    },
    {
      "cell_type": "markdown",
      "id": "c2705b7d",
      "metadata": {
        "id": "c2705b7d"
      },
      "source": [
        "#### 3. Write a Python Program to transpose a Matrix ?"
      ]
    },
    {
      "cell_type": "code",
      "execution_count": 3,
      "id": "08afb7ff",
      "metadata": {
        "colab": {
          "base_uri": "https://localhost:8080/"
        },
        "id": "08afb7ff",
        "outputId": "05514457-6c25-4d0d-f347-015f7b8f805d"
      },
      "outputs": [
        {
          "output_type": "stream",
          "name": "stdout",
          "text": [
            "[[1, 2, 3], [4, 5, 6], [7, 8, 9]] -> [[1, 4, 7], [2, 5, 8], [3, 6, 9]]\n",
            "[[1, 2], [4, 5], [7, 8]] -> [[1, 4, 7], [2, 5, 8]]\n",
            "[[1, 2, 3], [4, 5, 6]] -> [[1, 4], [2, 5], [3, 6]]\n"
          ]
        }
      ],
      "source": [
        "a = [[1,2,3],[4,5,6],[7,8,9]]\n",
        "b = [[1,2],[4,5],[7,8]]\n",
        "c = [[1,2,3],[4,5,6]]\n",
        "\n",
        "def generate_transpose(in_matrix):\n",
        "    out_matrix = []\n",
        "    for ele in range(len(in_matrix[0])):\n",
        "        out_matrix.append([0 for i in range(len(in_matrix))])\n",
        "    for i in range(len(in_matrix)):\n",
        "        for j in range(len(in_matrix[i])):\n",
        "            out_matrix[j][i] = in_matrix[i][j]\n",
        "    print(f'{in_matrix} -> {out_matrix}')\n",
        "        \n",
        "generate_transpose(a)\n",
        "generate_transpose(b)\n",
        "generate_transpose(c)"
      ]
    },
    {
      "cell_type": "markdown",
      "source": [
        "\n",
        "\n",
        "---\n",
        "\n"
      ],
      "metadata": {
        "id": "sBfWjBVIL39O"
      },
      "id": "sBfWjBVIL39O"
    },
    {
      "cell_type": "markdown",
      "id": "5b6207c1",
      "metadata": {
        "id": "5b6207c1"
      },
      "source": [
        "#### 4. Write a Python Program to sort Words in an Alphabatical Order ?"
      ]
    },
    {
      "cell_type": "code",
      "execution_count": 6,
      "id": "d6e5de3d",
      "metadata": {
        "colab": {
          "base_uri": "https://localhost:8080/"
        },
        "id": "d6e5de3d",
        "outputId": "17a0527b-873d-45f2-ec5f-2941a730379f"
      },
      "outputs": [
        {
          "output_type": "stream",
          "name": "stdout",
          "text": [
            "Enter a String: sai kumar data engineer\n",
            "Data Engineer Kumar Sai\n"
          ]
        }
      ],
      "source": [
        "def sortString():\n",
        "    in_string = input(\"Enter a String: \").title()\n",
        "    sorted_list = sorted(in_string.split(' '))\n",
        "    print(' '.join(sorted_list))\n",
        "\n",
        "sortString()"
      ]
    },
    {
      "cell_type": "markdown",
      "source": [
        "\n",
        "\n",
        "---\n",
        "\n"
      ],
      "metadata": {
        "id": "66h-xbpKL5OR"
      },
      "id": "66h-xbpKL5OR"
    },
    {
      "cell_type": "markdown",
      "id": "eb0e084d",
      "metadata": {
        "id": "eb0e084d"
      },
      "source": [
        "#### 5. Write a Python Program to remove Punctuations From a String ?"
      ]
    },
    {
      "cell_type": "code",
      "execution_count": 7,
      "id": "08c0196d",
      "metadata": {
        "colab": {
          "base_uri": "https://localhost:8080/"
        },
        "id": "08c0196d",
        "outputId": "84567b50-94ff-45fd-aea7-81c5a2ffd7fd"
      },
      "outputs": [
        {
          "output_type": "stream",
          "name": "stdout",
          "text": [
            "Enter a String: 'sai kumat\" dds\"\n",
            "sai kumat dds\n"
          ]
        }
      ],
      "source": [
        "def removePunctuatuions():\n",
        "    punctuations = '''!()-[]{};:'\"\\,<>./?@#$%^&*_~'''\n",
        "    in_string = input('Enter a String: ')\n",
        "    out_string = ''\n",
        "    for ele in in_string:\n",
        "        if ele not in punctuations:\n",
        "            out_string += ele\n",
        "    print(out_string)\n",
        "    \n",
        "removePunctuatuions()"
      ]
    }
  ],
  "metadata": {
    "kernelspec": {
      "display_name": "Python 3 (ipykernel)",
      "language": "python",
      "name": "python3"
    },
    "language_info": {
      "codemirror_mode": {
        "name": "ipython",
        "version": 3
      },
      "file_extension": ".py",
      "mimetype": "text/x-python",
      "name": "python",
      "nbconvert_exporter": "python",
      "pygments_lexer": "ipython3",
      "version": "3.8.8"
    },
    "colab": {
      "name": "DSM_Programming Assignment_8.ipynb",
      "provenance": [],
      "include_colab_link": true
    }
  },
  "nbformat": 4,
  "nbformat_minor": 5
}